{
 "cells": [
  {
   "cell_type": "markdown",
   "metadata": {},
   "source": [
    "<img src=\"http://www.ceic.org.ar/spanish/img/siisa-logo.jpg\" align='right'>"
   ]
  },
  {
   "cell_type": "markdown",
   "metadata": {},
   "source": [
    "# Validación del modelo. \n",
    "\n",
    "\n",
    "La idea principal es evaluar con métricas representativas la performance del modelo y comparalo con el anterior sin la parte de mirar en base positiva.\n",
    "\n",
    "\n",
    "\n",
    "\n",
    "$Precision = \\frac{TP}{TP+FP}$\n",
    "\n",
    "\n",
    "$Recall = \\frac{TP}{TP+FN}$\n",
    "\n",
    "\n",
    "\n",
    "$F_{1} = 2*\\frac{Precision * Recall }{Precision + Recall}$\n",
    "\n"
   ]
  },
  {
   "cell_type": "code",
   "execution_count": 1,
   "metadata": {},
   "outputs": [],
   "source": [
    "# Importo las librerias necesarias.\n",
    "import pandas as pd\n",
    "from sklearn.metrics import classification_report"
   ]
  },
  {
   "cell_type": "code",
   "execution_count": 2,
   "metadata": {},
   "outputs": [],
   "source": [
    "df = pd.read_csv('validacion_externa.csv',delimiter=';')\n",
    "# Me genero las dummies de Dexter.\n",
    "df['Dexter']=df.OpenSports.apply(lambda x: 0 if x==1 else 1)"
   ]
  },
  {
   "cell_type": "code",
   "execution_count": 3,
   "metadata": {},
   "outputs": [],
   "source": [
    "df=df.dropna()"
   ]
  },
  {
   "cell_type": "code",
   "execution_count": 4,
   "metadata": {},
   "outputs": [
    {
     "data": {
      "text/html": [
       "<div>\n",
       "<style scoped>\n",
       "    .dataframe tbody tr th:only-of-type {\n",
       "        vertical-align: middle;\n",
       "    }\n",
       "\n",
       "    .dataframe tbody tr th {\n",
       "        vertical-align: top;\n",
       "    }\n",
       "\n",
       "    .dataframe thead th {\n",
       "        text-align: right;\n",
       "    }\n",
       "</style>\n",
       "<table border=\"1\" class=\"dataframe\">\n",
       "  <thead>\n",
       "    <tr style=\"text-align: right;\">\n",
       "      <th></th>\n",
       "      <th>OpenSports</th>\n",
       "      <th>cuil</th>\n",
       "      <th>OyC_dexter</th>\n",
       "      <th>OyC_OpenSports</th>\n",
       "      <th>OyC_dexter_nueva_50</th>\n",
       "      <th>OyC_dexter_nueva_75</th>\n",
       "      <th>Dexter</th>\n",
       "    </tr>\n",
       "  </thead>\n",
       "  <tbody>\n",
       "    <tr>\n",
       "      <th>0</th>\n",
       "      <td>1</td>\n",
       "      <td>23042316784</td>\n",
       "      <td>0.0</td>\n",
       "      <td>1.0</td>\n",
       "      <td>1.0</td>\n",
       "      <td>1.0</td>\n",
       "      <td>0</td>\n",
       "    </tr>\n",
       "  </tbody>\n",
       "</table>\n",
       "</div>"
      ],
      "text/plain": [
       "   OpenSports         cuil  OyC_dexter  OyC_OpenSports  OyC_dexter_nueva_50  \\\n",
       "0           1  23042316784         0.0             1.0                  1.0   \n",
       "\n",
       "   OyC_dexter_nueva_75  Dexter  \n",
       "0                  1.0       0  "
      ]
     },
     "execution_count": 4,
     "metadata": {},
     "output_type": "execute_result"
    }
   ],
   "source": [
    "df.head(1)"
   ]
  },
  {
   "cell_type": "code",
   "execution_count": 5,
   "metadata": {},
   "outputs": [
    {
     "name": "stdout",
     "output_type": "stream",
     "text": [
      "              precision    recall  f1-score   support\n",
      "\n",
      "           0       0.54      1.00      0.70       851\n",
      "           1       1.00      0.27      0.42       995\n",
      "\n",
      "    accuracy                           0.61      1846\n",
      "   macro avg       0.77      0.63      0.56      1846\n",
      "weighted avg       0.79      0.61      0.55      1846\n",
      "\n"
     ]
    }
   ],
   "source": [
    "print(classification_report(df.OpenSports.values, df.OyC_OpenSports.values))"
   ]
  },
  {
   "cell_type": "code",
   "execution_count": 6,
   "metadata": {},
   "outputs": [
    {
     "name": "stdout",
     "output_type": "stream",
     "text": [
      "              precision    recall  f1-score   support\n",
      "\n",
      "           0       0.54      1.00      0.70       995\n",
      "           1       1.00      0.00      0.00       851\n",
      "\n",
      "    accuracy                           0.54      1846\n",
      "   macro avg       0.77      0.50      0.35      1846\n",
      "weighted avg       0.75      0.54      0.38      1846\n",
      "\n"
     ]
    }
   ],
   "source": [
    "print(classification_report(df.Dexter.values, df.OyC_dexter.values))"
   ]
  },
  {
   "cell_type": "code",
   "execution_count": 7,
   "metadata": {},
   "outputs": [
    {
     "name": "stdout",
     "output_type": "stream",
     "text": [
      "              precision    recall  f1-score   support\n",
      "\n",
      "           0       0.49      0.59      0.54       995\n",
      "           1       0.38      0.29      0.33       851\n",
      "\n",
      "    accuracy                           0.45      1846\n",
      "   macro avg       0.44      0.44      0.44      1846\n",
      "weighted avg       0.44      0.45      0.44      1846\n",
      "\n"
     ]
    }
   ],
   "source": [
    "print(classification_report(df.Dexter.values, df.OyC_dexter_nueva_50.values))"
   ]
  },
  {
   "cell_type": "code",
   "execution_count": 8,
   "metadata": {},
   "outputs": [
    {
     "name": "stdout",
     "output_type": "stream",
     "text": [
      "              precision    recall  f1-score   support\n",
      "\n",
      "           0       0.51      0.69      0.59       995\n",
      "           1       0.38      0.22      0.28       851\n",
      "\n",
      "    accuracy                           0.47      1846\n",
      "   macro avg       0.44      0.46      0.43      1846\n",
      "weighted avg       0.45      0.47      0.45      1846\n",
      "\n"
     ]
    }
   ],
   "source": [
    "print(classification_report(df.Dexter.values, df.OyC_dexter_nueva_75.values))"
   ]
  },
  {
   "cell_type": "code",
   "execution_count": 9,
   "metadata": {},
   "outputs": [],
   "source": [
    "df2=pd.read_csv('test_consultas.csv',delimiter=';')"
   ]
  },
  {
   "cell_type": "code",
   "execution_count": 10,
   "metadata": {},
   "outputs": [],
   "source": [
    "df2.fillna(0,inplace=True)"
   ]
  },
  {
   "cell_type": "code",
   "execution_count": 11,
   "metadata": {},
   "outputs": [
    {
     "data": {
      "text/plain": [
       "0.0    0.789420\n",
       "1.0    0.127095\n",
       "4.0    0.029630\n",
       "2.0    0.029156\n",
       "3.0    0.023478\n",
       "5.0    0.001189\n",
       "6.0    0.000032\n",
       "Name: maxSit, dtype: float64"
      ]
     },
     "execution_count": 11,
     "metadata": {},
     "output_type": "execute_result"
    }
   ],
   "source": [
    "df2.maxSit.value_counts(normalize=True)"
   ]
  },
  {
   "cell_type": "code",
   "execution_count": 18,
   "metadata": {},
   "outputs": [],
   "source": [
    "NOOyC=df2[(df2.maxSit==0)].sample(5000)\n",
    "OyC=df2[(df2.maxSit==1)].sample(5000)\n",
    "export = pd.concat([NOOyC,OyC], axis=0)"
   ]
  },
  {
   "cell_type": "code",
   "execution_count": 26,
   "metadata": {},
   "outputs": [
    {
     "data": {
      "text/html": [
       "<div>\n",
       "<style scoped>\n",
       "    .dataframe tbody tr th:only-of-type {\n",
       "        vertical-align: middle;\n",
       "    }\n",
       "\n",
       "    .dataframe tbody tr th {\n",
       "        vertical-align: top;\n",
       "    }\n",
       "\n",
       "    .dataframe thead th {\n",
       "        text-align: right;\n",
       "    }\n",
       "</style>\n",
       "<table border=\"1\" class=\"dataframe\">\n",
       "  <thead>\n",
       "    <tr style=\"text-align: right;\">\n",
       "      <th></th>\n",
       "      <th>cuil</th>\n",
       "      <th>IdEntidad</th>\n",
       "      <th>idBCRA</th>\n",
       "      <th>maxSit</th>\n",
       "    </tr>\n",
       "  </thead>\n",
       "  <tbody>\n",
       "    <tr>\n",
       "      <th>148929</th>\n",
       "      <td>27403475632</td>\n",
       "      <td>470</td>\n",
       "      <td>55012</td>\n",
       "      <td>0.0</td>\n",
       "    </tr>\n",
       "    <tr>\n",
       "      <th>37074</th>\n",
       "      <td>20312994861</td>\n",
       "      <td>355</td>\n",
       "      <td>55031</td>\n",
       "      <td>0.0</td>\n",
       "    </tr>\n",
       "    <tr>\n",
       "      <th>116031</th>\n",
       "      <td>27260151083</td>\n",
       "      <td>200</td>\n",
       "      <td>299</td>\n",
       "      <td>0.0</td>\n",
       "    </tr>\n",
       "    <tr>\n",
       "      <th>32112</th>\n",
       "      <td>20291165800</td>\n",
       "      <td>200</td>\n",
       "      <td>299</td>\n",
       "      <td>0.0</td>\n",
       "    </tr>\n",
       "    <tr>\n",
       "      <th>47901</th>\n",
       "      <td>20355951090</td>\n",
       "      <td>200</td>\n",
       "      <td>299</td>\n",
       "      <td>0.0</td>\n",
       "    </tr>\n",
       "  </tbody>\n",
       "</table>\n",
       "</div>"
      ],
      "text/plain": [
       "               cuil  IdEntidad  idBCRA  maxSit\n",
       "148929  27403475632        470   55012     0.0\n",
       "37074   20312994861        355   55031     0.0\n",
       "116031  27260151083        200     299     0.0\n",
       "32112   20291165800        200     299     0.0\n",
       "47901   20355951090        200     299     0.0"
      ]
     },
     "execution_count": 26,
     "metadata": {},
     "output_type": "execute_result"
    }
   ],
   "source": [
    "export.head()"
   ]
  },
  {
   "cell_type": "code",
   "execution_count": 27,
   "metadata": {},
   "outputs": [],
   "source": [
    "export.to_csv('outer_test.csv',index=False)"
   ]
  }
 ],
 "metadata": {
  "kernelspec": {
   "display_name": "Python 3",
   "language": "python",
   "name": "python3"
  },
  "language_info": {
   "codemirror_mode": {
    "name": "ipython",
    "version": 3
   },
   "file_extension": ".py",
   "mimetype": "text/x-python",
   "name": "python",
   "nbconvert_exporter": "python",
   "pygments_lexer": "ipython3",
   "version": "3.7.3"
  }
 },
 "nbformat": 4,
 "nbformat_minor": 2
}
