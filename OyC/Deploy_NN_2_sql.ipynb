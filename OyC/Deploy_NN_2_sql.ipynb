{
 "cells": [
  {
   "cell_type": "markdown",
   "metadata": {},
   "source": [
    "# Deploy del Modelo de NN para el Opera y Cumple (OyC)"
   ]
  },
  {
   "cell_type": "code",
   "execution_count": 1,
   "metadata": {},
   "outputs": [
    {
     "name": "stderr",
     "output_type": "stream",
     "text": [
      "Using TensorFlow backend.\n"
     ]
    },
    {
     "name": "stdout",
     "output_type": "stream",
     "text": [
      "WARNING:tensorflow:From C:\\Users\\elias\\Programs\\anaconda3\\envs\\siisa\\lib\\site-packages\\tensorflow\\python\\framework\\op_def_library.py:263: colocate_with (from tensorflow.python.framework.ops) is deprecated and will be removed in a future version.\n",
      "Instructions for updating:\n",
      "Colocations handled automatically by placer.\n",
      "WARNING:tensorflow:From <ipython-input-1-67cecdfcb1fa>:9: py_func (from tensorflow.python.ops.script_ops) is deprecated and will be removed in a future version.\n",
      "Instructions for updating:\n",
      "tf.py_func is deprecated in TF V2. Instead, use\n",
      "    tf.py_function, which takes a python function which manipulates tf eager\n",
      "    tensors instead of numpy arrays. It's easy to convert a tf eager tensor to\n",
      "    an ndarray (just call tensor.numpy()) but having access to eager tensors\n",
      "    means `tf.py_function`s can use accelerators such as GPUs as well as\n",
      "    being differentiable using a gradient tape.\n",
      "    \n"
     ]
    }
   ],
   "source": [
    "from numpy import loadtxt\n",
    "from keras.models import Sequential\n",
    "from keras.layers import Dense, Dropout, Activation\n",
    "from tensorflow.metrics import precision\n",
    "from keras import backend as K\n",
    "import tensorflow as tf\n",
    "from sklearn.metrics import roc_auc_score\n",
    "def auroc(y_true, y_pred):\n",
    "    return tf.py_func(roc_auc_score, (y_true, y_pred), tf.double)\n",
    "\n",
    "\n",
    "def precision_m(y_true, y_pred):\n",
    "        true_positives = K.sum(K.round(K.clip(y_true * y_pred, 0, 1)))\n",
    "        predicted_positives = K.sum(K.round(K.clip(y_pred, 0, 1)))\n",
    "        precision = true_positives / (predicted_positives + K.epsilon())\n",
    "        return precision\n",
    "# Compilo un modelo con la misma arquitectura que tenia antes. \n",
    "model = Sequential()\n",
    "model.add(Dense(500, input_dim=22, activation='relu'))\n",
    "model.add(Dense(250, activation='relu'))\n",
    "model.add(Dense(200, activation='relu'))\n",
    "model.add(Dense(125, activation='relu'))\n",
    "model.add(Dense(75, activation='relu'))\n",
    "model.add(Dense(50, activation='relu'))\n",
    "model.add(Dense(10, activation='relu'))\n",
    "model.add(Dense(1, activation='sigmoid'))\n",
    "# compile the keras model\n",
    "model.compile(loss='binary_crossentropy', optimizer='adam',metrics=[precision_m, auroc, 'accuracy'])"
   ]
  },
  {
   "cell_type": "code",
   "execution_count": 2,
   "metadata": {},
   "outputs": [],
   "source": [
    "# Cargo los pesos del mejor modelo que obtuve\n",
    "model.load_weights('model_small2-90-0.77.hdf5')"
   ]
  },
  {
   "cell_type": "code",
   "execution_count": 3,
   "metadata": {},
   "outputs": [],
   "source": [
    "# Importo todas las variables que utilice para entrenar/testear.\n",
    "import pickle\n",
    "with open('variables.pickle', 'rb') as handle:\n",
    "    scaler,X_train,X_test,y_train,y_test,X_train_std,X_test_std = pickle.load(handle)"
   ]
  },
  {
   "cell_type": "code",
   "execution_count": 4,
   "metadata": {},
   "outputs": [
    {
     "name": "stdout",
     "output_type": "stream",
     "text": [
      "1 (535.1683786294193, 306.06027527537265)\n",
      "2 (41.65613061440225, 15.712608188947394)\n",
      "3 (1.4611417489613574, 1.3010300816305989)\n",
      "4 (221.6913881083686, 363.5155868190148)\n",
      "5 (0.34456116623333216, 0.643491126587759)\n",
      "6 (375.25674388959493, 400.8660696803913)\n",
      "7 (18.02313967361945, 33.45913156034686)\n",
      "8 (73.23666281912269, 41.44399131123062)\n",
      "9 (0.2114788948610026, 0.40835716216245266)\n",
      "10 (0.3531384688329505, 0.4779452799884833)\n",
      "11 (0.5346997944090134, 0.49879447096772456)\n",
      "12 (0.3936037496065012, 0.4885487057624898)\n",
      "13 (0.08901817673052036, 0.2847699790042732)\n",
      "14 (3.946033337608382, 1.591488838772328)\n",
      "15 (9.128997130211513, 11.246478731829377)\n",
      "16 (0.18421185587644331, 0.3876568689330808)\n",
      "17 (0.2903885242142655, 0.4539416583867651)\n",
      "18 (0.2345874772159327, 0.42374071405683567)\n",
      "19 (0.46769034655100716, 0.4989549942570032)\n",
      "20 (4.152502652473505, 4.0420590141126675)\n",
      "21 (461.39345995250807, 843.1040406881012)\n",
      "22 (24.761181789778586, 17.840697153021345)\n"
     ]
    }
   ],
   "source": [
    "for m,s in enumerate(zip(scaler.mean_ ,scaler.scale_)):\n",
    "    print (m+1,s)"
   ]
  },
  {
   "cell_type": "code",
   "execution_count": 14,
   "metadata": {},
   "outputs": [
    {
     "data": {
      "text/plain": [
       "array([5.35168379e+02, 4.16561306e+01, 1.46114175e+00, 2.21691388e+02,\n",
       "       3.44561166e-01, 3.75256744e+02, 1.80231397e+01, 7.32366628e+01,\n",
       "       2.11478895e-01, 3.53138469e-01, 5.34699794e-01, 3.93603750e-01,\n",
       "       8.90181767e-02, 3.94603334e+00, 9.12899713e+00, 1.84211856e-01,\n",
       "       2.90388524e-01, 2.34587477e-01, 4.67690347e-01, 4.15250265e+00,\n",
       "       4.61393460e+02, 2.47611818e+01])"
      ]
     },
     "execution_count": 14,
     "metadata": {},
     "output_type": "execute_result"
    }
   ],
   "source": [
    "scaler.mean_\n"
   ]
  },
  {
   "cell_type": "code",
   "execution_count": 15,
   "metadata": {},
   "outputs": [
    {
     "data": {
      "text/plain": [
       "array([3.06060275e+02, 1.57126082e+01, 1.30103008e+00, 3.63515587e+02,\n",
       "       6.43491127e-01, 4.00866070e+02, 3.34591316e+01, 4.14439913e+01,\n",
       "       4.08357162e-01, 4.77945280e-01, 4.98794471e-01, 4.88548706e-01,\n",
       "       2.84769979e-01, 1.59148884e+00, 1.12464787e+01, 3.87656869e-01,\n",
       "       4.53941658e-01, 4.23740714e-01, 4.98954994e-01, 4.04205901e+00,\n",
       "       8.43104041e+02, 1.78406972e+01])"
      ]
     },
     "execution_count": 15,
     "metadata": {},
     "output_type": "execute_result"
    }
   ],
   "source": [
    "scaler.scale_"
   ]
  },
  {
   "cell_type": "code",
   "execution_count": 16,
   "metadata": {},
   "outputs": [
    {
     "data": {
      "text/plain": [
       "Index(['score', 'age', 'nconsultas', 'mesesBancarizacion', 'operaYcumple',\n",
       "       'score_enconsulta_min', 'ANTIGUEDAD_LAB', 'tiempo_interconsulta_min',\n",
       "       'JUBILADO', 'RELAC_DEP', 'usa_score', 'tieneObraSocial', 'autonomo',\n",
       "       'scorecard', 'compromiso', 'class_F', 'class_R', 'class_T', 'sex_1.0',\n",
       "       'cantBancos', 'modeloAuto', 'ingresoFilled'],\n",
       "      dtype='object')"
      ]
     },
     "execution_count": 16,
     "metadata": {},
     "output_type": "execute_result"
    }
   ],
   "source": [
    "X_train.columns"
   ]
  },
  {
   "cell_type": "code",
   "execution_count": 5,
   "metadata": {},
   "outputs": [
    {
     "name": "stdout",
     "output_type": "stream",
     "text": [
      "64327/64327 [==============================] - 6s 100us/step\n"
     ]
    },
    {
     "data": {
      "text/plain": [
       "[0.7990471227221213,\n",
       " 0.7746960794004476,\n",
       " 0.8289578081920802,\n",
       " 0.7600230074463289]"
      ]
     },
     "execution_count": 5,
     "metadata": {},
     "output_type": "execute_result"
    }
   ],
   "source": [
    "# COmputo la performance del modelo sobre el set de entremiento (loss,Precision,AUC,accuracy)\n",
    "model.evaluate(X_test_std,y_test)"
   ]
  },
  {
   "cell_type": "code",
   "execution_count": 6,
   "metadata": {},
   "outputs": [],
   "source": [
    "# Exporto el modelo como tablas de pesos y sesgos. \n",
    "def model2csv(model):\n",
    "  weights = []\n",
    "  biases = []\n",
    "  for layer in model.layers: weights.append(layer.get_weights()[0])\n",
    "  for layer in model.layers: biases.append(layer.get_weights()[1])  \n",
    "  csvW=\"\"\n",
    "  csvB=\"\"\n",
    "\n",
    "  for i in range (len(biases)):\n",
    "      for j in range(len(biases[i])):\n",
    "        csvB += str(i+1) + ',' + str(j+1) + ',' + str(biases[i][j]) + '\\n'\n",
    "\n",
    "  for i in range (len(weights)):\n",
    "    for j in range(len(weights[i])):\n",
    "      for k in range(len(weights[i][j])):\n",
    "        csvW += str(i+1) + ',' + str(k+1) + ',' + str(j+1) + ',' + str(weights[i][j][k]) + '\\n'\n",
    "  return csvW,csvB\n",
    "csvW,csvB = model2csv(model)\n",
    "\n",
    "# Exporto la Tabla de pesos\n",
    "f = open( 'weights_small.csv', 'w' )\n",
    "f.write(csvW)\n",
    "f.close()\n",
    "\n",
    "# Exporto la Tabla de sesgos\n",
    "f = open( 'biases_small.csv', 'w' )\n",
    "f.write(csvB)\n",
    "f.close()\n"
   ]
  },
  {
   "cell_type": "code",
   "execution_count": 7,
   "metadata": {},
   "outputs": [
    {
     "name": "stdout",
     "output_type": "stream",
     "text": [
      "score                       932.0\n",
      "age                          53.0\n",
      "nconsultas                    3.0\n",
      "mesesBancarizacion           32.0\n",
      "operaYcumple                  1.0\n",
      "score_enconsulta_min        920.0\n",
      "ANTIGUEDAD_LAB              128.0\n",
      "tiempo_interconsulta_min      2.0\n",
      "JUBILADO                      0.0\n",
      "RELAC_DEP                     1.0\n",
      "usa_score                     1.0\n",
      "tieneObraSocial               1.0\n",
      "autonomo                      0.0\n",
      "scorecard                     4.0\n",
      "compromiso                    5.4\n",
      "class_F                       0.0\n",
      "class_R                       0.0\n",
      "class_T                       0.0\n",
      "sex_1.0                       0.0\n",
      "cantBancos                    3.0\n",
      "modeloAuto                    0.0\n",
      "ingresoFilled                42.0\n",
      "Name: 176378, dtype: float64\n",
      "[ 1.29657997  0.72195967  1.1827999  -0.52182463  1.01856701  1.35891585\n",
      "  3.28690122 -1.71886589 -0.51787728  1.35342174  0.93284957  1.24121964\n",
      " -0.31259677  0.03390954 -0.33157019 -0.47519307 -0.63970451 -0.5536109\n",
      " -0.93733974 -0.28512762 -0.54725566  0.96626371]\n",
      "Prediccion: [[0.9677009]]\n"
     ]
    }
   ],
   "source": [
    "#Imprimo la primer prediccion y el vector que la genero.\n",
    "selected_point=123\n",
    "# Vector de caracteristicas \n",
    "print(X_test.iloc[selected_point,:])\n",
    "print(X_test_std[selected_point])\n",
    "print('Prediccion:',model.predict(X_test_std[selected_point].reshape(1,-1)))\n",
    "\n"
   ]
  },
  {
   "cell_type": "code",
   "execution_count": 8,
   "metadata": {},
   "outputs": [],
   "source": [
    "from sklearn.metrics import precision_score\n",
    "\n",
    "# Genero una lista de tuplas (threshold, score, proporcionOyC)\n",
    "precision_lst=[]\n",
    "for t in [0.5, 0.60,0.70,0.75,0.80,0.85, 0.90, 0.95]:\n",
    "    y_test_pred = (model.predict(X_test_std) >=t).astype('int64')\n",
    "    score= precision_score(y_test, y_test_pred)\n",
    "    precision_lst.append((t,score,y_test_pred.mean()))\n"
   ]
  },
  {
   "cell_type": "code",
   "execution_count": 17,
   "metadata": {},
   "outputs": [
    {
     "data": {
      "text/plain": [
       "<matplotlib.legend.Legend at 0x11872999588>"
      ]
     },
     "execution_count": 17,
     "metadata": {},
     "output_type": "execute_result"
    },
    {
     "data": {
      "image/png": "[encoded data removed]",
      "text/plain": [
       "<Figure size 432x288 with 2 Axes>"
      ]
     },
     "metadata": {
      "needs_background": "light"
     },
     "output_type": "display_data"
    }
   ],
   "source": [
    "# Grafico los resultados. \n",
    "import matplotlib.pyplot as plt\n",
    "\n",
    "x = [x[0] for x in precision_lst]\n",
    "y = [x[1] for x in precision_lst]\n",
    "z = [x[2] for x in precision_lst]\n",
    "fig, ax = plt.subplots(constrained_layout=True)\n",
    "ax2 = ax.twinx()\n",
    "ax.plot(x,y,'ro')\n",
    "ax.plot(x,y,'r-',label='Precision')\n",
    "ax2.plot(x,z,'bo')\n",
    "ax2.plot(x,z,'b-',label='ProportionOyC')\n",
    "ax.set_xlabel('threshold')\n",
    "ax.set_ylabel('score', color='r')\n",
    "ax2.set_ylabel('Proportion', color='b');\n",
    "ax.legend()\n",
    "ax2.legend()"
   ]
  }
 ],
 "metadata": {
  "kernelspec": {
   "display_name": "Python 3",
   "language": "python",
   "name": "python3"
  },
  "language_info": {
   "codemirror_mode": {
    "name": "ipython",
    "version": 3
   },
   "file_extension": ".py",
   "mimetype": "text/x-python",
   "name": "python",
   "nbconvert_exporter": "python",
   "pygments_lexer": "ipython3",
   "version": "3.7.3"
  }
 },
 "nbformat": 4,
 "nbformat_minor": 2
}
