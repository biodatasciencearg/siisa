{
 "cells": [
  {
   "cell_type": "markdown",
   "metadata": {},
   "source": [
    "<img src=\"http://www.ceic.org.ar/spanish/img/siisa-logo.jpg\" align='right'>"
   ]
  },
  {
   "cell_type": "markdown",
   "metadata": {},
   "source": [
    "# Análisis sobre el dataset de cobranzas de \"Mi Adelanto\".\n",
    "### Estudio de la optimización en el protocolo de cobranzas.\n",
    "\n",
    "\n",
    "##### Dataset:\n",
    "La consulta sobre las tablas del banco Santander Rio y Banco de comercio como instrumentos de cobro a traves de cobro por CBU.\n",
    "\n",
    "Comienzo el analisis con la tabla de santander a modo de analsis \"historico\" para luego centrarme en banco de comercio donde se realizo los ultimos debitos de los clientes vigentes."
   ]
  },
  {
   "cell_type": "code",
   "execution_count": 76,
   "metadata": {},
   "outputs": [
    {
     "data": {
      "text/html": [
       "\n",
       "        <script>\n",
       "            function code_toggle_9429468441785106059() {\n",
       "                $('div.cell.code_cell.rendered.selected').find('div.input').toggle();\n",
       "            }\n",
       "\n",
       "            \n",
       "        </script>\n",
       "\n",
       "        <a href=\"javascript:code_toggle_9429468441785106059()\">Toggle show/hide Code</a>\n",
       "    "
      ],
      "text/plain": [
       "<IPython.core.display.HTML object>"
      ]
     },
     "execution_count": 76,
     "metadata": {},
     "output_type": "execute_result"
    }
   ],
   "source": [
    "# Importando las librerias necesarias para trabajar correctamente.\n",
    "\n",
    "import pymssql\n",
    "import pandas as pd\n",
    "import numpy as np\n",
    "import matplotlib.pyplot as plt\n",
    "hide_toggle()"
   ]
  },
  {
   "cell_type": "code",
   "execution_count": 56,
   "metadata": {},
   "outputs": [
    {
     "data": {
      "text/html": [
       "\n",
       "        <script>\n",
       "            function code_toggle_14735832085516827535() {\n",
       "                $('div.cell.code_cell.rendered.selected').find('div.input').toggle();\n",
       "            }\n",
       "\n",
       "            \n",
       "        </script>\n",
       "\n",
       "        <a href=\"javascript:code_toggle_14735832085516827535()\">Toggle show/hide Code</a>\n",
       "    "
      ],
      "text/plain": [
       "<IPython.core.display.HTML object>"
      ]
     },
     "execution_count": 56,
     "metadata": {},
     "output_type": "execute_result"
    }
   ],
   "source": [
    "#Rutina que esconde el codigo para mayor legibilidad.\n",
    "from IPython.display import HTML\n",
    "import random\n",
    "\n",
    "def hide_toggle(for_next=False):\n",
    "    this_cell = \"\"\"$('div.cell.code_cell.rendered.selected')\"\"\"\n",
    "    next_cell = this_cell + '.next()'\n",
    "\n",
    "    toggle_text = 'Toggle show/hide Code'  # text shown on toggle link\n",
    "    target_cell = this_cell  # target cell to control with toggle\n",
    "    js_hide_current = ''  # bit of JS to permanently hide code in current cell (only when toggling next cell)\n",
    "\n",
    "    if for_next:\n",
    "        target_cell = next_cell\n",
    "        toggle_text += ' next cell'\n",
    "        js_hide_current = this_cell + '.find(\"div.input\").hide();'\n",
    "\n",
    "    js_f_name = 'code_toggle_{}'.format(str(random.randint(1,2**64)))\n",
    "\n",
    "    html = \"\"\"\n",
    "        <script>\n",
    "            function {f_name}() {{\n",
    "                {cell_selector}.find('div.input').toggle();\n",
    "            }}\n",
    "\n",
    "            {js_hide_current}\n",
    "        </script>\n",
    "\n",
    "        <a href=\"javascript:{f_name}()\">{toggle_text}</a>\n",
    "    \"\"\".format(\n",
    "        f_name=js_f_name,\n",
    "        cell_selector=target_cell,\n",
    "        js_hide_current=js_hide_current, \n",
    "        toggle_text=toggle_text\n",
    "    )\n",
    "\n",
    "    return HTML(html)\n",
    "hide_toggle()"
   ]
  },
  {
   "cell_type": "code",
   "execution_count": 3,
   "metadata": {},
   "outputs": [
    {
     "data": {
      "text/html": [
       "\n",
       "        <script>\n",
       "            function code_toggle_11053495113829786987() {\n",
       "                $('div.cell.code_cell.rendered.selected').find('div.input').toggle();\n",
       "            }\n",
       "\n",
       "            \n",
       "        </script>\n",
       "\n",
       "        <a href=\"javascript:code_toggle_11053495113829786987()\">Toggle show/hide</a>\n",
       "    "
      ],
      "text/plain": [
       "<IPython.core.display.HTML object>"
      ]
     },
     "execution_count": 3,
     "metadata": {},
     "output_type": "execute_result"
    }
   ],
   "source": [
    "# auxiliary functions.\n",
    "def get_data_fsql(query,serverName='MiAdelanto'):\n",
    "    \"\"\"Traer data de las bases SQL\n",
    "    query=String donde hago la query que quiero traer\n",
    "    serverName= String(siisa/MiAdelanto)\"\"\"\n",
    "    #Select Server 'MiAdelanto'\n",
    "    if serverName=='MiAdelanto':\n",
    "        #Name server.\n",
    "        server='miadelanto.cw8tpboctrtb.us-west-2.rds.amazonaws.com'\n",
    "        # user server.\n",
    "        user='jesica'\n",
    "        # Password.\n",
    "        password='Jesisol123'\n",
    "        # used Database.\n",
    "        db='dtsMiAdelanto'\n",
    "    #Select Server 'siisa'\n",
    "    elif serverName=='siisa':\n",
    "        #Name server.\n",
    "        server='motorsiisa2.cn5dtopedl5u.us-east-1.rds.amazonaws.com'\n",
    "        # user server.\n",
    "        user='elias'\n",
    "        # Password.\n",
    "        password='123456'\n",
    "        # used Database.\n",
    "        db='sbrde'\n",
    "    else:\n",
    "        print(\"Base de datos seleccionada incorrecta:\")\n",
    "    # connector instance\n",
    "    conn = pymssql.connect(server=server, user=user, password=password, database=db)\n",
    "    # Selected Query.\n",
    "    df = pd.read_sql(query, conn)\n",
    "    # Close connection.\n",
    "    conn.close()\n",
    "    return df\n",
    "hide_toggle()"
   ]
  },
  {
   "cell_type": "markdown",
   "metadata": {},
   "source": [
    "Realizo la consulta sobre la base de datos de Rendiciones de cuotas de santander. Muestro el dataframe obtenido:"
   ]
  },
  {
   "cell_type": "code",
   "execution_count": 67,
   "metadata": {},
   "outputs": [
    {
     "data": {
      "text/html": [
       "\n",
       "        <script>\n",
       "            function code_toggle_12857838240183857214() {\n",
       "                $('div.cell.code_cell.rendered.selected').find('div.input').toggle();\n",
       "            }\n",
       "\n",
       "            \n",
       "        </script>\n",
       "\n",
       "        <a href=\"javascript:code_toggle_12857838240183857214()\">Toggle show/hide Code</a>\n",
       "    "
      ],
      "text/plain": [
       "<IPython.core.display.HTML object>"
      ]
     },
     "execution_count": 67,
     "metadata": {},
     "output_type": "execute_result"
    }
   ],
   "source": [
    "# Selected Query of santander's database.\n",
    "query=\"\"\"SELECT  a.*, b.*,d.* \n",
    "from dtsMiAdelanto.dbo.SantanderRioDebitosRendicionesCuotas a\n",
    "LEFT JOIN dtsMiAdelanto.dbo.SantanderRioDebitosRendicionesCodigos  b ON a.Codigo = b.Codigo\n",
    "LEFT JOIN dtsMiAdelanto.dbo.Prestamos  c ON c.PrestamoId = a.PrestamoId\n",
    "LEFT JOIN dtsMiAdelanto.dbo.Clientes  d ON d.ClienteId = c.ClienteId\"\"\"\n",
    "# Make dataframe from query.\n",
    "df_cobros = get_data_fsql(query)\n",
    "hide_toggle()"
   ]
  },
  {
   "cell_type": "code",
   "execution_count": 70,
   "metadata": {
    "scrolled": true
   },
   "outputs": [
    {
     "name": "stdout",
     "output_type": "stream",
     "text": [
      "El tamaño de la matrix obtenida de la consulta es: (21259, 55)\n"
     ]
    },
    {
     "data": {
      "text/html": [
       "\n",
       "        <script>\n",
       "            function code_toggle_17372837092899971402() {\n",
       "                $('div.cell.code_cell.rendered.selected').find('div.input').toggle();\n",
       "            }\n",
       "\n",
       "            \n",
       "        </script>\n",
       "\n",
       "        <a href=\"javascript:code_toggle_17372837092899971402()\">Toggle show/hide Code</a>\n",
       "    "
      ],
      "text/plain": [
       "<IPython.core.display.HTML object>"
      ]
     },
     "execution_count": 70,
     "metadata": {},
     "output_type": "execute_result"
    }
   ],
   "source": [
    "print(\"El tamaño de la matrix obtenida de la consulta es:\",df_cobros.shape)\n",
    "hide_toggle()"
   ]
  },
  {
   "cell_type": "code",
   "execution_count": 63,
   "metadata": {},
   "outputs": [
    {
     "data": {
      "text/html": [
       "<div>\n",
       "<style scoped>\n",
       "    .dataframe tbody tr th:only-of-type {\n",
       "        vertical-align: middle;\n",
       "    }\n",
       "\n",
       "    .dataframe tbody tr th {\n",
       "        vertical-align: top;\n",
       "    }\n",
       "\n",
       "    .dataframe thead th {\n",
       "        text-align: right;\n",
       "    }\n",
       "</style>\n",
       "<table border=\"1\" class=\"dataframe\">\n",
       "  <thead>\n",
       "    <tr style=\"text-align: right;\">\n",
       "      <th></th>\n",
       "      <th>RendicionId</th>\n",
       "      <th>PrestamoComercioId</th>\n",
       "      <th>PrestamoSucursalId</th>\n",
       "      <th>PrestamoId</th>\n",
       "      <th>CuotaId</th>\n",
       "      <th>ItemId</th>\n",
       "      <th>Importe</th>\n",
       "      <th>Fecha</th>\n",
       "      <th>Codigo</th>\n",
       "      <th>attrImputado</th>\n",
       "      <th>...</th>\n",
       "      <th>attrBlocked</th>\n",
       "      <th>attrAttempts</th>\n",
       "      <th>attrChangePassword</th>\n",
       "      <th>CreateUser</th>\n",
       "      <th>CreateDate</th>\n",
       "      <th>UpdateUser</th>\n",
       "      <th>UpdateDate</th>\n",
       "      <th>attrDeleted</th>\n",
       "      <th>fecha_debito</th>\n",
       "      <th>dia_debito</th>\n",
       "    </tr>\n",
       "  </thead>\n",
       "  <tbody>\n",
       "    <tr>\n",
       "      <th>0</th>\n",
       "      <td>1</td>\n",
       "      <td>1</td>\n",
       "      <td>1</td>\n",
       "      <td>100108</td>\n",
       "      <td>1</td>\n",
       "      <td>1</td>\n",
       "      <td>1586.00</td>\n",
       "      <td>2016-08-08</td>\n",
       "      <td>000</td>\n",
       "      <td>True</td>\n",
       "      <td>...</td>\n",
       "      <td>True</td>\n",
       "      <td>NaN</td>\n",
       "      <td>None</td>\n",
       "      <td>web</td>\n",
       "      <td>2016-07-01 00:22:00</td>\n",
       "      <td>sergiorocha</td>\n",
       "      <td>2019-01-22 13:28:00</td>\n",
       "      <td>None</td>\n",
       "      <td>8</td>\n",
       "      <td>Monday</td>\n",
       "    </tr>\n",
       "    <tr>\n",
       "      <th>1</th>\n",
       "      <td>2</td>\n",
       "      <td>1</td>\n",
       "      <td>1</td>\n",
       "      <td>100058</td>\n",
       "      <td>3</td>\n",
       "      <td>1</td>\n",
       "      <td>1586.00</td>\n",
       "      <td>2016-08-08</td>\n",
       "      <td>000</td>\n",
       "      <td>True</td>\n",
       "      <td>...</td>\n",
       "      <td>True</td>\n",
       "      <td>3.0</td>\n",
       "      <td>None</td>\n",
       "      <td>import</td>\n",
       "      <td>2016-06-14 12:33:00</td>\n",
       "      <td>None</td>\n",
       "      <td>NaT</td>\n",
       "      <td>None</td>\n",
       "      <td>8</td>\n",
       "      <td>Monday</td>\n",
       "    </tr>\n",
       "    <tr>\n",
       "      <th>2</th>\n",
       "      <td>2</td>\n",
       "      <td>1</td>\n",
       "      <td>1</td>\n",
       "      <td>100061</td>\n",
       "      <td>3</td>\n",
       "      <td>1</td>\n",
       "      <td>2089.34</td>\n",
       "      <td>2016-08-08</td>\n",
       "      <td>000</td>\n",
       "      <td>True</td>\n",
       "      <td>...</td>\n",
       "      <td>None</td>\n",
       "      <td>NaN</td>\n",
       "      <td>None</td>\n",
       "      <td>import</td>\n",
       "      <td>2016-06-14 12:33:00</td>\n",
       "      <td>None</td>\n",
       "      <td>NaT</td>\n",
       "      <td>None</td>\n",
       "      <td>8</td>\n",
       "      <td>Monday</td>\n",
       "    </tr>\n",
       "  </tbody>\n",
       "</table>\n",
       "<p>3 rows × 57 columns</p>\n",
       "</div>"
      ],
      "text/plain": [
       "   RendicionId  PrestamoComercioId  PrestamoSucursalId  PrestamoId  CuotaId  \\\n",
       "0            1                   1                   1      100108        1   \n",
       "1            2                   1                   1      100058        3   \n",
       "2            2                   1                   1      100061        3   \n",
       "\n",
       "   ItemId  Importe      Fecha Codigo attrImputado  ... attrBlocked  \\\n",
       "0       1  1586.00 2016-08-08    000         True  ...        True   \n",
       "1       1  1586.00 2016-08-08    000         True  ...        True   \n",
       "2       1  2089.34 2016-08-08    000         True  ...        None   \n",
       "\n",
       "  attrAttempts  attrChangePassword CreateUser          CreateDate  \\\n",
       "0          NaN                None        web 2016-07-01 00:22:00   \n",
       "1          3.0                None     import 2016-06-14 12:33:00   \n",
       "2          NaN                None     import 2016-06-14 12:33:00   \n",
       "\n",
       "    UpdateUser          UpdateDate  attrDeleted fecha_debito  dia_debito  \n",
       "0  sergiorocha 2019-01-22 13:28:00         None            8      Monday  \n",
       "1         None                 NaT         None            8      Monday  \n",
       "2         None                 NaT         None            8      Monday  \n",
       "\n",
       "[3 rows x 57 columns]"
      ]
     },
     "execution_count": 63,
     "metadata": {},
     "output_type": "execute_result"
    }
   ],
   "source": [
    "df_cobros.head(3)"
   ]
  },
  {
   "cell_type": "markdown",
   "metadata": {},
   "source": [
    "#### Día de Cobro reportado por el cliente.\n",
    "La idea es ver la distribución historica del día de cobro informado por el cliente. "
   ]
  },
  {
   "cell_type": "code",
   "execution_count": 74,
   "metadata": {},
   "outputs": [
    {
     "data": {
      "text/html": [
       "\n",
       "        <script>\n",
       "            function code_toggle_5278704242910238811() {\n",
       "                $('div.cell.code_cell.rendered.selected').find('div.input').toggle();\n",
       "            }\n",
       "\n",
       "            \n",
       "        </script>\n",
       "\n",
       "        <a href=\"javascript:code_toggle_5278704242910238811()\">Toggle show/hide Code</a>\n",
       "    "
      ],
      "text/plain": [
       "<IPython.core.display.HTML object>"
      ]
     },
     "execution_count": 74,
     "metadata": {},
     "output_type": "execute_result"
    },
    {
     "data": {
      "image/png": "[encoded data removed]",
      "text/plain": [
       "<Figure size 432x288 with 1 Axes>"
      ]
     },
     "metadata": {
      "needs_background": "light"
     },
     "output_type": "display_data"
    }
   ],
   "source": [
    "# Saco la redundancia hago un drop sobre los clientes.\n",
    "df_cobros_drop_duplicates=df_cobros.drop_duplicates(subset='ClienteId',keep='last')\n",
    "# grafico dia de cobro informado vs la cantidad de clientes que dicen cobrar en esa fecha.\n",
    "g1=df_cobros_drop_duplicates.DiaCobro.dropna().value_counts().plot(kind='bar')\n",
    "\n",
    "g1.set_xlabel(\"Día informado de cobro\")\n",
    "g1.set_ylabel(\"Count\")\n",
    "g1.set_title(\"Dia informado de cobro\")\n",
    "hide_toggle()"
   ]
  },
  {
   "cell_type": "markdown",
   "metadata": {},
   "source": [
    "Sin embargo si vemos los prestamos y los clientes vigentes y comparamos los dias que informan siguen la siguiente distribucion:"
   ]
  },
  {
   "cell_type": "code",
   "execution_count": 109,
   "metadata": {},
   "outputs": [
    {
     "data": {
      "text/html": [
       "\n",
       "        <script>\n",
       "            function code_toggle_3456826547250806939() {\n",
       "                $('div.cell.code_cell.rendered.selected').find('div.input').toggle();\n",
       "            }\n",
       "\n",
       "            \n",
       "        </script>\n",
       "\n",
       "        <a href=\"javascript:code_toggle_3456826547250806939()\">Toggle show/hide Code</a>\n",
       "    "
      ],
      "text/plain": [
       "<IPython.core.display.HTML object>"
      ]
     },
     "execution_count": 109,
     "metadata": {},
     "output_type": "execute_result"
    }
   ],
   "source": [
    "query_base_clientes=\"\"\"/* Consulta que debo realizar de modo de traer el dataframe. */\n",
    "SELECT \n",
    "tprestamos.CreateDate,\n",
    "tprestamos.PrestamoComercioId,\n",
    "tprestamos.PrestamoId,\n",
    "tprestamos.ClienteId,\n",
    "tprestamos.PlanId,\n",
    "tprestamos.Fecha,\n",
    "tprestamos.FechaRetiro,\n",
    "tprestamos.NroCuotas,\n",
    "tprestamos.Capital,\n",
    "tprestamos.Anticipo,\n",
    "tclientes.Apellidos,\n",
    "tclientes.Nombres,\n",
    "tclientes.CUIL,\n",
    "tclientes.Sexo,\n",
    "tclientes.FechaNacimiento,\n",
    "tclientes.Actividad,\n",
    "tclientes.NacionalidadId,\n",
    "tclientes.DiaCobro,\n",
    "tclientes.CBU,\n",
    "tbancos.BancoId,\n",
    "tbancos.BancoNombre,\n",
    "tprestamoestado.EstadoNombre\n",
    "/* tabla principal */\n",
    "from dtsMiAdelanto.dbo.Prestamos           as tprestamos\n",
    "/* joineo con la tabla de clientes. */\n",
    "LEFT JOIN dtsMiAdelanto.dbo.Clientes       as tclientes      ON tprestamos.ClienteId=tclientes.ClienteId\n",
    "/* joineo con la tabla de bancos. */\n",
    "LEFT JOIN dtsMiAdelanto.dbo.bancos as tbancos  ON tbancos.BancoId=    SUBSTRING(tclientes.CBU,1,3)\n",
    "/* joineo con la tabla de prestamos Estados. */\n",
    "LEFT JOIN dtsMiAdelanto.dbo.PrestamosEstados as tprestamoestado   ON tprestamoestado.EstadoId=tprestamos.EstadoId\n",
    "\"\"\"\n",
    "\n",
    "df_prestamos=get_data_fsql(query_base_clientes)\n",
    "df_clientes_vigentes=df_prestamos[df_prestamos.EstadoNombre=='Vigente'].drop_duplicates(subset='ClienteId')\n",
    "hide_toggle()"
   ]
  },
  {
   "cell_type": "code",
   "execution_count": 114,
   "metadata": {},
   "outputs": [
    {
     "data": {
      "text/html": [
       "\n",
       "        <script>\n",
       "            function code_toggle_17551726912971323371() {\n",
       "                $('div.cell.code_cell.rendered.selected').find('div.input').toggle();\n",
       "            }\n",
       "\n",
       "            \n",
       "        </script>\n",
       "\n",
       "        <a href=\"javascript:code_toggle_17551726912971323371()\">Toggle show/hide Code</a>\n",
       "    "
      ],
      "text/plain": [
       "<IPython.core.display.HTML object>"
      ]
     },
     "execution_count": 114,
     "metadata": {},
     "output_type": "execute_result"
    },
    {
     "data": {
      "image/png": "[encoded data removed]",
      "text/plain": [
       "<Figure size 432x288 with 1 Axes>"
      ]
     },
     "metadata": {
      "needs_background": "light"
     },
     "output_type": "display_data"
    }
   ],
   "source": [
    "df_clientes_vigentes.DiaCobro.dropna().hist()\n",
    "hide_toggle()"
   ]
  },
  {
   "cell_type": "markdown",
   "metadata": {},
   "source": [
    "El dia reportado por la cartera de clientes esta concentrado principalmente en los primero 10 dias del mes como cabe de esperar. Por ende a continuación nos preguntamos si los dias en que se realizo efectivamente el  debito.\n",
    "\n",
    "\n",
    "\n",
    "#### Fecha de realización del debito.\n",
    "\n",
    "A continuación miramos tanto el dia de debito efectivo como la fecha en el que ocurrió. Observamos que los datos tambien señalan que el débito ocurre en los primeros dias del mes."
   ]
  },
  {
   "cell_type": "code",
   "execution_count": 75,
   "metadata": {},
   "outputs": [
    {
     "data": {
      "text/html": [
       "\n",
       "        <script>\n",
       "            function code_toggle_7485972897756132845() {\n",
       "                $('div.cell.code_cell.rendered.selected').find('div.input').toggle();\n",
       "            }\n",
       "\n",
       "            \n",
       "        </script>\n",
       "\n",
       "        <a href=\"javascript:code_toggle_7485972897756132845()\">Toggle show/hide Code</a>\n",
       "    "
      ],
      "text/plain": [
       "<IPython.core.display.HTML object>"
      ]
     },
     "execution_count": 75,
     "metadata": {},
     "output_type": "execute_result"
    }
   ],
   "source": [
    "df_cobros['fecha_debito']=df_cobros.Fecha.dt.day\n",
    "df_cobros['dia_debito']  =df_cobros.Fecha.dt.weekday_name\n",
    "hide_toggle()"
   ]
  },
  {
   "cell_type": "code",
   "execution_count": 89,
   "metadata": {},
   "outputs": [
    {
     "data": {
      "image/png": "[encoded data removed]",
      "text/plain": [
       "<Figure size 432x288 with 2 Axes>"
      ]
     },
     "metadata": {
      "needs_background": "light"
     },
     "output_type": "display_data"
    },
    {
     "data": {
      "text/html": [
       "\n",
       "        <script>\n",
       "            function code_toggle_6337358270782391947() {\n",
       "                $('div.cell.code_cell.rendered.selected').find('div.input').toggle();\n",
       "            }\n",
       "\n",
       "            \n",
       "        </script>\n",
       "\n",
       "        <a href=\"javascript:code_toggle_6337358270782391947()\">Toggle show/hide Code</a>\n",
       "    "
      ],
      "text/plain": [
       "<IPython.core.display.HTML object>"
      ]
     },
     "execution_count": 89,
     "metadata": {},
     "output_type": "execute_result"
    }
   ],
   "source": [
    "# no discrimino por Id de cliente. Veo el total de la transacciones.\n",
    "fecha_debito_correcto=df_cobros[df_cobros.Descripcion=='Debito Correcto']\n",
    "\n",
    "\n",
    "plt.subplots_adjust(hspace =0.5)\n",
    "plt.subplot(2, 1, 1)\n",
    "g1=fecha_debito_correcto.fecha_debito.dropna().value_counts().plot(kind='bar')\n",
    "g1.set_title('Fecha de debito.')\n",
    "\n",
    "plt.subplot(2, 1, 2)\n",
    "g2=df_cobros.dia_debito.dropna()[df_cobros.Descripcion=='Debito Correcto'].value_counts().plot(kind='bar')\n",
    "g2.set_ylabel('Count')\n",
    "g2.set_title('Dia de debito.')\n",
    "plt.show()\n",
    "\n",
    "hide_toggle()"
   ]
  },
  {
   "cell_type": "markdown",
   "metadata": {},
   "source": [
    "#### Correlación entre dia reportado y dia de debito efectivo.\n",
    "Sin embargo si miramos si existe alguna correlación entre las variables, vemos que no existe correlacion directa. Por ende concluimos que la gente no informa con seguridad la fecha de cobro, sino que mas bien pone una fecha aproximada. "
   ]
  },
  {
   "cell_type": "code",
   "execution_count": 90,
   "metadata": {},
   "outputs": [
    {
     "data": {
      "text/html": [
       "\n",
       "        <script>\n",
       "            function code_toggle_5803576869540254472() {\n",
       "                $('div.cell.code_cell.rendered.selected').find('div.input').toggle();\n",
       "            }\n",
       "\n",
       "            \n",
       "        </script>\n",
       "\n",
       "        <a href=\"javascript:code_toggle_5803576869540254472()\">Toggle show/hide Code</a>\n",
       "    "
      ],
      "text/plain": [
       "<IPython.core.display.HTML object>"
      ]
     },
     "execution_count": 90,
     "metadata": {},
     "output_type": "execute_result"
    },
    {
     "data": {
      "image/png": "[encoded data removed]",
      "text/plain": [
       "<Figure size 432x288 with 1 Axes>"
      ]
     },
     "metadata": {
      "needs_background": "light"
     },
     "output_type": "display_data"
    }
   ],
   "source": [
    "fecha_debito_correcto[['fecha_debito','DiaCobro']].dropna().plot.scatter(x='fecha_debito',y='DiaCobro')\n",
    "hide_toggle()"
   ]
  },
  {
   "cell_type": "markdown",
   "metadata": {},
   "source": [
    "#### Ejemplo de clientes que reportaron cobrar el dia 5 y la distribucion efectiva fecha de debito."
   ]
  },
  {
   "cell_type": "code",
   "execution_count": 99,
   "metadata": {},
   "outputs": [
    {
     "data": {
      "text/html": [
       "\n",
       "        <script>\n",
       "            function code_toggle_17918542190913501753() {\n",
       "                $('div.cell.code_cell.rendered.selected').find('div.input').toggle();\n",
       "            }\n",
       "\n",
       "            \n",
       "        </script>\n",
       "\n",
       "        <a href=\"javascript:code_toggle_17918542190913501753()\">Toggle show/hide Code</a>\n",
       "    "
      ],
      "text/plain": [
       "<IPython.core.display.HTML object>"
      ]
     },
     "execution_count": 99,
     "metadata": {},
     "output_type": "execute_result"
    },
    {
     "data": {
      "image/png": "[encoded data removed]",
      "text/plain": [
       "<Figure size 432x288 with 2 Axes>"
      ]
     },
     "metadata": {
      "needs_background": "light"
     },
     "output_type": "display_data"
    }
   ],
   "source": [
    "fecha_debito_correcto[['fecha_debito','DiaCobro']][fecha_debito_correcto.DiaCobro==5].hist()\n",
    "hide_toggle()"
   ]
  },
  {
   "cell_type": "markdown",
   "metadata": {},
   "source": [
    "<div class=\"alert alert-block alert-info\">\n",
    "<b>Resultado preliminar:</b> El dia de cobro no se corresponde generalmente con el dia en que ocurrio el debito. Sin emabargo si se observo que gran parte de la cartera de clientes informa que percibe su sueldo/haberes en los primeros 10 dias del mes.\n",
    "</div>"
   ]
  },
  {
   "cell_type": "code",
   "execution_count": 12,
   "metadata": {},
   "outputs": [
    {
     "data": {
      "text/html": [
       "\n",
       "        <script>\n",
       "            function code_toggle_6447056816205775309() {\n",
       "                $('div.cell.code_cell.rendered.selected').find('div.input').toggle();\n",
       "            }\n",
       "\n",
       "            \n",
       "        </script>\n",
       "\n",
       "        <a href=\"javascript:code_toggle_6447056816205775309()\">Toggle show/hide</a>\n",
       "    "
      ],
      "text/plain": [
       "<IPython.core.display.HTML object>"
      ]
     },
     "execution_count": 12,
     "metadata": {},
     "output_type": "execute_result"
    }
   ],
   "source": [
    "fecha_debito_correcto[['DiaCobro','fecha_debito']].dropna().head(10)\n",
    "hide_toggle()"
   ]
  },
  {
   "cell_type": "code",
   "execution_count": 13,
   "metadata": {},
   "outputs": [
    {
     "data": {
      "text/plain": [
       "(DiaCobro        1.0\n",
       " fecha_debito    1.0\n",
       " dtype: float64, DiaCobro        30.0\n",
       " fecha_debito    30.0\n",
       " dtype: float64)"
      ]
     },
     "execution_count": 13,
     "metadata": {},
     "output_type": "execute_result"
    }
   ],
   "source": [
    "fecha_debito_correcto[['DiaCobro','fecha_debito']].min(),fecha_debito_correcto[['DiaCobro','fecha_debito']].max()"
   ]
  },
  {
   "cell_type": "markdown",
   "metadata": {},
   "source": [
    "### Que los que no se realizo el debito cual fue la razon?"
   ]
  },
  {
   "cell_type": "code",
   "execution_count": 14,
   "metadata": {},
   "outputs": [],
   "source": [
    "# Dataframe donde el debito no se realizo apropiadamente.\n",
    "fecha_debito_incorrecto=df_cobros[df_cobros.Descripcion!='Debito Correcto']"
   ]
  },
  {
   "cell_type": "code",
   "execution_count": 64,
   "metadata": {},
   "outputs": [
    {
     "data": {
      "text/html": [
       "\n",
       "        <script>\n",
       "            function code_toggle_13853563583405553039() {\n",
       "                $('div.cell.code_cell.rendered.selected').find('div.input').toggle();\n",
       "            }\n",
       "\n",
       "            \n",
       "        </script>\n",
       "\n",
       "        <a href=\"javascript:code_toggle_13853563583405553039()\">Toggle show/hide Code</a>\n",
       "    "
      ],
      "text/plain": [
       "<IPython.core.display.HTML object>"
      ]
     },
     "execution_count": 64,
     "metadata": {},
     "output_type": "execute_result"
    },
    {
     "data": {
      "image/png": "[encoded data removed]",
      "text/plain": [
       "<Figure size 432x288 with 1 Axes>"
      ]
     },
     "metadata": {
      "needs_background": "light"
     },
     "output_type": "display_data"
    }
   ],
   "source": [
    "fecha_debito_incorrecto.Descripcion.value_counts().plot(kind='bar')\n",
    "hide_toggle()"
   ]
  },
  {
   "cell_type": "markdown",
   "metadata": {},
   "source": [
    "### A que dia la semana corresponde los eventos que no son debitos correctos??"
   ]
  },
  {
   "cell_type": "code",
   "execution_count": 65,
   "metadata": {},
   "outputs": [
    {
     "data": {
      "text/html": [
       "\n",
       "        <script>\n",
       "            function code_toggle_2636963901003145309() {\n",
       "                $('div.cell.code_cell.rendered.selected').find('div.input').toggle();\n",
       "            }\n",
       "\n",
       "            \n",
       "        </script>\n",
       "\n",
       "        <a href=\"javascript:code_toggle_2636963901003145309()\">Toggle show/hide Code</a>\n",
       "    "
      ],
      "text/plain": [
       "<IPython.core.display.HTML object>"
      ]
     },
     "execution_count": 65,
     "metadata": {},
     "output_type": "execute_result"
    },
    {
     "data": {
      "image/png": "[encoded data removed]",
      "text/plain": [
       "<Figure size 432x288 with 1 Axes>"
      ]
     },
     "metadata": {
      "needs_background": "light"
     },
     "output_type": "display_data"
    }
   ],
   "source": [
    "# Dia de la semana donde el debito se computo incorrectamente.\n",
    "fecha_debito_incorrecto.dia_debito.dropna().value_counts().plot(kind='bar')\n",
    "hide_toggle()\n"
   ]
  },
  {
   "cell_type": "markdown",
   "metadata": {},
   "source": [
    "### Que fecha corresponde a los eventos que NO son debitos correctos?\n"
   ]
  },
  {
   "cell_type": "code",
   "execution_count": 17,
   "metadata": {},
   "outputs": [
    {
     "data": {
      "text/plain": [
       "<matplotlib.axes._subplots.AxesSubplot at 0x1cbec63f710>"
      ]
     },
     "execution_count": 17,
     "metadata": {},
     "output_type": "execute_result"
    },
    {
     "data": {
      "image/png": "[encoded data removed]",
      "text/plain": [
       "<Figure size 432x288 with 1 Axes>"
      ]
     },
     "metadata": {
      "needs_background": "light"
     },
     "output_type": "display_data"
    }
   ],
   "source": [
    "# Fecha donde se realizo el debito incorrectamente.\n",
    "fecha_debito_incorrecto.fecha_debito.value_counts().plot(kind='bar')"
   ]
  },
  {
   "cell_type": "markdown",
   "metadata": {},
   "source": [
    "### Sera no es el cuando sino el cuanto?"
   ]
  },
  {
   "cell_type": "code",
   "execution_count": 18,
   "metadata": {},
   "outputs": [],
   "source": [
    "df_debito_sinfondos=df_cobros[(df_cobros.Descripcion == 'Debito Correcto') | (df_cobros.Descripcion == 'Falta de fondos')]"
   ]
  },
  {
   "cell_type": "code",
   "execution_count": 19,
   "metadata": {},
   "outputs": [
    {
     "data": {
      "text/html": [
       "<div>\n",
       "<style scoped>\n",
       "    .dataframe tbody tr th:only-of-type {\n",
       "        vertical-align: middle;\n",
       "    }\n",
       "\n",
       "    .dataframe tbody tr th {\n",
       "        vertical-align: top;\n",
       "    }\n",
       "\n",
       "    .dataframe thead th {\n",
       "        text-align: right;\n",
       "    }\n",
       "</style>\n",
       "<table border=\"1\" class=\"dataframe\">\n",
       "  <thead>\n",
       "    <tr style=\"text-align: right;\">\n",
       "      <th></th>\n",
       "      <th>RendicionId</th>\n",
       "      <th>PrestamoComercioId</th>\n",
       "      <th>PrestamoSucursalId</th>\n",
       "      <th>PrestamoId</th>\n",
       "      <th>CuotaId</th>\n",
       "      <th>ItemId</th>\n",
       "      <th>Importe</th>\n",
       "      <th>Fecha</th>\n",
       "      <th>Codigo</th>\n",
       "      <th>attrImputado</th>\n",
       "      <th>...</th>\n",
       "      <th>attrBlocked</th>\n",
       "      <th>attrAttempts</th>\n",
       "      <th>attrChangePassword</th>\n",
       "      <th>CreateUser</th>\n",
       "      <th>CreateDate</th>\n",
       "      <th>UpdateUser</th>\n",
       "      <th>UpdateDate</th>\n",
       "      <th>attrDeleted</th>\n",
       "      <th>fecha_debito</th>\n",
       "      <th>dia_debito</th>\n",
       "    </tr>\n",
       "  </thead>\n",
       "  <tbody>\n",
       "    <tr>\n",
       "      <th>0</th>\n",
       "      <td>1</td>\n",
       "      <td>1</td>\n",
       "      <td>1</td>\n",
       "      <td>100108</td>\n",
       "      <td>1</td>\n",
       "      <td>1</td>\n",
       "      <td>1586.00</td>\n",
       "      <td>2016-08-08</td>\n",
       "      <td>000</td>\n",
       "      <td>True</td>\n",
       "      <td>...</td>\n",
       "      <td>True</td>\n",
       "      <td>NaN</td>\n",
       "      <td>None</td>\n",
       "      <td>web</td>\n",
       "      <td>2016-07-01 00:22:00</td>\n",
       "      <td>sergiorocha</td>\n",
       "      <td>2019-01-22 13:28:00</td>\n",
       "      <td>None</td>\n",
       "      <td>8</td>\n",
       "      <td>Monday</td>\n",
       "    </tr>\n",
       "    <tr>\n",
       "      <th>1</th>\n",
       "      <td>2</td>\n",
       "      <td>1</td>\n",
       "      <td>1</td>\n",
       "      <td>100058</td>\n",
       "      <td>3</td>\n",
       "      <td>1</td>\n",
       "      <td>1586.00</td>\n",
       "      <td>2016-08-08</td>\n",
       "      <td>000</td>\n",
       "      <td>True</td>\n",
       "      <td>...</td>\n",
       "      <td>True</td>\n",
       "      <td>3.0</td>\n",
       "      <td>None</td>\n",
       "      <td>import</td>\n",
       "      <td>2016-06-14 12:33:00</td>\n",
       "      <td>None</td>\n",
       "      <td>NaT</td>\n",
       "      <td>None</td>\n",
       "      <td>8</td>\n",
       "      <td>Monday</td>\n",
       "    </tr>\n",
       "    <tr>\n",
       "      <th>2</th>\n",
       "      <td>2</td>\n",
       "      <td>1</td>\n",
       "      <td>1</td>\n",
       "      <td>100061</td>\n",
       "      <td>3</td>\n",
       "      <td>1</td>\n",
       "      <td>2089.34</td>\n",
       "      <td>2016-08-08</td>\n",
       "      <td>000</td>\n",
       "      <td>True</td>\n",
       "      <td>...</td>\n",
       "      <td>None</td>\n",
       "      <td>NaN</td>\n",
       "      <td>None</td>\n",
       "      <td>import</td>\n",
       "      <td>2016-06-14 12:33:00</td>\n",
       "      <td>None</td>\n",
       "      <td>NaT</td>\n",
       "      <td>None</td>\n",
       "      <td>8</td>\n",
       "      <td>Monday</td>\n",
       "    </tr>\n",
       "  </tbody>\n",
       "</table>\n",
       "<p>3 rows × 57 columns</p>\n",
       "</div>"
      ],
      "text/plain": [
       "   RendicionId  PrestamoComercioId  PrestamoSucursalId  PrestamoId  CuotaId  \\\n",
       "0            1                   1                   1      100108        1   \n",
       "1            2                   1                   1      100058        3   \n",
       "2            2                   1                   1      100061        3   \n",
       "\n",
       "   ItemId  Importe      Fecha Codigo attrImputado  ... attrBlocked  \\\n",
       "0       1  1586.00 2016-08-08    000         True  ...        True   \n",
       "1       1  1586.00 2016-08-08    000         True  ...        True   \n",
       "2       1  2089.34 2016-08-08    000         True  ...        None   \n",
       "\n",
       "  attrAttempts  attrChangePassword CreateUser          CreateDate  \\\n",
       "0          NaN                None        web 2016-07-01 00:22:00   \n",
       "1          3.0                None     import 2016-06-14 12:33:00   \n",
       "2          NaN                None     import 2016-06-14 12:33:00   \n",
       "\n",
       "    UpdateUser          UpdateDate  attrDeleted fecha_debito  dia_debito  \n",
       "0  sergiorocha 2019-01-22 13:28:00         None            8      Monday  \n",
       "1         None                 NaT         None            8      Monday  \n",
       "2         None                 NaT         None            8      Monday  \n",
       "\n",
       "[3 rows x 57 columns]"
      ]
     },
     "execution_count": 19,
     "metadata": {},
     "output_type": "execute_result"
    }
   ],
   "source": [
    "df_debito_sinfondos.head(3)\n"
   ]
  },
  {
   "cell_type": "code",
   "execution_count": 20,
   "metadata": {},
   "outputs": [
    {
     "data": {
      "text/plain": [
       "(18124, 57)"
      ]
     },
     "execution_count": 20,
     "metadata": {},
     "output_type": "execute_result"
    }
   ],
   "source": [
    "df_debito_sinfondos.shape"
   ]
  },
  {
   "cell_type": "code",
   "execution_count": 21,
   "metadata": {},
   "outputs": [
    {
     "data": {
      "text/html": [
       "<div>\n",
       "<style scoped>\n",
       "    .dataframe tbody tr th:only-of-type {\n",
       "        vertical-align: middle;\n",
       "    }\n",
       "\n",
       "    .dataframe tbody tr th {\n",
       "        vertical-align: top;\n",
       "    }\n",
       "\n",
       "    .dataframe thead th {\n",
       "        text-align: right;\n",
       "    }\n",
       "</style>\n",
       "<table border=\"1\" class=\"dataframe\">\n",
       "  <thead>\n",
       "    <tr style=\"text-align: right;\">\n",
       "      <th></th>\n",
       "      <th>RendicionId</th>\n",
       "      <th>PrestamoId</th>\n",
       "      <th>CuotaId</th>\n",
       "      <th>ItemId</th>\n",
       "      <th>Importe</th>\n",
       "      <th>Descripcion</th>\n",
       "      <th>Fecha</th>\n",
       "      <th>fecha_debito</th>\n",
       "      <th>dia_debito</th>\n",
       "    </tr>\n",
       "  </thead>\n",
       "  <tbody>\n",
       "    <tr>\n",
       "      <th>0</th>\n",
       "      <td>1</td>\n",
       "      <td>100108</td>\n",
       "      <td>1</td>\n",
       "      <td>1</td>\n",
       "      <td>1586.00</td>\n",
       "      <td>Debito Correcto</td>\n",
       "      <td>2016-08-08</td>\n",
       "      <td>8</td>\n",
       "      <td>Monday</td>\n",
       "    </tr>\n",
       "    <tr>\n",
       "      <th>1</th>\n",
       "      <td>2</td>\n",
       "      <td>100058</td>\n",
       "      <td>3</td>\n",
       "      <td>1</td>\n",
       "      <td>1586.00</td>\n",
       "      <td>Debito Correcto</td>\n",
       "      <td>2016-08-08</td>\n",
       "      <td>8</td>\n",
       "      <td>Monday</td>\n",
       "    </tr>\n",
       "    <tr>\n",
       "      <th>2</th>\n",
       "      <td>2</td>\n",
       "      <td>100061</td>\n",
       "      <td>3</td>\n",
       "      <td>1</td>\n",
       "      <td>2089.34</td>\n",
       "      <td>Debito Correcto</td>\n",
       "      <td>2016-08-08</td>\n",
       "      <td>8</td>\n",
       "      <td>Monday</td>\n",
       "    </tr>\n",
       "    <tr>\n",
       "      <th>3</th>\n",
       "      <td>2</td>\n",
       "      <td>100062</td>\n",
       "      <td>3</td>\n",
       "      <td>1</td>\n",
       "      <td>2089.34</td>\n",
       "      <td>Debito Correcto</td>\n",
       "      <td>2016-08-08</td>\n",
       "      <td>8</td>\n",
       "      <td>Monday</td>\n",
       "    </tr>\n",
       "    <tr>\n",
       "      <th>4</th>\n",
       "      <td>2</td>\n",
       "      <td>100063</td>\n",
       "      <td>2</td>\n",
       "      <td>1</td>\n",
       "      <td>2316.00</td>\n",
       "      <td>Debito Correcto</td>\n",
       "      <td>2016-08-08</td>\n",
       "      <td>8</td>\n",
       "      <td>Monday</td>\n",
       "    </tr>\n",
       "    <tr>\n",
       "      <th>5</th>\n",
       "      <td>2</td>\n",
       "      <td>100066</td>\n",
       "      <td>1</td>\n",
       "      <td>1</td>\n",
       "      <td>1283.67</td>\n",
       "      <td>Debito Correcto</td>\n",
       "      <td>2016-08-08</td>\n",
       "      <td>8</td>\n",
       "      <td>Monday</td>\n",
       "    </tr>\n",
       "    <tr>\n",
       "      <th>6</th>\n",
       "      <td>2</td>\n",
       "      <td>100066</td>\n",
       "      <td>3</td>\n",
       "      <td>1</td>\n",
       "      <td>1082.66</td>\n",
       "      <td>Debito Correcto</td>\n",
       "      <td>2016-08-08</td>\n",
       "      <td>8</td>\n",
       "      <td>Monday</td>\n",
       "    </tr>\n",
       "    <tr>\n",
       "      <th>7</th>\n",
       "      <td>2</td>\n",
       "      <td>100067</td>\n",
       "      <td>1</td>\n",
       "      <td>1</td>\n",
       "      <td>1880.00</td>\n",
       "      <td>Falta de fondos</td>\n",
       "      <td>2016-08-08</td>\n",
       "      <td>8</td>\n",
       "      <td>Monday</td>\n",
       "    </tr>\n",
       "    <tr>\n",
       "      <th>8</th>\n",
       "      <td>2</td>\n",
       "      <td>100067</td>\n",
       "      <td>3</td>\n",
       "      <td>1</td>\n",
       "      <td>1586.00</td>\n",
       "      <td>Falta de fondos</td>\n",
       "      <td>2016-08-08</td>\n",
       "      <td>8</td>\n",
       "      <td>Monday</td>\n",
       "    </tr>\n",
       "    <tr>\n",
       "      <th>9</th>\n",
       "      <td>2</td>\n",
       "      <td>100069</td>\n",
       "      <td>1</td>\n",
       "      <td>1</td>\n",
       "      <td>4442.00</td>\n",
       "      <td>Falta de fondos</td>\n",
       "      <td>2016-08-08</td>\n",
       "      <td>8</td>\n",
       "      <td>Monday</td>\n",
       "    </tr>\n",
       "  </tbody>\n",
       "</table>\n",
       "</div>"
      ],
      "text/plain": [
       "   RendicionId  PrestamoId  CuotaId  ItemId  Importe      Descripcion  \\\n",
       "0            1      100108        1       1  1586.00  Debito Correcto   \n",
       "1            2      100058        3       1  1586.00  Debito Correcto   \n",
       "2            2      100061        3       1  2089.34  Debito Correcto   \n",
       "3            2      100062        3       1  2089.34  Debito Correcto   \n",
       "4            2      100063        2       1  2316.00  Debito Correcto   \n",
       "5            2      100066        1       1  1283.67  Debito Correcto   \n",
       "6            2      100066        3       1  1082.66  Debito Correcto   \n",
       "7            2      100067        1       1  1880.00  Falta de fondos   \n",
       "8            2      100067        3       1  1586.00  Falta de fondos   \n",
       "9            2      100069        1       1  4442.00  Falta de fondos   \n",
       "\n",
       "       Fecha  fecha_debito dia_debito  \n",
       "0 2016-08-08             8     Monday  \n",
       "1 2016-08-08             8     Monday  \n",
       "2 2016-08-08             8     Monday  \n",
       "3 2016-08-08             8     Monday  \n",
       "4 2016-08-08             8     Monday  \n",
       "5 2016-08-08             8     Monday  \n",
       "6 2016-08-08             8     Monday  \n",
       "7 2016-08-08             8     Monday  \n",
       "8 2016-08-08             8     Monday  \n",
       "9 2016-08-08             8     Monday  "
      ]
     },
     "execution_count": 21,
     "metadata": {},
     "output_type": "execute_result"
    }
   ],
   "source": [
    "df_debito_sinfondos[['RendicionId','PrestamoId','CuotaId','ItemId','Importe','Descripcion','Fecha','fecha_debito','dia_debito']].head(10)"
   ]
  },
  {
   "cell_type": "code",
   "execution_count": 22,
   "metadata": {},
   "outputs": [
    {
     "data": {
      "text/html": [
       "<div>\n",
       "<style scoped>\n",
       "    .dataframe tbody tr th:only-of-type {\n",
       "        vertical-align: middle;\n",
       "    }\n",
       "\n",
       "    .dataframe tbody tr th {\n",
       "        vertical-align: top;\n",
       "    }\n",
       "\n",
       "    .dataframe thead th {\n",
       "        text-align: right;\n",
       "    }\n",
       "</style>\n",
       "<table border=\"1\" class=\"dataframe\">\n",
       "  <thead>\n",
       "    <tr style=\"text-align: right;\">\n",
       "      <th></th>\n",
       "      <th>RendicionId</th>\n",
       "      <th>PrestamoId</th>\n",
       "      <th>CuotaId</th>\n",
       "      <th>ItemId</th>\n",
       "      <th>Importe</th>\n",
       "      <th>Descripcion</th>\n",
       "      <th>Fecha</th>\n",
       "      <th>fecha_debito</th>\n",
       "      <th>dia_debito</th>\n",
       "    </tr>\n",
       "  </thead>\n",
       "  <tbody>\n",
       "    <tr>\n",
       "      <th>10764</th>\n",
       "      <td>138</td>\n",
       "      <td>101267</td>\n",
       "      <td>1</td>\n",
       "      <td>7</td>\n",
       "      <td>76.0</td>\n",
       "      <td>Debito Correcto</td>\n",
       "      <td>2018-04-27</td>\n",
       "      <td>27</td>\n",
       "      <td>Friday</td>\n",
       "    </tr>\n",
       "  </tbody>\n",
       "</table>\n",
       "</div>"
      ],
      "text/plain": [
       "       RendicionId  PrestamoId  CuotaId  ItemId  Importe      Descripcion  \\\n",
       "10764          138      101267        1       7     76.0  Debito Correcto   \n",
       "\n",
       "           Fecha  fecha_debito dia_debito  \n",
       "10764 2018-04-27            27     Friday  "
      ]
     },
     "execution_count": 22,
     "metadata": {},
     "output_type": "execute_result"
    }
   ],
   "source": [
    "df_debito_sinfondos[(df_debito_sinfondos.PrestamoId==101267) & (df_debito_sinfondos.RendicionId==138) ][['RendicionId','PrestamoId','CuotaId','ItemId','Importe','Descripcion','Fecha','fecha_debito','dia_debito']]"
   ]
  },
  {
   "cell_type": "code",
   "execution_count": 23,
   "metadata": {},
   "outputs": [
    {
     "data": {
      "text/plain": [
       "RendicionId  PrestamoId  CuotaId  Descripcion    \n",
       "1            100108      1        Debito Correcto    1586.00\n",
       "2            100058      3        Debito Correcto    1586.00\n",
       "             100061      3        Debito Correcto    2089.34\n",
       "             100062      3        Debito Correcto    2089.34\n",
       "             100063      2        Debito Correcto    2316.00\n",
       "Name: Importe, dtype: float64"
      ]
     },
     "execution_count": 23,
     "metadata": {},
     "output_type": "execute_result"
    }
   ],
   "source": [
    "#df_debito_sinfondos['COUNTER'] =1       #initially, set that counter to 1.\n",
    "group_data = df_debito_sinfondos.groupby(['RendicionId','PrestamoId','CuotaId','Descripcion'])['Importe'].sum()\n",
    "group_data.head()"
   ]
  },
  {
   "cell_type": "code",
   "execution_count": 24,
   "metadata": {},
   "outputs": [],
   "source": [
    "group_data2=df_debito_sinfondos.groupby(['RendicionId','PrestamoId','CuotaId',])['Importe'].sum()"
   ]
  },
  {
   "cell_type": "code",
   "execution_count": 25,
   "metadata": {},
   "outputs": [],
   "source": [
    "group_data2.to_csv('pagos_totales.csv',header=True)"
   ]
  },
  {
   "cell_type": "code",
   "execution_count": 26,
   "metadata": {},
   "outputs": [],
   "source": [
    "group_data.to_csv('pagos_parciales.csv', header=True)"
   ]
  },
  {
   "cell_type": "code",
   "execution_count": 27,
   "metadata": {},
   "outputs": [],
   "source": [
    "df_pagos_totales= pd.read_csv('pagos_totales.csv')\n",
    "df_pagos_parciales=pd.read_csv('pagos_parciales.csv')"
   ]
  },
  {
   "cell_type": "code",
   "execution_count": 28,
   "metadata": {},
   "outputs": [
    {
     "data": {
      "text/html": [
       "<div>\n",
       "<style scoped>\n",
       "    .dataframe tbody tr th:only-of-type {\n",
       "        vertical-align: middle;\n",
       "    }\n",
       "\n",
       "    .dataframe tbody tr th {\n",
       "        vertical-align: top;\n",
       "    }\n",
       "\n",
       "    .dataframe thead th {\n",
       "        text-align: right;\n",
       "    }\n",
       "</style>\n",
       "<table border=\"1\" class=\"dataframe\">\n",
       "  <thead>\n",
       "    <tr style=\"text-align: right;\">\n",
       "      <th></th>\n",
       "      <th>RendicionId</th>\n",
       "      <th>PrestamoId</th>\n",
       "      <th>CuotaId</th>\n",
       "      <th>Importe</th>\n",
       "    </tr>\n",
       "  </thead>\n",
       "  <tbody>\n",
       "    <tr>\n",
       "      <th>0</th>\n",
       "      <td>1</td>\n",
       "      <td>100108</td>\n",
       "      <td>1</td>\n",
       "      <td>1586.00</td>\n",
       "    </tr>\n",
       "    <tr>\n",
       "      <th>1</th>\n",
       "      <td>2</td>\n",
       "      <td>100058</td>\n",
       "      <td>3</td>\n",
       "      <td>1586.00</td>\n",
       "    </tr>\n",
       "    <tr>\n",
       "      <th>2</th>\n",
       "      <td>2</td>\n",
       "      <td>100061</td>\n",
       "      <td>3</td>\n",
       "      <td>2089.34</td>\n",
       "    </tr>\n",
       "    <tr>\n",
       "      <th>3</th>\n",
       "      <td>2</td>\n",
       "      <td>100062</td>\n",
       "      <td>3</td>\n",
       "      <td>2089.34</td>\n",
       "    </tr>\n",
       "    <tr>\n",
       "      <th>4</th>\n",
       "      <td>2</td>\n",
       "      <td>100063</td>\n",
       "      <td>2</td>\n",
       "      <td>2316.00</td>\n",
       "    </tr>\n",
       "  </tbody>\n",
       "</table>\n",
       "</div>"
      ],
      "text/plain": [
       "   RendicionId  PrestamoId  CuotaId  Importe\n",
       "0            1      100108        1  1586.00\n",
       "1            2      100058        3  1586.00\n",
       "2            2      100061        3  2089.34\n",
       "3            2      100062        3  2089.34\n",
       "4            2      100063        2  2316.00"
      ]
     },
     "execution_count": 28,
     "metadata": {},
     "output_type": "execute_result"
    }
   ],
   "source": [
    "df_pagos_totales.head()"
   ]
  },
  {
   "cell_type": "code",
   "execution_count": 29,
   "metadata": {},
   "outputs": [
    {
     "data": {
      "text/html": [
       "<div>\n",
       "<style scoped>\n",
       "    .dataframe tbody tr th:only-of-type {\n",
       "        vertical-align: middle;\n",
       "    }\n",
       "\n",
       "    .dataframe tbody tr th {\n",
       "        vertical-align: top;\n",
       "    }\n",
       "\n",
       "    .dataframe thead th {\n",
       "        text-align: right;\n",
       "    }\n",
       "</style>\n",
       "<table border=\"1\" class=\"dataframe\">\n",
       "  <thead>\n",
       "    <tr style=\"text-align: right;\">\n",
       "      <th></th>\n",
       "      <th>RendicionId</th>\n",
       "      <th>PrestamoId</th>\n",
       "      <th>CuotaId</th>\n",
       "      <th>Descripcion</th>\n",
       "      <th>Importe</th>\n",
       "    </tr>\n",
       "  </thead>\n",
       "  <tbody>\n",
       "    <tr>\n",
       "      <th>0</th>\n",
       "      <td>1</td>\n",
       "      <td>100108</td>\n",
       "      <td>1</td>\n",
       "      <td>Debito Correcto</td>\n",
       "      <td>1586.00</td>\n",
       "    </tr>\n",
       "    <tr>\n",
       "      <th>1</th>\n",
       "      <td>2</td>\n",
       "      <td>100058</td>\n",
       "      <td>3</td>\n",
       "      <td>Debito Correcto</td>\n",
       "      <td>1586.00</td>\n",
       "    </tr>\n",
       "    <tr>\n",
       "      <th>2</th>\n",
       "      <td>2</td>\n",
       "      <td>100061</td>\n",
       "      <td>3</td>\n",
       "      <td>Debito Correcto</td>\n",
       "      <td>2089.34</td>\n",
       "    </tr>\n",
       "    <tr>\n",
       "      <th>3</th>\n",
       "      <td>2</td>\n",
       "      <td>100062</td>\n",
       "      <td>3</td>\n",
       "      <td>Debito Correcto</td>\n",
       "      <td>2089.34</td>\n",
       "    </tr>\n",
       "    <tr>\n",
       "      <th>4</th>\n",
       "      <td>2</td>\n",
       "      <td>100063</td>\n",
       "      <td>2</td>\n",
       "      <td>Debito Correcto</td>\n",
       "      <td>2316.00</td>\n",
       "    </tr>\n",
       "  </tbody>\n",
       "</table>\n",
       "</div>"
      ],
      "text/plain": [
       "   RendicionId  PrestamoId  CuotaId      Descripcion  Importe\n",
       "0            1      100108        1  Debito Correcto  1586.00\n",
       "1            2      100058        3  Debito Correcto  1586.00\n",
       "2            2      100061        3  Debito Correcto  2089.34\n",
       "3            2      100062        3  Debito Correcto  2089.34\n",
       "4            2      100063        2  Debito Correcto  2316.00"
      ]
     },
     "execution_count": 29,
     "metadata": {},
     "output_type": "execute_result"
    }
   ],
   "source": [
    "df_pagos_parciales.head()"
   ]
  },
  {
   "cell_type": "code",
   "execution_count": 30,
   "metadata": {},
   "outputs": [],
   "source": [
    "new_df = pd.merge(df_pagos_parciales, df_pagos_totales,  how='left', left_on=['RendicionId','PrestamoId','CuotaId'], right_on = ['RendicionId','PrestamoId','CuotaId'])"
   ]
  },
  {
   "cell_type": "code",
   "execution_count": 31,
   "metadata": {},
   "outputs": [],
   "source": [
    "new_df['porcetage_cuota']=new_df[['Importe_x']].div(new_df.Importe_y, axis=0)"
   ]
  },
  {
   "cell_type": "code",
   "execution_count": 32,
   "metadata": {},
   "outputs": [
    {
     "data": {
      "text/html": [
       "<div>\n",
       "<style scoped>\n",
       "    .dataframe tbody tr th:only-of-type {\n",
       "        vertical-align: middle;\n",
       "    }\n",
       "\n",
       "    .dataframe tbody tr th {\n",
       "        vertical-align: top;\n",
       "    }\n",
       "\n",
       "    .dataframe thead th {\n",
       "        text-align: right;\n",
       "    }\n",
       "</style>\n",
       "<table border=\"1\" class=\"dataframe\">\n",
       "  <thead>\n",
       "    <tr style=\"text-align: right;\">\n",
       "      <th></th>\n",
       "      <th>RendicionId</th>\n",
       "      <th>PrestamoId</th>\n",
       "      <th>CuotaId</th>\n",
       "      <th>Descripcion</th>\n",
       "      <th>Importe_x</th>\n",
       "      <th>Importe_y</th>\n",
       "      <th>porcetage_cuota</th>\n",
       "    </tr>\n",
       "  </thead>\n",
       "  <tbody>\n",
       "    <tr>\n",
       "      <th>5171</th>\n",
       "      <td>138</td>\n",
       "      <td>101213</td>\n",
       "      <td>2</td>\n",
       "      <td>Debito Correcto</td>\n",
       "      <td>164.0</td>\n",
       "      <td>2164.0</td>\n",
       "      <td>0.075786</td>\n",
       "    </tr>\n",
       "    <tr>\n",
       "      <th>5172</th>\n",
       "      <td>138</td>\n",
       "      <td>101213</td>\n",
       "      <td>2</td>\n",
       "      <td>Falta de fondos</td>\n",
       "      <td>2000.0</td>\n",
       "      <td>2164.0</td>\n",
       "      <td>0.924214</td>\n",
       "    </tr>\n",
       "  </tbody>\n",
       "</table>\n",
       "</div>"
      ],
      "text/plain": [
       "      RendicionId  PrestamoId  CuotaId      Descripcion  Importe_x  Importe_y  \\\n",
       "5171          138      101213        2  Debito Correcto      164.0     2164.0   \n",
       "5172          138      101213        2  Falta de fondos     2000.0     2164.0   \n",
       "\n",
       "      porcetage_cuota  \n",
       "5171         0.075786  \n",
       "5172         0.924214  "
      ]
     },
     "execution_count": 32,
     "metadata": {},
     "output_type": "execute_result"
    }
   ],
   "source": [
    "new_df[(new_df.PrestamoId==101213) & (new_df.RendicionId==138) ]"
   ]
  },
  {
   "cell_type": "code",
   "execution_count": 33,
   "metadata": {},
   "outputs": [
    {
     "data": {
      "text/plain": [
       "0    1.0\n",
       "1    1.0\n",
       "2    1.0\n",
       "3    1.0\n",
       "4    1.0\n",
       "Name: porcetage_cuota, dtype: float64"
      ]
     },
     "execution_count": 33,
     "metadata": {},
     "output_type": "execute_result"
    }
   ],
   "source": [
    "new_df.porcetage_cuota[new_df.Descripcion=='Debito Correcto'].head()"
   ]
  },
  {
   "cell_type": "code",
   "execution_count": 34,
   "metadata": {},
   "outputs": [
    {
     "data": {
      "text/plain": [
       "(1707, 7)"
      ]
     },
     "execution_count": 34,
     "metadata": {},
     "output_type": "execute_result"
    }
   ],
   "source": [
    "new_df[(new_df.porcetage_cuota==1.00) & (new_df.Descripcion=='Debito Correcto')].shape"
   ]
  },
  {
   "cell_type": "code",
   "execution_count": 35,
   "metadata": {},
   "outputs": [
    {
     "data": {
      "text/plain": [
       "(212, 7)"
      ]
     },
     "execution_count": 35,
     "metadata": {},
     "output_type": "execute_result"
    }
   ],
   "source": [
    "new_df[(new_df.porcetage_cuota!=1.00) & (new_df.Descripcion=='Debito Correcto')].shape"
   ]
  },
  {
   "cell_type": "code",
   "execution_count": 36,
   "metadata": {},
   "outputs": [
    {
     "data": {
      "text/plain": [
       "(7575, 7)"
      ]
     },
     "execution_count": 36,
     "metadata": {},
     "output_type": "execute_result"
    }
   ],
   "source": [
    "new_df.shape"
   ]
  },
  {
   "cell_type": "code",
   "execution_count": 37,
   "metadata": {},
   "outputs": [
    {
     "data": {
      "text/plain": [
       "<matplotlib.axes._subplots.AxesSubplot at 0x1cbecbbeac8>"
      ]
     },
     "execution_count": 37,
     "metadata": {},
     "output_type": "execute_result"
    },
    {
     "data": {
      "image/png": "[encoded data removed]",
      "text/plain": [
       "<Figure size 432x288 with 1 Axes>"
      ]
     },
     "metadata": {
      "needs_background": "light"
     },
     "output_type": "display_data"
    }
   ],
   "source": [
    "new_df.porcetage_cuota[new_df.Descripcion=='Debito Correcto'].hist(bins=10)"
   ]
  },
  {
   "cell_type": "markdown",
   "metadata": {},
   "source": [
    "### Analizo para el Banco de Comercio.\n",
    "Hago la consulta directamente sobre la tabla en cuestion. En en el periodo analizado no se realizaron impactos con el otro banco."
   ]
  },
  {
   "cell_type": "code",
   "execution_count": 38,
   "metadata": {},
   "outputs": [],
   "source": [
    "#Name server.\n",
    "server='miadelanto.cw8tpboctrtb.us-west-2.rds.amazonaws.com'\n",
    "# user server.\n",
    "user='jesica'\n",
    "# Password.\n",
    "password='Jesisol123'\n",
    "# used Database.\n",
    "db='dtsMiAdelanto'\n",
    "# connector instance\n",
    "conn = pymssql.connect(server=server, user=user, password=password, database=db)\n",
    "# Selected Query.\n",
    "query=\"\"\"select * from dtsMiAdelanto.dbo.BancoComercioDebitosRendicionesCuotas\"\"\"\n",
    "# Make dataframe from query.\n",
    "df_comercio = pd.read_sql(query, conn)\n",
    "# Close connection.\n",
    "conn.close()\n",
    "\n",
    "\n"
   ]
  },
  {
   "cell_type": "code",
   "execution_count": 39,
   "metadata": {},
   "outputs": [
    {
     "data": {
      "text/html": [
       "<div>\n",
       "<style scoped>\n",
       "    .dataframe tbody tr th:only-of-type {\n",
       "        vertical-align: middle;\n",
       "    }\n",
       "\n",
       "    .dataframe tbody tr th {\n",
       "        vertical-align: top;\n",
       "    }\n",
       "\n",
       "    .dataframe thead th {\n",
       "        text-align: right;\n",
       "    }\n",
       "</style>\n",
       "<table border=\"1\" class=\"dataframe\">\n",
       "  <thead>\n",
       "    <tr style=\"text-align: right;\">\n",
       "      <th></th>\n",
       "      <th>RendicionId</th>\n",
       "      <th>PrestamoComercioId</th>\n",
       "      <th>PrestamoSucursalId</th>\n",
       "      <th>PrestamoId</th>\n",
       "      <th>CuotaId</th>\n",
       "      <th>ItemId</th>\n",
       "      <th>Importe</th>\n",
       "      <th>Fecha</th>\n",
       "      <th>Codigo</th>\n",
       "      <th>CodigoNombre</th>\n",
       "      <th>attrImputado</th>\n",
       "    </tr>\n",
       "  </thead>\n",
       "  <tbody>\n",
       "    <tr>\n",
       "      <th>0</th>\n",
       "      <td>1</td>\n",
       "      <td>1</td>\n",
       "      <td>1</td>\n",
       "      <td>101851</td>\n",
       "      <td>0</td>\n",
       "      <td>1</td>\n",
       "      <td>0.0</td>\n",
       "      <td>2019-06-04</td>\n",
       "      <td>R</td>\n",
       "      <td>R10-Falta de fondos</td>\n",
       "      <td>False</td>\n",
       "    </tr>\n",
       "    <tr>\n",
       "      <th>1</th>\n",
       "      <td>1</td>\n",
       "      <td>1</td>\n",
       "      <td>1</td>\n",
       "      <td>101856</td>\n",
       "      <td>0</td>\n",
       "      <td>1</td>\n",
       "      <td>6384.0</td>\n",
       "      <td>2019-06-04</td>\n",
       "      <td>C</td>\n",
       "      <td>None</td>\n",
       "      <td>True</td>\n",
       "    </tr>\n",
       "    <tr>\n",
       "      <th>2</th>\n",
       "      <td>1</td>\n",
       "      <td>1</td>\n",
       "      <td>1</td>\n",
       "      <td>101861</td>\n",
       "      <td>0</td>\n",
       "      <td>1</td>\n",
       "      <td>2814.0</td>\n",
       "      <td>2019-06-04</td>\n",
       "      <td>C</td>\n",
       "      <td>None</td>\n",
       "      <td>True</td>\n",
       "    </tr>\n",
       "  </tbody>\n",
       "</table>\n",
       "</div>"
      ],
      "text/plain": [
       "   RendicionId  PrestamoComercioId  PrestamoSucursalId  PrestamoId  CuotaId  \\\n",
       "0            1                   1                   1      101851        0   \n",
       "1            1                   1                   1      101856        0   \n",
       "2            1                   1                   1      101861        0   \n",
       "\n",
       "   ItemId  Importe      Fecha Codigo         CodigoNombre attrImputado  \n",
       "0       1      0.0 2019-06-04      R  R10-Falta de fondos        False  \n",
       "1       1   6384.0 2019-06-04      C                 None         True  \n",
       "2       1   2814.0 2019-06-04      C                 None         True  "
      ]
     },
     "execution_count": 39,
     "metadata": {},
     "output_type": "execute_result"
    }
   ],
   "source": [
    "df_comercio.head(3)"
   ]
  },
  {
   "cell_type": "markdown",
   "metadata": {},
   "source": [
    "Que dias se realizo el impacto??"
   ]
  },
  {
   "cell_type": "code",
   "execution_count": 40,
   "metadata": {},
   "outputs": [],
   "source": [
    "df_comercio[\"date\"] = df_comercio.Fecha.astype(\"datetime64\")"
   ]
  },
  {
   "cell_type": "code",
   "execution_count": 41,
   "metadata": {},
   "outputs": [
    {
     "data": {
      "text/plain": [
       "<matplotlib.axes._subplots.AxesSubplot at 0x1cbecc02358>"
      ]
     },
     "execution_count": 41,
     "metadata": {},
     "output_type": "execute_result"
    },
    {
     "data": {
      "image/png": "[encoded data removed]",
      "text/plain": [
       "<Figure size 432x288 with 1 Axes>"
      ]
     },
     "metadata": {
      "needs_background": "light"
     },
     "output_type": "display_data"
    }
   ],
   "source": [
    "df_comercio.groupby(df_comercio[\"date\"].dt.day)[\"date\"].count().plot(kind=\"bar\")"
   ]
  },
  {
   "cell_type": "code",
   "execution_count": 42,
   "metadata": {},
   "outputs": [
    {
     "data": {
      "text/plain": [
       "<matplotlib.axes._subplots.AxesSubplot at 0x1cbecea1710>"
      ]
     },
     "execution_count": 42,
     "metadata": {},
     "output_type": "execute_result"
    },
    {
     "data": {
      "image/png": "[encoded data removed]",
      "text/plain": [
       "<Figure size 432x288 with 1 Axes>"
      ]
     },
     "metadata": {
      "needs_background": "light"
     },
     "output_type": "display_data"
    }
   ],
   "source": [
    "df_comercio[df_comercio.Codigo==\"C\"].groupby(df_comercio[\"date\"].dt.day)[\"date\"].count().plot(kind=\"bar\")"
   ]
  },
  {
   "cell_type": "markdown",
   "metadata": {},
   "source": [
    "Los casos donde no tengo el cobro cual fue la razon??"
   ]
  },
  {
   "cell_type": "code",
   "execution_count": 43,
   "metadata": {},
   "outputs": [
    {
     "data": {
      "text/plain": [
       "R10-Falta de fondos           2565\n",
       "R02-Cuenta cerrada             548\n",
       "R03-Cuenta inexistente         119\n",
       "R08-Orden no pagar              87\n",
       "R04-Nro de cuenta inv lido      50\n",
       "R15-Baja del servicio           26\n",
       "R93-D¡a no laborable            11\n",
       "Name: CodigoNombre, dtype: int64"
      ]
     },
     "execution_count": 43,
     "metadata": {},
     "output_type": "execute_result"
    }
   ],
   "source": [
    "df_comercio.CodigoNombre.value_counts()"
   ]
  },
  {
   "cell_type": "code",
   "execution_count": 44,
   "metadata": {},
   "outputs": [
    {
     "data": {
      "text/plain": [
       "830"
      ]
     },
     "execution_count": 44,
     "metadata": {},
     "output_type": "execute_result"
    }
   ],
   "source": [
    "df_comercio.CodigoNombre.value_counts()[(df_comercio.CodigoNombre.value_counts().index!='R10-Falta de fondos') & (df_comercio.CodigoNombre.value_counts().index!='R93-D¡a no laborable') ].sum()"
   ]
  },
  {
   "cell_type": "code",
   "execution_count": 45,
   "metadata": {},
   "outputs": [
    {
     "data": {
      "text/plain": [
       "R10-Falta de fondos           212\n",
       "R02-Cuenta cerrada             40\n",
       "R04-Nro de cuenta inv lido     13\n",
       "R03-Cuenta inexistente         13\n",
       "R15-Baja del servicio           6\n",
       "R08-Orden no pagar              4\n",
       "Name: CodigoNombre, dtype: int64"
      ]
     },
     "execution_count": 45,
     "metadata": {},
     "output_type": "execute_result"
    }
   ],
   "source": [
    "sinredundancia=df_comercio.drop_duplicates(subset=['PrestamoId'])\n",
    "sinredundancia.CodigoNombre.value_counts()\n",
    "#[(df_comercio.CodigoNombre.value_counts().index!='R10-Falta de fondos') & (df_comercio.CodigoNombre.value_counts().index!='R93-D¡a no laborable')]\n"
   ]
  },
  {
   "cell_type": "code",
   "execution_count": 46,
   "metadata": {},
   "outputs": [
    {
     "data": {
      "text/plain": [
       "<matplotlib.axes._subplots.AxesSubplot at 0x1cbed337c50>"
      ]
     },
     "execution_count": 46,
     "metadata": {},
     "output_type": "execute_result"
    },
    {
     "data": {
      "image/png": "[encoded data removed]",
      "text/plain": [
       "<Figure size 432x288 with 1 Axes>"
      ]
     },
     "metadata": {},
     "output_type": "display_data"
    }
   ],
   "source": [
    "df_comercio.CodigoNombre.value_counts().plot(kind='pie',autopct='%.2f%%')"
   ]
  },
  {
   "cell_type": "code",
   "execution_count": 47,
   "metadata": {},
   "outputs": [
    {
     "data": {
      "text/html": [
       "<div>\n",
       "<style scoped>\n",
       "    .dataframe tbody tr th:only-of-type {\n",
       "        vertical-align: middle;\n",
       "    }\n",
       "\n",
       "    .dataframe tbody tr th {\n",
       "        vertical-align: top;\n",
       "    }\n",
       "\n",
       "    .dataframe thead th {\n",
       "        text-align: right;\n",
       "    }\n",
       "</style>\n",
       "<table border=\"1\" class=\"dataframe\">\n",
       "  <thead>\n",
       "    <tr style=\"text-align: right;\">\n",
       "      <th></th>\n",
       "      <th>PrestamoId</th>\n",
       "      <th>CodigoNombre</th>\n",
       "      <th>Codigo</th>\n",
       "      <th>ItemId</th>\n",
       "    </tr>\n",
       "  </thead>\n",
       "  <tbody>\n",
       "    <tr>\n",
       "      <th>24</th>\n",
       "      <td>101972</td>\n",
       "      <td>R03-Cuenta inexistente</td>\n",
       "      <td>R</td>\n",
       "      <td>1</td>\n",
       "    </tr>\n",
       "    <tr>\n",
       "      <th>70</th>\n",
       "      <td>101972</td>\n",
       "      <td>R03-Cuenta inexistente</td>\n",
       "      <td>R</td>\n",
       "      <td>1</td>\n",
       "    </tr>\n",
       "    <tr>\n",
       "      <th>92</th>\n",
       "      <td>101972</td>\n",
       "      <td>R03-Cuenta inexistente</td>\n",
       "      <td>R</td>\n",
       "      <td>1</td>\n",
       "    </tr>\n",
       "    <tr>\n",
       "      <th>114</th>\n",
       "      <td>100036</td>\n",
       "      <td>R02-Cuenta cerrada</td>\n",
       "      <td>R</td>\n",
       "      <td>1</td>\n",
       "    </tr>\n",
       "    <tr>\n",
       "      <th>115</th>\n",
       "      <td>100036</td>\n",
       "      <td>R02-Cuenta cerrada</td>\n",
       "      <td>R</td>\n",
       "      <td>2</td>\n",
       "    </tr>\n",
       "  </tbody>\n",
       "</table>\n",
       "</div>"
      ],
      "text/plain": [
       "     PrestamoId            CodigoNombre Codigo  ItemId\n",
       "24       101972  R03-Cuenta inexistente      R       1\n",
       "70       101972  R03-Cuenta inexistente      R       1\n",
       "92       101972  R03-Cuenta inexistente      R       1\n",
       "114      100036      R02-Cuenta cerrada      R       1\n",
       "115      100036      R02-Cuenta cerrada      R       2"
      ]
     },
     "execution_count": 47,
     "metadata": {},
     "output_type": "execute_result"
    }
   ],
   "source": [
    "#df_comercio[df_comercio.CodigoNombre=='R10-Falta de fondos']\n",
    "df_comercio[(df_comercio.CodigoNombre=='R02-Cuenta cerrada') | (df_comercio.CodigoNombre=='R03-Cuenta inexistente') |(df_comercio.CodigoNombre=='R08-Orden no pagar') | (df_comercio.CodigoNombre=='R04-Nro de cuenta inv lido')][['PrestamoId','CodigoNombre','Codigo','ItemId']].head()"
   ]
  },
  {
   "cell_type": "markdown",
   "metadata": {},
   "source": [
    " Cual es el porcentaje de Cobranzas?"
   ]
  },
  {
   "cell_type": "code",
   "execution_count": 48,
   "metadata": {},
   "outputs": [
    {
     "data": {
      "text/plain": [
       "R    0.96079\n",
       "C    0.03921\n",
       "Name: Codigo, dtype: float64"
      ]
     },
     "execution_count": 48,
     "metadata": {},
     "output_type": "execute_result"
    }
   ],
   "source": [
    "df_comercio.Codigo.value_counts()/df_comercio.Codigo.value_counts().sum()\n"
   ]
  },
  {
   "cell_type": "code",
   "execution_count": 49,
   "metadata": {},
   "outputs": [
    {
     "data": {
      "text/html": [
       "<div>\n",
       "<style scoped>\n",
       "    .dataframe tbody tr th:only-of-type {\n",
       "        vertical-align: middle;\n",
       "    }\n",
       "\n",
       "    .dataframe tbody tr th {\n",
       "        vertical-align: top;\n",
       "    }\n",
       "\n",
       "    .dataframe thead th {\n",
       "        text-align: right;\n",
       "    }\n",
       "</style>\n",
       "<table border=\"1\" class=\"dataframe\">\n",
       "  <thead>\n",
       "    <tr style=\"text-align: right;\">\n",
       "      <th></th>\n",
       "      <th>RendicionId</th>\n",
       "      <th>PrestamoComercioId</th>\n",
       "      <th>PrestamoSucursalId</th>\n",
       "      <th>PrestamoId</th>\n",
       "      <th>CuotaId</th>\n",
       "      <th>ItemId</th>\n",
       "      <th>Importe</th>\n",
       "      <th>Fecha</th>\n",
       "      <th>Codigo</th>\n",
       "      <th>CodigoNombre</th>\n",
       "      <th>attrImputado</th>\n",
       "      <th>date</th>\n",
       "    </tr>\n",
       "  </thead>\n",
       "  <tbody>\n",
       "    <tr>\n",
       "      <th>1</th>\n",
       "      <td>1</td>\n",
       "      <td>1</td>\n",
       "      <td>1</td>\n",
       "      <td>101856</td>\n",
       "      <td>0</td>\n",
       "      <td>1</td>\n",
       "      <td>6384.00</td>\n",
       "      <td>2019-06-04</td>\n",
       "      <td>C</td>\n",
       "      <td>None</td>\n",
       "      <td>True</td>\n",
       "      <td>2019-06-04</td>\n",
       "    </tr>\n",
       "    <tr>\n",
       "      <th>2</th>\n",
       "      <td>1</td>\n",
       "      <td>1</td>\n",
       "      <td>1</td>\n",
       "      <td>101861</td>\n",
       "      <td>0</td>\n",
       "      <td>1</td>\n",
       "      <td>2814.00</td>\n",
       "      <td>2019-06-04</td>\n",
       "      <td>C</td>\n",
       "      <td>None</td>\n",
       "      <td>True</td>\n",
       "      <td>2019-06-04</td>\n",
       "    </tr>\n",
       "    <tr>\n",
       "      <th>3</th>\n",
       "      <td>1</td>\n",
       "      <td>1</td>\n",
       "      <td>1</td>\n",
       "      <td>101882</td>\n",
       "      <td>0</td>\n",
       "      <td>1</td>\n",
       "      <td>6384.00</td>\n",
       "      <td>2019-06-04</td>\n",
       "      <td>C</td>\n",
       "      <td>None</td>\n",
       "      <td>True</td>\n",
       "      <td>2019-06-04</td>\n",
       "    </tr>\n",
       "    <tr>\n",
       "      <th>4</th>\n",
       "      <td>1</td>\n",
       "      <td>1</td>\n",
       "      <td>1</td>\n",
       "      <td>101893</td>\n",
       "      <td>0</td>\n",
       "      <td>1</td>\n",
       "      <td>4046.00</td>\n",
       "      <td>2019-06-04</td>\n",
       "      <td>C</td>\n",
       "      <td>None</td>\n",
       "      <td>True</td>\n",
       "      <td>2019-06-04</td>\n",
       "    </tr>\n",
       "    <tr>\n",
       "      <th>13</th>\n",
       "      <td>1</td>\n",
       "      <td>1</td>\n",
       "      <td>1</td>\n",
       "      <td>101930</td>\n",
       "      <td>0</td>\n",
       "      <td>1</td>\n",
       "      <td>5544.00</td>\n",
       "      <td>2019-06-04</td>\n",
       "      <td>C</td>\n",
       "      <td>None</td>\n",
       "      <td>True</td>\n",
       "      <td>2019-06-04</td>\n",
       "    </tr>\n",
       "    <tr>\n",
       "      <th>14</th>\n",
       "      <td>1</td>\n",
       "      <td>1</td>\n",
       "      <td>1</td>\n",
       "      <td>101938</td>\n",
       "      <td>0</td>\n",
       "      <td>1</td>\n",
       "      <td>2668.00</td>\n",
       "      <td>2019-06-04</td>\n",
       "      <td>C</td>\n",
       "      <td>None</td>\n",
       "      <td>True</td>\n",
       "      <td>2019-06-04</td>\n",
       "    </tr>\n",
       "    <tr>\n",
       "      <th>17</th>\n",
       "      <td>1</td>\n",
       "      <td>1</td>\n",
       "      <td>1</td>\n",
       "      <td>101944</td>\n",
       "      <td>0</td>\n",
       "      <td>1</td>\n",
       "      <td>1302.00</td>\n",
       "      <td>2019-06-04</td>\n",
       "      <td>C</td>\n",
       "      <td>None</td>\n",
       "      <td>True</td>\n",
       "      <td>2019-06-04</td>\n",
       "    </tr>\n",
       "    <tr>\n",
       "      <th>19</th>\n",
       "      <td>1</td>\n",
       "      <td>1</td>\n",
       "      <td>1</td>\n",
       "      <td>101946</td>\n",
       "      <td>0</td>\n",
       "      <td>1</td>\n",
       "      <td>6384.00</td>\n",
       "      <td>2019-06-04</td>\n",
       "      <td>C</td>\n",
       "      <td>None</td>\n",
       "      <td>True</td>\n",
       "      <td>2019-06-04</td>\n",
       "    </tr>\n",
       "    <tr>\n",
       "      <th>27</th>\n",
       "      <td>1</td>\n",
       "      <td>1</td>\n",
       "      <td>1</td>\n",
       "      <td>101982</td>\n",
       "      <td>0</td>\n",
       "      <td>1</td>\n",
       "      <td>2604.00</td>\n",
       "      <td>2019-06-04</td>\n",
       "      <td>C</td>\n",
       "      <td>None</td>\n",
       "      <td>True</td>\n",
       "      <td>2019-06-04</td>\n",
       "    </tr>\n",
       "    <tr>\n",
       "      <th>30</th>\n",
       "      <td>1</td>\n",
       "      <td>1</td>\n",
       "      <td>1</td>\n",
       "      <td>101992</td>\n",
       "      <td>0</td>\n",
       "      <td>1</td>\n",
       "      <td>4284.00</td>\n",
       "      <td>2019-06-04</td>\n",
       "      <td>C</td>\n",
       "      <td>None</td>\n",
       "      <td>True</td>\n",
       "      <td>2019-06-04</td>\n",
       "    </tr>\n",
       "    <tr>\n",
       "      <th>32</th>\n",
       "      <td>1</td>\n",
       "      <td>1</td>\n",
       "      <td>1</td>\n",
       "      <td>101998</td>\n",
       "      <td>0</td>\n",
       "      <td>1</td>\n",
       "      <td>5134.00</td>\n",
       "      <td>2019-06-04</td>\n",
       "      <td>C</td>\n",
       "      <td>None</td>\n",
       "      <td>True</td>\n",
       "      <td>2019-06-04</td>\n",
       "    </tr>\n",
       "    <tr>\n",
       "      <th>35</th>\n",
       "      <td>1</td>\n",
       "      <td>1</td>\n",
       "      <td>1</td>\n",
       "      <td>102008</td>\n",
       "      <td>0</td>\n",
       "      <td>1</td>\n",
       "      <td>3024.00</td>\n",
       "      <td>2019-06-04</td>\n",
       "      <td>C</td>\n",
       "      <td>None</td>\n",
       "      <td>True</td>\n",
       "      <td>2019-06-04</td>\n",
       "    </tr>\n",
       "    <tr>\n",
       "      <th>36</th>\n",
       "      <td>1</td>\n",
       "      <td>1</td>\n",
       "      <td>1</td>\n",
       "      <td>102009</td>\n",
       "      <td>0</td>\n",
       "      <td>1</td>\n",
       "      <td>4284.00</td>\n",
       "      <td>2019-06-04</td>\n",
       "      <td>C</td>\n",
       "      <td>None</td>\n",
       "      <td>True</td>\n",
       "      <td>2019-06-04</td>\n",
       "    </tr>\n",
       "    <tr>\n",
       "      <th>40</th>\n",
       "      <td>1</td>\n",
       "      <td>1</td>\n",
       "      <td>1</td>\n",
       "      <td>102017</td>\n",
       "      <td>0</td>\n",
       "      <td>1</td>\n",
       "      <td>5876.00</td>\n",
       "      <td>2019-06-04</td>\n",
       "      <td>C</td>\n",
       "      <td>None</td>\n",
       "      <td>True</td>\n",
       "      <td>2019-06-04</td>\n",
       "    </tr>\n",
       "    <tr>\n",
       "      <th>41</th>\n",
       "      <td>1</td>\n",
       "      <td>1</td>\n",
       "      <td>1</td>\n",
       "      <td>102018</td>\n",
       "      <td>0</td>\n",
       "      <td>1</td>\n",
       "      <td>9266.00</td>\n",
       "      <td>2019-06-04</td>\n",
       "      <td>C</td>\n",
       "      <td>None</td>\n",
       "      <td>True</td>\n",
       "      <td>2019-06-04</td>\n",
       "    </tr>\n",
       "    <tr>\n",
       "      <th>43</th>\n",
       "      <td>1</td>\n",
       "      <td>1</td>\n",
       "      <td>1</td>\n",
       "      <td>102022</td>\n",
       "      <td>0</td>\n",
       "      <td>1</td>\n",
       "      <td>6384.00</td>\n",
       "      <td>2019-06-04</td>\n",
       "      <td>C</td>\n",
       "      <td>None</td>\n",
       "      <td>True</td>\n",
       "      <td>2019-06-04</td>\n",
       "    </tr>\n",
       "    <tr>\n",
       "      <th>45</th>\n",
       "      <td>1</td>\n",
       "      <td>1</td>\n",
       "      <td>1</td>\n",
       "      <td>102024</td>\n",
       "      <td>0</td>\n",
       "      <td>1</td>\n",
       "      <td>7006.00</td>\n",
       "      <td>2019-06-04</td>\n",
       "      <td>C</td>\n",
       "      <td>None</td>\n",
       "      <td>True</td>\n",
       "      <td>2019-06-04</td>\n",
       "    </tr>\n",
       "    <tr>\n",
       "      <th>47</th>\n",
       "      <td>1</td>\n",
       "      <td>1</td>\n",
       "      <td>1</td>\n",
       "      <td>102026</td>\n",
       "      <td>0</td>\n",
       "      <td>1</td>\n",
       "      <td>4127.00</td>\n",
       "      <td>2019-06-04</td>\n",
       "      <td>C</td>\n",
       "      <td>None</td>\n",
       "      <td>True</td>\n",
       "      <td>2019-06-04</td>\n",
       "    </tr>\n",
       "    <tr>\n",
       "      <th>50</th>\n",
       "      <td>1</td>\n",
       "      <td>1</td>\n",
       "      <td>1</td>\n",
       "      <td>102035</td>\n",
       "      <td>0</td>\n",
       "      <td>1</td>\n",
       "      <td>5876.00</td>\n",
       "      <td>2019-06-04</td>\n",
       "      <td>C</td>\n",
       "      <td>None</td>\n",
       "      <td>True</td>\n",
       "      <td>2019-06-04</td>\n",
       "    </tr>\n",
       "    <tr>\n",
       "      <th>54</th>\n",
       "      <td>1</td>\n",
       "      <td>1</td>\n",
       "      <td>1</td>\n",
       "      <td>102041</td>\n",
       "      <td>0</td>\n",
       "      <td>1</td>\n",
       "      <td>6384.00</td>\n",
       "      <td>2019-06-04</td>\n",
       "      <td>C</td>\n",
       "      <td>None</td>\n",
       "      <td>True</td>\n",
       "      <td>2019-06-04</td>\n",
       "    </tr>\n",
       "    <tr>\n",
       "      <th>55</th>\n",
       "      <td>2</td>\n",
       "      <td>1</td>\n",
       "      <td>1</td>\n",
       "      <td>101851</td>\n",
       "      <td>0</td>\n",
       "      <td>1</td>\n",
       "      <td>2884.00</td>\n",
       "      <td>2019-06-07</td>\n",
       "      <td>C</td>\n",
       "      <td>None</td>\n",
       "      <td>True</td>\n",
       "      <td>2019-06-07</td>\n",
       "    </tr>\n",
       "    <tr>\n",
       "      <th>57</th>\n",
       "      <td>2</td>\n",
       "      <td>1</td>\n",
       "      <td>1</td>\n",
       "      <td>101896</td>\n",
       "      <td>0</td>\n",
       "      <td>1</td>\n",
       "      <td>1344.00</td>\n",
       "      <td>2019-06-07</td>\n",
       "      <td>C</td>\n",
       "      <td>None</td>\n",
       "      <td>True</td>\n",
       "      <td>2019-06-07</td>\n",
       "    </tr>\n",
       "    <tr>\n",
       "      <th>60</th>\n",
       "      <td>2</td>\n",
       "      <td>1</td>\n",
       "      <td>1</td>\n",
       "      <td>101902</td>\n",
       "      <td>0</td>\n",
       "      <td>1</td>\n",
       "      <td>6384.00</td>\n",
       "      <td>2019-06-07</td>\n",
       "      <td>C</td>\n",
       "      <td>None</td>\n",
       "      <td>True</td>\n",
       "      <td>2019-06-07</td>\n",
       "    </tr>\n",
       "    <tr>\n",
       "      <th>61</th>\n",
       "      <td>2</td>\n",
       "      <td>1</td>\n",
       "      <td>1</td>\n",
       "      <td>101913</td>\n",
       "      <td>0</td>\n",
       "      <td>1</td>\n",
       "      <td>2604.00</td>\n",
       "      <td>2019-06-07</td>\n",
       "      <td>C</td>\n",
       "      <td>None</td>\n",
       "      <td>True</td>\n",
       "      <td>2019-06-07</td>\n",
       "    </tr>\n",
       "    <tr>\n",
       "      <th>64</th>\n",
       "      <td>2</td>\n",
       "      <td>1</td>\n",
       "      <td>1</td>\n",
       "      <td>101939</td>\n",
       "      <td>0</td>\n",
       "      <td>1</td>\n",
       "      <td>5134.00</td>\n",
       "      <td>2019-06-07</td>\n",
       "      <td>C</td>\n",
       "      <td>None</td>\n",
       "      <td>None</td>\n",
       "      <td>2019-06-07</td>\n",
       "    </tr>\n",
       "    <tr>\n",
       "      <th>65</th>\n",
       "      <td>2</td>\n",
       "      <td>1</td>\n",
       "      <td>1</td>\n",
       "      <td>101943</td>\n",
       "      <td>0</td>\n",
       "      <td>1</td>\n",
       "      <td>1610.66</td>\n",
       "      <td>2019-06-07</td>\n",
       "      <td>C</td>\n",
       "      <td>None</td>\n",
       "      <td>True</td>\n",
       "      <td>2019-06-07</td>\n",
       "    </tr>\n",
       "    <tr>\n",
       "      <th>66</th>\n",
       "      <td>2</td>\n",
       "      <td>1</td>\n",
       "      <td>1</td>\n",
       "      <td>101945</td>\n",
       "      <td>0</td>\n",
       "      <td>1</td>\n",
       "      <td>1192.00</td>\n",
       "      <td>2019-06-07</td>\n",
       "      <td>C</td>\n",
       "      <td>None</td>\n",
       "      <td>True</td>\n",
       "      <td>2019-06-07</td>\n",
       "    </tr>\n",
       "    <tr>\n",
       "      <th>81</th>\n",
       "      <td>2</td>\n",
       "      <td>1</td>\n",
       "      <td>1</td>\n",
       "      <td>102036</td>\n",
       "      <td>0</td>\n",
       "      <td>1</td>\n",
       "      <td>5876.00</td>\n",
       "      <td>2019-06-07</td>\n",
       "      <td>C</td>\n",
       "      <td>None</td>\n",
       "      <td>True</td>\n",
       "      <td>2019-06-07</td>\n",
       "    </tr>\n",
       "    <tr>\n",
       "      <th>82</th>\n",
       "      <td>2</td>\n",
       "      <td>1</td>\n",
       "      <td>1</td>\n",
       "      <td>102038</td>\n",
       "      <td>0</td>\n",
       "      <td>1</td>\n",
       "      <td>11415.00</td>\n",
       "      <td>2019-06-07</td>\n",
       "      <td>C</td>\n",
       "      <td>None</td>\n",
       "      <td>True</td>\n",
       "      <td>2019-06-07</td>\n",
       "    </tr>\n",
       "    <tr>\n",
       "      <th>90</th>\n",
       "      <td>3</td>\n",
       "      <td>1</td>\n",
       "      <td>1</td>\n",
       "      <td>101950</td>\n",
       "      <td>0</td>\n",
       "      <td>1</td>\n",
       "      <td>4255.00</td>\n",
       "      <td>2019-06-12</td>\n",
       "      <td>C</td>\n",
       "      <td>None</td>\n",
       "      <td>True</td>\n",
       "      <td>2019-06-12</td>\n",
       "    </tr>\n",
       "    <tr>\n",
       "      <th>...</th>\n",
       "      <td>...</td>\n",
       "      <td>...</td>\n",
       "      <td>...</td>\n",
       "      <td>...</td>\n",
       "      <td>...</td>\n",
       "      <td>...</td>\n",
       "      <td>...</td>\n",
       "      <td>...</td>\n",
       "      <td>...</td>\n",
       "      <td>...</td>\n",
       "      <td>...</td>\n",
       "      <td>...</td>\n",
       "    </tr>\n",
       "    <tr>\n",
       "      <th>2170</th>\n",
       "      <td>6</td>\n",
       "      <td>1</td>\n",
       "      <td>1</td>\n",
       "      <td>101337</td>\n",
       "      <td>0</td>\n",
       "      <td>12</td>\n",
       "      <td>303.00</td>\n",
       "      <td>2019-06-19</td>\n",
       "      <td>C</td>\n",
       "      <td>None</td>\n",
       "      <td>None</td>\n",
       "      <td>2019-06-19</td>\n",
       "    </tr>\n",
       "    <tr>\n",
       "      <th>2269</th>\n",
       "      <td>6</td>\n",
       "      <td>1</td>\n",
       "      <td>1</td>\n",
       "      <td>101474</td>\n",
       "      <td>0</td>\n",
       "      <td>1</td>\n",
       "      <td>1000.00</td>\n",
       "      <td>2019-06-19</td>\n",
       "      <td>C</td>\n",
       "      <td>None</td>\n",
       "      <td>None</td>\n",
       "      <td>2019-06-19</td>\n",
       "    </tr>\n",
       "    <tr>\n",
       "      <th>2277</th>\n",
       "      <td>6</td>\n",
       "      <td>1</td>\n",
       "      <td>1</td>\n",
       "      <td>101474</td>\n",
       "      <td>0</td>\n",
       "      <td>9</td>\n",
       "      <td>304.00</td>\n",
       "      <td>2019-06-19</td>\n",
       "      <td>C</td>\n",
       "      <td>None</td>\n",
       "      <td>None</td>\n",
       "      <td>2019-06-19</td>\n",
       "    </tr>\n",
       "    <tr>\n",
       "      <th>2417</th>\n",
       "      <td>6</td>\n",
       "      <td>1</td>\n",
       "      <td>1</td>\n",
       "      <td>101747</td>\n",
       "      <td>0</td>\n",
       "      <td>1</td>\n",
       "      <td>1000.00</td>\n",
       "      <td>2019-06-19</td>\n",
       "      <td>C</td>\n",
       "      <td>None</td>\n",
       "      <td>None</td>\n",
       "      <td>2019-06-19</td>\n",
       "    </tr>\n",
       "    <tr>\n",
       "      <th>2420</th>\n",
       "      <td>6</td>\n",
       "      <td>1</td>\n",
       "      <td>1</td>\n",
       "      <td>101747</td>\n",
       "      <td>0</td>\n",
       "      <td>4</td>\n",
       "      <td>346.00</td>\n",
       "      <td>2019-06-19</td>\n",
       "      <td>C</td>\n",
       "      <td>None</td>\n",
       "      <td>None</td>\n",
       "      <td>2019-06-19</td>\n",
       "    </tr>\n",
       "    <tr>\n",
       "      <th>2421</th>\n",
       "      <td>6</td>\n",
       "      <td>1</td>\n",
       "      <td>1</td>\n",
       "      <td>101751</td>\n",
       "      <td>0</td>\n",
       "      <td>1</td>\n",
       "      <td>1000.00</td>\n",
       "      <td>2019-06-19</td>\n",
       "      <td>C</td>\n",
       "      <td>None</td>\n",
       "      <td>None</td>\n",
       "      <td>2019-06-19</td>\n",
       "    </tr>\n",
       "    <tr>\n",
       "      <th>2422</th>\n",
       "      <td>6</td>\n",
       "      <td>1</td>\n",
       "      <td>1</td>\n",
       "      <td>101751</td>\n",
       "      <td>0</td>\n",
       "      <td>2</td>\n",
       "      <td>1000.00</td>\n",
       "      <td>2019-06-19</td>\n",
       "      <td>C</td>\n",
       "      <td>None</td>\n",
       "      <td>None</td>\n",
       "      <td>2019-06-19</td>\n",
       "    </tr>\n",
       "    <tr>\n",
       "      <th>2423</th>\n",
       "      <td>6</td>\n",
       "      <td>1</td>\n",
       "      <td>1</td>\n",
       "      <td>101751</td>\n",
       "      <td>0</td>\n",
       "      <td>3</td>\n",
       "      <td>1000.00</td>\n",
       "      <td>2019-06-19</td>\n",
       "      <td>C</td>\n",
       "      <td>None</td>\n",
       "      <td>None</td>\n",
       "      <td>2019-06-19</td>\n",
       "    </tr>\n",
       "    <tr>\n",
       "      <th>2424</th>\n",
       "      <td>6</td>\n",
       "      <td>1</td>\n",
       "      <td>1</td>\n",
       "      <td>101751</td>\n",
       "      <td>0</td>\n",
       "      <td>4</td>\n",
       "      <td>1000.00</td>\n",
       "      <td>2019-06-19</td>\n",
       "      <td>C</td>\n",
       "      <td>None</td>\n",
       "      <td>None</td>\n",
       "      <td>2019-06-19</td>\n",
       "    </tr>\n",
       "    <tr>\n",
       "      <th>2425</th>\n",
       "      <td>6</td>\n",
       "      <td>1</td>\n",
       "      <td>1</td>\n",
       "      <td>101751</td>\n",
       "      <td>0</td>\n",
       "      <td>5</td>\n",
       "      <td>1000.00</td>\n",
       "      <td>2019-06-19</td>\n",
       "      <td>C</td>\n",
       "      <td>None</td>\n",
       "      <td>None</td>\n",
       "      <td>2019-06-19</td>\n",
       "    </tr>\n",
       "    <tr>\n",
       "      <th>2426</th>\n",
       "      <td>6</td>\n",
       "      <td>1</td>\n",
       "      <td>1</td>\n",
       "      <td>101751</td>\n",
       "      <td>0</td>\n",
       "      <td>6</td>\n",
       "      <td>1000.00</td>\n",
       "      <td>2019-06-19</td>\n",
       "      <td>C</td>\n",
       "      <td>None</td>\n",
       "      <td>None</td>\n",
       "      <td>2019-06-19</td>\n",
       "    </tr>\n",
       "    <tr>\n",
       "      <th>2427</th>\n",
       "      <td>6</td>\n",
       "      <td>1</td>\n",
       "      <td>1</td>\n",
       "      <td>101751</td>\n",
       "      <td>0</td>\n",
       "      <td>7</td>\n",
       "      <td>1000.00</td>\n",
       "      <td>2019-06-19</td>\n",
       "      <td>C</td>\n",
       "      <td>None</td>\n",
       "      <td>None</td>\n",
       "      <td>2019-06-19</td>\n",
       "    </tr>\n",
       "    <tr>\n",
       "      <th>2428</th>\n",
       "      <td>6</td>\n",
       "      <td>1</td>\n",
       "      <td>1</td>\n",
       "      <td>101751</td>\n",
       "      <td>0</td>\n",
       "      <td>8</td>\n",
       "      <td>1000.00</td>\n",
       "      <td>2019-06-19</td>\n",
       "      <td>C</td>\n",
       "      <td>None</td>\n",
       "      <td>None</td>\n",
       "      <td>2019-06-19</td>\n",
       "    </tr>\n",
       "    <tr>\n",
       "      <th>2429</th>\n",
       "      <td>6</td>\n",
       "      <td>1</td>\n",
       "      <td>1</td>\n",
       "      <td>101751</td>\n",
       "      <td>0</td>\n",
       "      <td>9</td>\n",
       "      <td>448.00</td>\n",
       "      <td>2019-06-19</td>\n",
       "      <td>C</td>\n",
       "      <td>None</td>\n",
       "      <td>None</td>\n",
       "      <td>2019-06-19</td>\n",
       "    </tr>\n",
       "    <tr>\n",
       "      <th>2440</th>\n",
       "      <td>6</td>\n",
       "      <td>1</td>\n",
       "      <td>1</td>\n",
       "      <td>101797</td>\n",
       "      <td>0</td>\n",
       "      <td>1</td>\n",
       "      <td>1000.00</td>\n",
       "      <td>2019-06-19</td>\n",
       "      <td>C</td>\n",
       "      <td>None</td>\n",
       "      <td>None</td>\n",
       "      <td>2019-06-19</td>\n",
       "    </tr>\n",
       "    <tr>\n",
       "      <th>2442</th>\n",
       "      <td>6</td>\n",
       "      <td>1</td>\n",
       "      <td>1</td>\n",
       "      <td>101797</td>\n",
       "      <td>0</td>\n",
       "      <td>3</td>\n",
       "      <td>351.00</td>\n",
       "      <td>2019-06-19</td>\n",
       "      <td>C</td>\n",
       "      <td>None</td>\n",
       "      <td>None</td>\n",
       "      <td>2019-06-19</td>\n",
       "    </tr>\n",
       "    <tr>\n",
       "      <th>2641</th>\n",
       "      <td>8</td>\n",
       "      <td>1</td>\n",
       "      <td>1</td>\n",
       "      <td>100376</td>\n",
       "      <td>0</td>\n",
       "      <td>4</td>\n",
       "      <td>306.34</td>\n",
       "      <td>2019-06-25</td>\n",
       "      <td>C</td>\n",
       "      <td>None</td>\n",
       "      <td>None</td>\n",
       "      <td>2019-06-25</td>\n",
       "    </tr>\n",
       "    <tr>\n",
       "      <th>2768</th>\n",
       "      <td>8</td>\n",
       "      <td>1</td>\n",
       "      <td>1</td>\n",
       "      <td>100632</td>\n",
       "      <td>0</td>\n",
       "      <td>1</td>\n",
       "      <td>1000.00</td>\n",
       "      <td>2019-06-25</td>\n",
       "      <td>C</td>\n",
       "      <td>None</td>\n",
       "      <td>None</td>\n",
       "      <td>2019-06-25</td>\n",
       "    </tr>\n",
       "    <tr>\n",
       "      <th>2769</th>\n",
       "      <td>8</td>\n",
       "      <td>1</td>\n",
       "      <td>1</td>\n",
       "      <td>100632</td>\n",
       "      <td>0</td>\n",
       "      <td>2</td>\n",
       "      <td>1000.00</td>\n",
       "      <td>2019-06-25</td>\n",
       "      <td>C</td>\n",
       "      <td>None</td>\n",
       "      <td>None</td>\n",
       "      <td>2019-06-25</td>\n",
       "    </tr>\n",
       "    <tr>\n",
       "      <th>2770</th>\n",
       "      <td>8</td>\n",
       "      <td>1</td>\n",
       "      <td>1</td>\n",
       "      <td>100632</td>\n",
       "      <td>0</td>\n",
       "      <td>3</td>\n",
       "      <td>1000.00</td>\n",
       "      <td>2019-06-25</td>\n",
       "      <td>C</td>\n",
       "      <td>None</td>\n",
       "      <td>None</td>\n",
       "      <td>2019-06-25</td>\n",
       "    </tr>\n",
       "    <tr>\n",
       "      <th>2771</th>\n",
       "      <td>8</td>\n",
       "      <td>1</td>\n",
       "      <td>1</td>\n",
       "      <td>100632</td>\n",
       "      <td>0</td>\n",
       "      <td>4</td>\n",
       "      <td>1000.00</td>\n",
       "      <td>2019-06-25</td>\n",
       "      <td>C</td>\n",
       "      <td>None</td>\n",
       "      <td>None</td>\n",
       "      <td>2019-06-25</td>\n",
       "    </tr>\n",
       "    <tr>\n",
       "      <th>2772</th>\n",
       "      <td>8</td>\n",
       "      <td>1</td>\n",
       "      <td>1</td>\n",
       "      <td>100632</td>\n",
       "      <td>0</td>\n",
       "      <td>5</td>\n",
       "      <td>1000.00</td>\n",
       "      <td>2019-06-25</td>\n",
       "      <td>C</td>\n",
       "      <td>None</td>\n",
       "      <td>None</td>\n",
       "      <td>2019-06-25</td>\n",
       "    </tr>\n",
       "    <tr>\n",
       "      <th>2773</th>\n",
       "      <td>8</td>\n",
       "      <td>1</td>\n",
       "      <td>1</td>\n",
       "      <td>100632</td>\n",
       "      <td>0</td>\n",
       "      <td>6</td>\n",
       "      <td>1000.00</td>\n",
       "      <td>2019-06-25</td>\n",
       "      <td>C</td>\n",
       "      <td>None</td>\n",
       "      <td>None</td>\n",
       "      <td>2019-06-25</td>\n",
       "    </tr>\n",
       "    <tr>\n",
       "      <th>2774</th>\n",
       "      <td>8</td>\n",
       "      <td>1</td>\n",
       "      <td>1</td>\n",
       "      <td>100632</td>\n",
       "      <td>0</td>\n",
       "      <td>7</td>\n",
       "      <td>525.00</td>\n",
       "      <td>2019-06-25</td>\n",
       "      <td>C</td>\n",
       "      <td>None</td>\n",
       "      <td>None</td>\n",
       "      <td>2019-06-25</td>\n",
       "    </tr>\n",
       "    <tr>\n",
       "      <th>3346</th>\n",
       "      <td>8</td>\n",
       "      <td>1</td>\n",
       "      <td>1</td>\n",
       "      <td>101447</td>\n",
       "      <td>0</td>\n",
       "      <td>1</td>\n",
       "      <td>1000.00</td>\n",
       "      <td>2019-06-25</td>\n",
       "      <td>C</td>\n",
       "      <td>None</td>\n",
       "      <td>None</td>\n",
       "      <td>2019-06-25</td>\n",
       "    </tr>\n",
       "    <tr>\n",
       "      <th>3347</th>\n",
       "      <td>8</td>\n",
       "      <td>1</td>\n",
       "      <td>1</td>\n",
       "      <td>101447</td>\n",
       "      <td>0</td>\n",
       "      <td>2</td>\n",
       "      <td>1000.00</td>\n",
       "      <td>2019-06-25</td>\n",
       "      <td>C</td>\n",
       "      <td>None</td>\n",
       "      <td>None</td>\n",
       "      <td>2019-06-25</td>\n",
       "    </tr>\n",
       "    <tr>\n",
       "      <th>3415</th>\n",
       "      <td>8</td>\n",
       "      <td>1</td>\n",
       "      <td>1</td>\n",
       "      <td>101589</td>\n",
       "      <td>0</td>\n",
       "      <td>2</td>\n",
       "      <td>1000.00</td>\n",
       "      <td>2019-06-25</td>\n",
       "      <td>C</td>\n",
       "      <td>None</td>\n",
       "      <td>None</td>\n",
       "      <td>2019-06-25</td>\n",
       "    </tr>\n",
       "    <tr>\n",
       "      <th>3416</th>\n",
       "      <td>8</td>\n",
       "      <td>1</td>\n",
       "      <td>1</td>\n",
       "      <td>101589</td>\n",
       "      <td>0</td>\n",
       "      <td>3</td>\n",
       "      <td>1000.00</td>\n",
       "      <td>2019-06-25</td>\n",
       "      <td>C</td>\n",
       "      <td>None</td>\n",
       "      <td>None</td>\n",
       "      <td>2019-06-25</td>\n",
       "    </tr>\n",
       "    <tr>\n",
       "      <th>3417</th>\n",
       "      <td>8</td>\n",
       "      <td>1</td>\n",
       "      <td>1</td>\n",
       "      <td>101589</td>\n",
       "      <td>0</td>\n",
       "      <td>4</td>\n",
       "      <td>760.00</td>\n",
       "      <td>2019-06-25</td>\n",
       "      <td>C</td>\n",
       "      <td>None</td>\n",
       "      <td>None</td>\n",
       "      <td>2019-06-25</td>\n",
       "    </tr>\n",
       "    <tr>\n",
       "      <th>3418</th>\n",
       "      <td>8</td>\n",
       "      <td>1</td>\n",
       "      <td>1</td>\n",
       "      <td>101589</td>\n",
       "      <td>0</td>\n",
       "      <td>5</td>\n",
       "      <td>939.67</td>\n",
       "      <td>2019-06-25</td>\n",
       "      <td>C</td>\n",
       "      <td>None</td>\n",
       "      <td>None</td>\n",
       "      <td>2019-06-25</td>\n",
       "    </tr>\n",
       "  </tbody>\n",
       "</table>\n",
       "<p>139 rows × 12 columns</p>\n",
       "</div>"
      ],
      "text/plain": [
       "      RendicionId  PrestamoComercioId  PrestamoSucursalId  PrestamoId  \\\n",
       "1               1                   1                   1      101856   \n",
       "2               1                   1                   1      101861   \n",
       "3               1                   1                   1      101882   \n",
       "4               1                   1                   1      101893   \n",
       "13              1                   1                   1      101930   \n",
       "14              1                   1                   1      101938   \n",
       "17              1                   1                   1      101944   \n",
       "19              1                   1                   1      101946   \n",
       "27              1                   1                   1      101982   \n",
       "30              1                   1                   1      101992   \n",
       "32              1                   1                   1      101998   \n",
       "35              1                   1                   1      102008   \n",
       "36              1                   1                   1      102009   \n",
       "40              1                   1                   1      102017   \n",
       "41              1                   1                   1      102018   \n",
       "43              1                   1                   1      102022   \n",
       "45              1                   1                   1      102024   \n",
       "47              1                   1                   1      102026   \n",
       "50              1                   1                   1      102035   \n",
       "54              1                   1                   1      102041   \n",
       "55              2                   1                   1      101851   \n",
       "57              2                   1                   1      101896   \n",
       "60              2                   1                   1      101902   \n",
       "61              2                   1                   1      101913   \n",
       "64              2                   1                   1      101939   \n",
       "65              2                   1                   1      101943   \n",
       "66              2                   1                   1      101945   \n",
       "81              2                   1                   1      102036   \n",
       "82              2                   1                   1      102038   \n",
       "90              3                   1                   1      101950   \n",
       "...           ...                 ...                 ...         ...   \n",
       "2170            6                   1                   1      101337   \n",
       "2269            6                   1                   1      101474   \n",
       "2277            6                   1                   1      101474   \n",
       "2417            6                   1                   1      101747   \n",
       "2420            6                   1                   1      101747   \n",
       "2421            6                   1                   1      101751   \n",
       "2422            6                   1                   1      101751   \n",
       "2423            6                   1                   1      101751   \n",
       "2424            6                   1                   1      101751   \n",
       "2425            6                   1                   1      101751   \n",
       "2426            6                   1                   1      101751   \n",
       "2427            6                   1                   1      101751   \n",
       "2428            6                   1                   1      101751   \n",
       "2429            6                   1                   1      101751   \n",
       "2440            6                   1                   1      101797   \n",
       "2442            6                   1                   1      101797   \n",
       "2641            8                   1                   1      100376   \n",
       "2768            8                   1                   1      100632   \n",
       "2769            8                   1                   1      100632   \n",
       "2770            8                   1                   1      100632   \n",
       "2771            8                   1                   1      100632   \n",
       "2772            8                   1                   1      100632   \n",
       "2773            8                   1                   1      100632   \n",
       "2774            8                   1                   1      100632   \n",
       "3346            8                   1                   1      101447   \n",
       "3347            8                   1                   1      101447   \n",
       "3415            8                   1                   1      101589   \n",
       "3416            8                   1                   1      101589   \n",
       "3417            8                   1                   1      101589   \n",
       "3418            8                   1                   1      101589   \n",
       "\n",
       "      CuotaId  ItemId   Importe      Fecha Codigo CodigoNombre attrImputado  \\\n",
       "1           0       1   6384.00 2019-06-04      C         None         True   \n",
       "2           0       1   2814.00 2019-06-04      C         None         True   \n",
       "3           0       1   6384.00 2019-06-04      C         None         True   \n",
       "4           0       1   4046.00 2019-06-04      C         None         True   \n",
       "13          0       1   5544.00 2019-06-04      C         None         True   \n",
       "14          0       1   2668.00 2019-06-04      C         None         True   \n",
       "17          0       1   1302.00 2019-06-04      C         None         True   \n",
       "19          0       1   6384.00 2019-06-04      C         None         True   \n",
       "27          0       1   2604.00 2019-06-04      C         None         True   \n",
       "30          0       1   4284.00 2019-06-04      C         None         True   \n",
       "32          0       1   5134.00 2019-06-04      C         None         True   \n",
       "35          0       1   3024.00 2019-06-04      C         None         True   \n",
       "36          0       1   4284.00 2019-06-04      C         None         True   \n",
       "40          0       1   5876.00 2019-06-04      C         None         True   \n",
       "41          0       1   9266.00 2019-06-04      C         None         True   \n",
       "43          0       1   6384.00 2019-06-04      C         None         True   \n",
       "45          0       1   7006.00 2019-06-04      C         None         True   \n",
       "47          0       1   4127.00 2019-06-04      C         None         True   \n",
       "50          0       1   5876.00 2019-06-04      C         None         True   \n",
       "54          0       1   6384.00 2019-06-04      C         None         True   \n",
       "55          0       1   2884.00 2019-06-07      C         None         True   \n",
       "57          0       1   1344.00 2019-06-07      C         None         True   \n",
       "60          0       1   6384.00 2019-06-07      C         None         True   \n",
       "61          0       1   2604.00 2019-06-07      C         None         True   \n",
       "64          0       1   5134.00 2019-06-07      C         None         None   \n",
       "65          0       1   1610.66 2019-06-07      C         None         True   \n",
       "66          0       1   1192.00 2019-06-07      C         None         True   \n",
       "81          0       1   5876.00 2019-06-07      C         None         True   \n",
       "82          0       1  11415.00 2019-06-07      C         None         True   \n",
       "90          0       1   4255.00 2019-06-12      C         None         True   \n",
       "...       ...     ...       ...        ...    ...          ...          ...   \n",
       "2170        0      12    303.00 2019-06-19      C         None         None   \n",
       "2269        0       1   1000.00 2019-06-19      C         None         None   \n",
       "2277        0       9    304.00 2019-06-19      C         None         None   \n",
       "2417        0       1   1000.00 2019-06-19      C         None         None   \n",
       "2420        0       4    346.00 2019-06-19      C         None         None   \n",
       "2421        0       1   1000.00 2019-06-19      C         None         None   \n",
       "2422        0       2   1000.00 2019-06-19      C         None         None   \n",
       "2423        0       3   1000.00 2019-06-19      C         None         None   \n",
       "2424        0       4   1000.00 2019-06-19      C         None         None   \n",
       "2425        0       5   1000.00 2019-06-19      C         None         None   \n",
       "2426        0       6   1000.00 2019-06-19      C         None         None   \n",
       "2427        0       7   1000.00 2019-06-19      C         None         None   \n",
       "2428        0       8   1000.00 2019-06-19      C         None         None   \n",
       "2429        0       9    448.00 2019-06-19      C         None         None   \n",
       "2440        0       1   1000.00 2019-06-19      C         None         None   \n",
       "2442        0       3    351.00 2019-06-19      C         None         None   \n",
       "2641        0       4    306.34 2019-06-25      C         None         None   \n",
       "2768        0       1   1000.00 2019-06-25      C         None         None   \n",
       "2769        0       2   1000.00 2019-06-25      C         None         None   \n",
       "2770        0       3   1000.00 2019-06-25      C         None         None   \n",
       "2771        0       4   1000.00 2019-06-25      C         None         None   \n",
       "2772        0       5   1000.00 2019-06-25      C         None         None   \n",
       "2773        0       6   1000.00 2019-06-25      C         None         None   \n",
       "2774        0       7    525.00 2019-06-25      C         None         None   \n",
       "3346        0       1   1000.00 2019-06-25      C         None         None   \n",
       "3347        0       2   1000.00 2019-06-25      C         None         None   \n",
       "3415        0       2   1000.00 2019-06-25      C         None         None   \n",
       "3416        0       3   1000.00 2019-06-25      C         None         None   \n",
       "3417        0       4    760.00 2019-06-25      C         None         None   \n",
       "3418        0       5    939.67 2019-06-25      C         None         None   \n",
       "\n",
       "           date  \n",
       "1    2019-06-04  \n",
       "2    2019-06-04  \n",
       "3    2019-06-04  \n",
       "4    2019-06-04  \n",
       "13   2019-06-04  \n",
       "14   2019-06-04  \n",
       "17   2019-06-04  \n",
       "19   2019-06-04  \n",
       "27   2019-06-04  \n",
       "30   2019-06-04  \n",
       "32   2019-06-04  \n",
       "35   2019-06-04  \n",
       "36   2019-06-04  \n",
       "40   2019-06-04  \n",
       "41   2019-06-04  \n",
       "43   2019-06-04  \n",
       "45   2019-06-04  \n",
       "47   2019-06-04  \n",
       "50   2019-06-04  \n",
       "54   2019-06-04  \n",
       "55   2019-06-07  \n",
       "57   2019-06-07  \n",
       "60   2019-06-07  \n",
       "61   2019-06-07  \n",
       "64   2019-06-07  \n",
       "65   2019-06-07  \n",
       "66   2019-06-07  \n",
       "81   2019-06-07  \n",
       "82   2019-06-07  \n",
       "90   2019-06-12  \n",
       "...         ...  \n",
       "2170 2019-06-19  \n",
       "2269 2019-06-19  \n",
       "2277 2019-06-19  \n",
       "2417 2019-06-19  \n",
       "2420 2019-06-19  \n",
       "2421 2019-06-19  \n",
       "2422 2019-06-19  \n",
       "2423 2019-06-19  \n",
       "2424 2019-06-19  \n",
       "2425 2019-06-19  \n",
       "2426 2019-06-19  \n",
       "2427 2019-06-19  \n",
       "2428 2019-06-19  \n",
       "2429 2019-06-19  \n",
       "2440 2019-06-19  \n",
       "2442 2019-06-19  \n",
       "2641 2019-06-25  \n",
       "2768 2019-06-25  \n",
       "2769 2019-06-25  \n",
       "2770 2019-06-25  \n",
       "2771 2019-06-25  \n",
       "2772 2019-06-25  \n",
       "2773 2019-06-25  \n",
       "2774 2019-06-25  \n",
       "3346 2019-06-25  \n",
       "3347 2019-06-25  \n",
       "3415 2019-06-25  \n",
       "3416 2019-06-25  \n",
       "3417 2019-06-25  \n",
       "3418 2019-06-25  \n",
       "\n",
       "[139 rows x 12 columns]"
      ]
     },
     "execution_count": 49,
     "metadata": {},
     "output_type": "execute_result"
    }
   ],
   "source": [
    "df_comercio[df_comercio.Codigo=='C']"
   ]
  },
  {
   "cell_type": "code",
   "execution_count": 50,
   "metadata": {},
   "outputs": [
    {
     "data": {
      "text/plain": [
       "<matplotlib.axes._subplots.AxesSubplot at 0x1cbed41a2b0>"
      ]
     },
     "execution_count": 50,
     "metadata": {},
     "output_type": "execute_result"
    },
    {
     "data": {
      "image/png": "[encoded data removed]",
      "text/plain": [
       "<Figure size 432x288 with 1 Axes>"
      ]
     },
     "metadata": {
      "needs_background": "light"
     },
     "output_type": "display_data"
    }
   ],
   "source": [
    "df_comercio.Codigo.value_counts().plot(kind='bar')"
   ]
  },
  {
   "cell_type": "code",
   "execution_count": 51,
   "metadata": {},
   "outputs": [],
   "source": [
    "#Name server.\n",
    "server='miadelanto.cw8tpboctrtb.us-west-2.rds.amazonaws.com'\n",
    "# user server.\n",
    "user='jesica'\n",
    "# Password.\n",
    "password='Jesisol123'\n",
    "# used Database.\n",
    "db='dtsMiAdelanto'\n",
    "# connector instance\n",
    "conn = pymssql.connect(server=server, user=user, password=password, database=db)\n",
    "# Selected Query.\n",
    "query=\"\"\"SELECT a.PrestamoId, \n",
    "a.PlanId,\n",
    "a.NroCuotas,\n",
    "a.Capital,\n",
    "a.Fecha,\n",
    "b.ClienteId,\n",
    "b.CUIL,\n",
    "b.DiaCobro,\n",
    "b.FechaNacimiento,\n",
    "b.Sexo,\n",
    "b.Actividad,\n",
    "b.Apellidos,\n",
    "b.Nombres,\n",
    "d.EstadoNombre,\n",
    "e.PlanNombre,\n",
    "f.*,\n",
    "g.*\n",
    "FROM dtsMiAdelanto.dbo.Prestamos a \n",
    "LEFT JOIN dtsMiAdelanto.dbo.Clientes              b ON a.ClienteId = b.ClienteId \n",
    "LEFT JOIN dtsMiAdelanto.dbo.PrestamosEstados d on a.EstadoId=d.EstadoId \n",
    "LEFT JOIN dtsMiAdelanto.dbo.Planes e on e.PlanId=a.PlanId\n",
    "LEFT JOIN dtsMiAdelanto.dbo.ClientesBancos f on b.clienteId = f.ClienteId\n",
    "LEFT JOIN dtsMiAdelanto.dbo.Bancos g on f.BancoId=g.BancoId\"\"\"\n",
    "# Make dataframe from query.\n",
    "df_banco = pd.read_sql(query, conn)\n",
    "# Close connection.\n",
    "conn.close()"
   ]
  },
  {
   "cell_type": "code",
   "execution_count": 52,
   "metadata": {},
   "outputs": [
    {
     "name": "stdout",
     "output_type": "stream",
     "text": [
      "276\n",
      "BANCO DE LA NACION ARGENTINA                     40\n",
      "BANCO SANTANDER RIO S.A.                         32\n",
      "BANCO MACRO S.A.                                 27\n",
      "BANCO DE GALICIA Y BUENOS AIRES S.A.             26\n",
      "BANCO DE LA PROVINCIA DE BUENOS AIRES            21\n",
      "BBVA BANCO FRANCES S.A.                          20\n",
      "BANCO PATAGONIA  S.A.                            17\n",
      "BANCO DE LA CIUDAD DE BUENOS AIRES               13\n",
      "BANCO CREDICOOP COOPERATIVO LIMITADO             11\n",
      "BANCO DE LA PROVINCIA DE CORDOBA S.A.(BANCOR)     9\n",
      "NUEVO BANCO DE ENTRE RÍOS S.A.                    7\n",
      "NUEVO BANCO DE SANTA FE SOCIEDAD ANONIMA          7\n",
      "ICBC                                              6\n",
      "NUEVO BANCO DEL CHACO S. A.                       5\n",
      "HSBC BANK ARGENTINA S.A.                          5\n",
      "BANCO DE SANTIAGO DEL ESTERO S.A.                 3\n",
      "BANCO HIPOTECARIO S.A.                            3\n",
      "BANCO SUPERVIELLE S.A.                            3\n",
      "BANCO ITAU ARGENTINA S.A.                         2\n",
      "BANCO DE SANTA CRUZ S.A.                          2\n",
      "BANCO PROVINCIA DEL NEUQUEN S.A.                  2\n",
      "BANCO DEL TUCUMAN S.A.                            2\n",
      "BANCO DE FORMOSA S.A.                             2\n",
      "BANCO INDUSTRIAL                                  2\n",
      "BANCO FINANSUR S.A.                               1\n",
      "BANCO PIANO S.A.                                  1\n",
      "BANCO RIOJA SOCIEDAD ANÓNIMA UNIPERSONAL          1\n",
      "BANCO MUNICIPAL DE ROSARIO                        1\n",
      "BANCO DE SAN JUAN S.A.                            1\n",
      "INDUSTRIAL AND COMMERCIAL BANK OF CHINA           1\n",
      "BANCO DEL CHUBUT S.A.                             1\n",
      "BANCO COLUMBIA S.A.                               1\n",
      "BANCO DE LA PAMPA S.E.M.                          1\n",
      "Name: BancoNombre, dtype: int64\n"
     ]
    }
   ],
   "source": [
    "# A que banco pertenece cada usuario?\n",
    "df_banco_clean=df_banco.drop_duplicates(subset='ClienteId',keep=\"last\")\n",
    "print(df_banco_clean.BancoNombre.value_counts().sum())\n",
    "print(df_banco_clean.BancoNombre.value_counts())"
   ]
  },
  {
   "cell_type": "code",
   "execution_count": 53,
   "metadata": {},
   "outputs": [
    {
     "data": {
      "text/plain": [
       "<matplotlib.legend.Legend at 0x1cbeda56b38>"
      ]
     },
     "execution_count": 53,
     "metadata": {},
     "output_type": "execute_result"
    },
    {
     "data": {
      "image/png": "[encoded data removed]",
      "text/plain": [
       "<Figure size 432x288 with 1 Axes>"
      ]
     },
     "metadata": {},
     "output_type": "display_data"
    }
   ],
   "source": [
    "# Del total de la base de banco de comercio cual fue el exito de cobranza.\n",
    "ax=df_comercio.Codigo.value_counts().plot(kind='pie',autopct='%.2f%%', labels=['','','',''],  fontsize=10)\n",
    "#df[col].plot(kind='pie', autopct='%.2f', labels=['','','',''],  ax=ax, title=col, fontsize=10)\n",
    "ax.legend(loc=3, labels=df_comercio.Codigo.value_counts().index)"
   ]
  },
  {
   "cell_type": "code",
   "execution_count": null,
   "metadata": {},
   "outputs": [],
   "source": []
  },
  {
   "cell_type": "code",
   "execution_count": null,
   "metadata": {},
   "outputs": [],
   "source": []
  }
 ],
 "metadata": {
  "kernelspec": {
   "display_name": "Python 3",
   "language": "python",
   "name": "python3"
  },
  "language_info": {
   "codemirror_mode": {
    "name": "ipython",
    "version": 3
   },
   "file_extension": ".py",
   "mimetype": "text/x-python",
   "name": "python",
   "nbconvert_exporter": "python",
   "pygments_lexer": "ipython3",
   "version": "3.7.3"
  }
 },
 "nbformat": 4,
 "nbformat_minor": 2
}
