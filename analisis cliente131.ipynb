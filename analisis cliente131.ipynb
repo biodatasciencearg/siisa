{
 "cells": [
  {
   "cell_type": "markdown",
   "metadata": {},
   "source": [
    "<img src=\"http://www.ceic.org.ar/spanish/img/siisa-logo.jpg\" align='right'>"
   ]
  },
  {
   "cell_type": "markdown",
   "metadata": {},
   "source": [
    "# Evaluacion sobre cliente 131 (Digiv)\n",
    "El cliente 131 responde al grafo y la politica evaluada es la numero 3. Tiene relativamente pocos regristros lo que permitira hacer algunas cosas de transformacion de variables sencillas."
   ]
  },
  {
   "cell_type": "code",
   "execution_count": 1,
   "metadata": {},
   "outputs": [],
   "source": [
    "import pandas as pd\n",
    "import numpy as np\n",
    "import seaborn as sns\n",
    "import matplotlib.pyplot as plt\n"
   ]
  },
  {
   "cell_type": "code",
   "execution_count": 2,
   "metadata": {},
   "outputs": [],
   "source": [
    "df = pd.read_csv(\"Export-Politica3-20190301-20190331.csv\", low_memory=False)"
   ]
  },
  {
   "cell_type": "code",
   "execution_count": 3,
   "metadata": {},
   "outputs": [
    {
     "data": {
      "text/plain": [
       "(7266, 137)"
      ]
     },
     "execution_count": 3,
     "metadata": {},
     "output_type": "execute_result"
    }
   ],
   "source": [
    "df.shape"
   ]
  },
  {
   "cell_type": "code",
   "execution_count": 4,
   "metadata": {},
   "outputs": [
    {
     "data": {
      "text/html": [
       "<div>\n",
       "<style scoped>\n",
       "    .dataframe tbody tr th:only-of-type {\n",
       "        vertical-align: middle;\n",
       "    }\n",
       "\n",
       "    .dataframe tbody tr th {\n",
       "        vertical-align: top;\n",
       "    }\n",
       "\n",
       "    .dataframe thead th {\n",
       "        text-align: right;\n",
       "    }\n",
       "</style>\n",
       "<table border=\"1\" class=\"dataframe\">\n",
       "  <thead>\n",
       "    <tr style=\"text-align: right;\">\n",
       "      <th></th>\n",
       "      <th>executionId</th>\n",
       "      <th>executionDate</th>\n",
       "      <th>executionDateTime</th>\n",
       "      <th>policyId</th>\n",
       "      <th>policyVersion</th>\n",
       "      <th>decisionResult</th>\n",
       "      <th>apellidoNombre</th>\n",
       "      <th>nroDoc</th>\n",
       "      <th>sexo</th>\n",
       "      <th>apellidoNombreSubstring</th>\n",
       "      <th>...</th>\n",
       "      <th>veraz_observacionesMontoCerrada1m</th>\n",
       "      <th>veraz_observacionesMontoCerrada24m</th>\n",
       "      <th>veraz_peorSituacionBureau4m</th>\n",
       "      <th>veraz_peorSituacionBureau5a12m</th>\n",
       "      <th>veraz_peorStatus12</th>\n",
       "      <th>veraz_peorStatusActual</th>\n",
       "      <th>veraz_poblacion</th>\n",
       "      <th>veraz_score</th>\n",
       "      <th>veraz_validado</th>\n",
       "      <th>Unnamed: 136</th>\n",
       "    </tr>\n",
       "  </thead>\n",
       "  <tbody>\n",
       "    <tr>\n",
       "      <th>0</th>\n",
       "      <td>1715351</td>\n",
       "      <td>01/03/2019</td>\n",
       "      <td>00:00</td>\n",
       "      <td>3</td>\n",
       "      <td>36</td>\n",
       "      <td>RECHAZA|Perfil: Score SIISA no es mayor 300 |||</td>\n",
       "      <td>Gigena Juan marcelo</td>\n",
       "      <td>40655982</td>\n",
       "      <td>Masculino</td>\n",
       "      <td>gigena</td>\n",
       "      <td>...</td>\n",
       "      <td>NaN</td>\n",
       "      <td>NaN</td>\n",
       "      <td>NaN</td>\n",
       "      <td>NaN</td>\n",
       "      <td>NaN</td>\n",
       "      <td>NaN</td>\n",
       "      <td>NaN</td>\n",
       "      <td>NaN</td>\n",
       "      <td>NaN</td>\n",
       "      <td>NaN</td>\n",
       "    </tr>\n",
       "    <tr>\n",
       "      <th>1</th>\n",
       "      <td>1715354</td>\n",
       "      <td>01/03/2019</td>\n",
       "      <td>00:03</td>\n",
       "      <td>3</td>\n",
       "      <td>36</td>\n",
       "      <td>RECHAZA|Perfil: Siisa_Veraz insuficiente 0|||</td>\n",
       "      <td>Lidia Teresa</td>\n",
       "      <td>31525318</td>\n",
       "      <td>Femenino</td>\n",
       "      <td>lidia</td>\n",
       "      <td>...</td>\n",
       "      <td>0.0</td>\n",
       "      <td>0.0</td>\n",
       "      <td>-</td>\n",
       "      <td>-</td>\n",
       "      <td>1.0</td>\n",
       "      <td>1.0</td>\n",
       "      <td>ok</td>\n",
       "      <td>196.0</td>\n",
       "      <td>True</td>\n",
       "      <td>NaN</td>\n",
       "    </tr>\n",
       "    <tr>\n",
       "      <th>2</th>\n",
       "      <td>1715355</td>\n",
       "      <td>01/03/2019</td>\n",
       "      <td>00:04</td>\n",
       "      <td>3</td>\n",
       "      <td>36</td>\n",
       "      <td>RECHAZA|Perfil: Score SIISA no es mayor 300 |||</td>\n",
       "      <td>Juan Francisco</td>\n",
       "      <td>37566775</td>\n",
       "      <td>Masculino</td>\n",
       "      <td>juan f</td>\n",
       "      <td>...</td>\n",
       "      <td>NaN</td>\n",
       "      <td>NaN</td>\n",
       "      <td>NaN</td>\n",
       "      <td>NaN</td>\n",
       "      <td>NaN</td>\n",
       "      <td>NaN</td>\n",
       "      <td>NaN</td>\n",
       "      <td>NaN</td>\n",
       "      <td>NaN</td>\n",
       "      <td>NaN</td>\n",
       "    </tr>\n",
       "    <tr>\n",
       "      <th>3</th>\n",
       "      <td>1715356</td>\n",
       "      <td>01/03/2019</td>\n",
       "      <td>00:05</td>\n",
       "      <td>3</td>\n",
       "      <td>36</td>\n",
       "      <td>RECHAZA|Perfil:no trabaja en relación de depen...</td>\n",
       "      <td>Noelia</td>\n",
       "      <td>40163245</td>\n",
       "      <td>Femenino</td>\n",
       "      <td>noelia</td>\n",
       "      <td>...</td>\n",
       "      <td>NaN</td>\n",
       "      <td>NaN</td>\n",
       "      <td>NaN</td>\n",
       "      <td>NaN</td>\n",
       "      <td>NaN</td>\n",
       "      <td>NaN</td>\n",
       "      <td>NaN</td>\n",
       "      <td>NaN</td>\n",
       "      <td>NaN</td>\n",
       "      <td>NaN</td>\n",
       "    </tr>\n",
       "    <tr>\n",
       "      <th>4</th>\n",
       "      <td>1715357</td>\n",
       "      <td>01/03/2019</td>\n",
       "      <td>00:05</td>\n",
       "      <td>3</td>\n",
       "      <td>36</td>\n",
       "      <td>RECHAZA|Perfil: tiene al menos una situación m...</td>\n",
       "      <td>Rivero ariel orlando</td>\n",
       "      <td>25691534</td>\n",
       "      <td>Masculino</td>\n",
       "      <td>rivero</td>\n",
       "      <td>...</td>\n",
       "      <td>NaN</td>\n",
       "      <td>NaN</td>\n",
       "      <td>NaN</td>\n",
       "      <td>NaN</td>\n",
       "      <td>NaN</td>\n",
       "      <td>NaN</td>\n",
       "      <td>NaN</td>\n",
       "      <td>NaN</td>\n",
       "      <td>NaN</td>\n",
       "      <td>NaN</td>\n",
       "    </tr>\n",
       "  </tbody>\n",
       "</table>\n",
       "<p>5 rows × 137 columns</p>\n",
       "</div>"
      ],
      "text/plain": [
       "   executionId executionDate executionDateTime  policyId  policyVersion  \\\n",
       "0      1715351    01/03/2019             00:00         3             36   \n",
       "1      1715354    01/03/2019             00:03         3             36   \n",
       "2      1715355    01/03/2019             00:04         3             36   \n",
       "3      1715356    01/03/2019             00:05         3             36   \n",
       "4      1715357    01/03/2019             00:05         3             36   \n",
       "\n",
       "                                      decisionResult        apellidoNombre  \\\n",
       "0    RECHAZA|Perfil: Score SIISA no es mayor 300 |||   Gigena Juan marcelo   \n",
       "1      RECHAZA|Perfil: Siisa_Veraz insuficiente 0|||          Lidia Teresa   \n",
       "2    RECHAZA|Perfil: Score SIISA no es mayor 300 |||        Juan Francisco   \n",
       "3  RECHAZA|Perfil:no trabaja en relación de depen...                Noelia   \n",
       "4  RECHAZA|Perfil: tiene al menos una situación m...  Rivero ariel orlando   \n",
       "\n",
       "     nroDoc       sexo apellidoNombreSubstring  ...  \\\n",
       "0  40655982  Masculino                  gigena  ...   \n",
       "1  31525318   Femenino                  lidia   ...   \n",
       "2  37566775  Masculino                  juan f  ...   \n",
       "3  40163245   Femenino                  noelia  ...   \n",
       "4  25691534  Masculino                  rivero  ...   \n",
       "\n",
       "   veraz_observacionesMontoCerrada1m  veraz_observacionesMontoCerrada24m  \\\n",
       "0                                NaN                                 NaN   \n",
       "1                                0.0                                 0.0   \n",
       "2                                NaN                                 NaN   \n",
       "3                                NaN                                 NaN   \n",
       "4                                NaN                                 NaN   \n",
       "\n",
       "   veraz_peorSituacionBureau4m veraz_peorSituacionBureau5a12m  \\\n",
       "0                          NaN                            NaN   \n",
       "1                            -                              -   \n",
       "2                          NaN                            NaN   \n",
       "3                          NaN                            NaN   \n",
       "4                          NaN                            NaN   \n",
       "\n",
       "  veraz_peorStatus12 veraz_peorStatusActual veraz_poblacion  veraz_score  \\\n",
       "0                NaN                    NaN             NaN          NaN   \n",
       "1                1.0                    1.0              ok        196.0   \n",
       "2                NaN                    NaN             NaN          NaN   \n",
       "3                NaN                    NaN             NaN          NaN   \n",
       "4                NaN                    NaN             NaN          NaN   \n",
       "\n",
       "   veraz_validado  Unnamed: 136  \n",
       "0             NaN           NaN  \n",
       "1            True           NaN  \n",
       "2             NaN           NaN  \n",
       "3             NaN           NaN  \n",
       "4             NaN           NaN  \n",
       "\n",
       "[5 rows x 137 columns]"
      ]
     },
     "execution_count": 4,
     "metadata": {},
     "output_type": "execute_result"
    }
   ],
   "source": [
    "df.head()"
   ]
  },
  {
   "cell_type": "code",
   "execution_count": 5,
   "metadata": {},
   "outputs": [
    {
     "data": {
      "text/plain": [
       "array([3], dtype=int64)"
      ]
     },
     "execution_count": 5,
     "metadata": {},
     "output_type": "execute_result"
    }
   ],
   "source": [
    "# tienen toda la misma politica??\n",
    "df.policyId.unique()"
   ]
  },
  {
   "cell_type": "code",
   "execution_count": 6,
   "metadata": {},
   "outputs": [],
   "source": [
    "# creo una columna que solo me diga si rechazo o califica.\n",
    "df['decision_filtered'] = df.decisionResult.str.split(\"|\", n = 1, expand = True)[0]"
   ]
  },
  {
   "cell_type": "code",
   "execution_count": 7,
   "metadata": {},
   "outputs": [
    {
     "data": {
      "text/plain": [
       "RECHAZA     6007\n",
       "CALIFICA    1259\n",
       "Name: decision_filtered, dtype: int64"
      ]
     },
     "execution_count": 7,
     "metadata": {},
     "output_type": "execute_result"
    },
    {
     "data": {
      "image/png": "[encoded data removed]",
      "text/plain": [
       "<Figure size 432x288 with 1 Axes>"
      ]
     },
     "metadata": {},
     "output_type": "display_data"
    }
   ],
   "source": [
    "# Simplemente grafico la cantidad que pasa por califica o rechazo.\n",
    "sns.set(style=\"whitegrid\")\n",
    "ax =sns.barplot(df.decision_filtered.value_counts().index, df.decision_filtered.value_counts().values/len(df.decision_filtered))\n",
    "df.decision_filtered.value_counts()"
   ]
  },
  {
   "cell_type": "code",
   "execution_count": 8,
   "metadata": {},
   "outputs": [],
   "source": [
    "# Genero una nueva columna que tiene que ver con si uso o no veraz por mas que este en dos puntos del arbol.\n",
    "df['uso_veraz'] = pd.Series(np.repeat('NoUso', len(df.veraz_score)))"
   ]
  },
  {
   "cell_type": "code",
   "execution_count": 9,
   "metadata": {},
   "outputs": [],
   "source": [
    "# Seteo las ocasiones en las que uso veraz.\n",
    "df.loc[~df.veraz_score.isna(), 'uso_veraz'] = 'Uso'"
   ]
  },
  {
   "cell_type": "code",
   "execution_count": 10,
   "metadata": {},
   "outputs": [
    {
     "data": {
      "text/plain": [
       "NoUso    5734\n",
       "Uso      1532\n",
       "Name: uso_veraz, dtype: int64"
      ]
     },
     "execution_count": 10,
     "metadata": {},
     "output_type": "execute_result"
    }
   ],
   "source": [
    "# cuento la cantidad de veces que uso.\n",
    "df.uso_veraz.value_counts()"
   ]
  },
  {
   "cell_type": "code",
   "execution_count": 13,
   "metadata": {},
   "outputs": [
    {
     "data": {
      "text/html": [
       "<div>\n",
       "<style scoped>\n",
       "    .dataframe tbody tr th:only-of-type {\n",
       "        vertical-align: middle;\n",
       "    }\n",
       "\n",
       "    .dataframe tbody tr th {\n",
       "        vertical-align: top;\n",
       "    }\n",
       "\n",
       "    .dataframe thead th {\n",
       "        text-align: right;\n",
       "    }\n",
       "</style>\n",
       "<table border=\"1\" class=\"dataframe\">\n",
       "  <thead>\n",
       "    <tr style=\"text-align: right;\">\n",
       "      <th>decision_filtered</th>\n",
       "      <th>CALIFICA</th>\n",
       "      <th>RECHAZA</th>\n",
       "      <th>All</th>\n",
       "    </tr>\n",
       "    <tr>\n",
       "      <th>uso_veraz</th>\n",
       "      <th></th>\n",
       "      <th></th>\n",
       "      <th></th>\n",
       "    </tr>\n",
       "  </thead>\n",
       "  <tbody>\n",
       "    <tr>\n",
       "      <th>NoUso</th>\n",
       "      <td>0</td>\n",
       "      <td>5734</td>\n",
       "      <td>5734</td>\n",
       "    </tr>\n",
       "    <tr>\n",
       "      <th>Uso</th>\n",
       "      <td>1259</td>\n",
       "      <td>273</td>\n",
       "      <td>1532</td>\n",
       "    </tr>\n",
       "    <tr>\n",
       "      <th>All</th>\n",
       "      <td>1259</td>\n",
       "      <td>6007</td>\n",
       "      <td>7266</td>\n",
       "    </tr>\n",
       "  </tbody>\n",
       "</table>\n",
       "</div>"
      ],
      "text/plain": [
       "decision_filtered  CALIFICA  RECHAZA   All\n",
       "uso_veraz                                 \n",
       "NoUso                     0     5734  5734\n",
       "Uso                    1259      273  1532\n",
       "All                    1259     6007  7266"
      ]
     },
     "execution_count": 13,
     "metadata": {},
     "output_type": "execute_result"
    }
   ],
   "source": [
    "# Tabla de contingencia class(califica/rechaza) / veraz (uso/noUsa) \n",
    "pd.crosstab(index=df.uso_veraz,\n",
    "            columns=df.decision_filtered, margins=True)"
   ]
  }
 ],
 "metadata": {
  "kernelspec": {
   "display_name": "Python 3",
   "language": "python",
   "name": "python3"
  },
  "language_info": {
   "codemirror_mode": {
    "name": "ipython",
    "version": 3
   },
   "file_extension": ".py",
   "mimetype": "text/x-python",
   "name": "python",
   "nbconvert_exporter": "python",
   "pygments_lexer": "ipython3",
   "version": "3.7.3"
  }
 },
 "nbformat": 4,
 "nbformat_minor": 2
}
