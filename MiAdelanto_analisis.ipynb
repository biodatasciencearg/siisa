{
 "cells": [
  {
   "cell_type": "markdown",
   "metadata": {},
   "source": [
    "<img src=\"http://www.ceic.org.ar/spanish/img/siisa-logo.jpg\" align='right'>"
   ]
  },
  {
   "cell_type": "markdown",
   "metadata": {},
   "source": [
    "## Funciones auxiliares que podrian ser utiles."
   ]
  },
  {
   "cell_type": "code",
   "execution_count": 1,
   "metadata": {},
   "outputs": [],
   "source": [
    "def get_data_fsql(query,serverName='MiAdelanto'):\n",
    "    \"\"\"Traer data de las bases SQL\n",
    "    query=String donde hago la query que quiero traer\n",
    "    serverName= String(siisa/MiAdelanto)\"\"\"\n",
    "    #Select Server 'MiAdelanto'\n",
    "    if serverName=='MiAdelanto':\n",
    "        #Name server.\n",
    "        server='miadelanto.cw8tpboctrtb.us-west-2.rds.amazonaws.com'\n",
    "        # user server.\n",
    "        user='jesica'\n",
    "        # Password.\n",
    "        password='Jesisol123'\n",
    "        # used Database.\n",
    "        db='dtsMiAdelanto'\n",
    "    #Select Server 'siisa'\n",
    "    elif serverName=='siisa':\n",
    "        #Name server.\n",
    "        server='motorsiisa2.cn5dtopedl5u.us-east-1.rds.amazonaws.com'\n",
    "        # user server.\n",
    "        user='elias'\n",
    "        # Password.\n",
    "        password='123456'\n",
    "        # used Database.\n",
    "        db='sbrde'\n",
    "    else:\n",
    "        print(\"Base de datos seleccionada incorrecta:\")\n",
    "    # connector instance\n",
    "    conn = pymssql.connect(server=server, user=user, password=password, database=db)\n",
    "    # Selected Query.\n",
    "    df = pd.read_sql(query, conn)\n",
    "    # Close connection.\n",
    "    conn.close()\n",
    "    return df"
   ]
  },
  {
   "cell_type": "markdown",
   "metadata": {},
   "source": [
    "### Base de datos de prestamos \n",
    "\n",
    "\n",
    "\n",
    "Con la consulta sql a continuacion me traigo la base de datos de prestamos joineada con los estados para cada prestamo."
   ]
  },
  {
   "cell_type": "code",
   "execution_count": 2,
   "metadata": {},
   "outputs": [
    {
     "name": "stderr",
     "output_type": "stream",
     "text": [
      "C:\\Users\\elias\\Programs\\anaconda3\\envs\\siisa\\lib\\site-packages\\ipykernel_launcher.py:1: DeprecationWarning: Using or importing the ABCs from 'collections' instead of from 'collections.abc' is deprecated, and in 3.8 it will stop working\n",
      "  \"\"\"Entry point for launching an IPython kernel.\n"
     ]
    }
   ],
   "source": [
    "import pymssql\n",
    "import pandas as pd\n",
    "import pandas as pd\n",
    "import seaborn as sns\n",
    "import matplotlib.pyplot as plt"
   ]
  },
  {
   "cell_type": "markdown",
   "metadata": {},
   "source": [
    "#### Consulta sobre la base mi adelanto para traer el dataframe de prestamos."
   ]
  },
  {
   "cell_type": "code",
   "execution_count": 3,
   "metadata": {},
   "outputs": [],
   "source": [
    "# Genero la query y luego guardo la query en una dataframe.\n",
    "#query=\"\"\"select a.PrestamoId,a.ClienteId,a.PlanId,a.Fecha,a.FechaRetiro,a.NroCuotas,a.EstadoId,a.Capital,a.CreateDate,c.Apellidos,c.Nombres,c.CUIL,c.Actividad,c.Sexo,c.Ingresos,c.DiaCobro,d.EstadoNombre from dtsMiAdelanto.dbo.Prestamos a\n",
    "#LEFT JOIN  dtsMiAdelanto.dbo.Clientes c ON c.ClienteId=a.ClienteId\n",
    "#LEFT JOIN dtsMiAdelanto.dbo.PrestamosEstados d ON a.EstadoId= d.EstadoId\"\"\"\n",
    "query=\"\"\"/* Consulta que debo realizar de modo de traer el dataframe. */\n",
    "SELECT \n",
    "tprestamos.CreateDate,\n",
    "tprestamos.PrestamoComercioId,\n",
    "tprestamos.PrestamoId,\n",
    "tprestamos.ClienteId,\n",
    "tprestamos.PlanId,\n",
    "tprestamos.Fecha,\n",
    "tprestamos.FechaRetiro,\n",
    "tprestamos.NroCuotas,\n",
    "tprestamos.Capital,\n",
    "tprestamos.Anticipo,\n",
    "tclientes.Apellidos,\n",
    "tclientes.Nombres,\n",
    "tclientes.CUIL,\n",
    "tclientes.Sexo,\n",
    "tclientes.FechaNacimiento,\n",
    "tclientes.Actividad,\n",
    "tclientes.NacionalidadId,\n",
    "tclientes.DiaCobro,\n",
    "tclientes.CBU,\n",
    "tbancos.BancoId,\n",
    "tbancos.BancoNombre,\n",
    "tprestamoestado.EstadoNombre,\n",
    "pedidosMotorclean.idTrans,\n",
    "pedidosMotorclean.Dictamen\n",
    "/* tabla principal */\n",
    "from dtsMiAdelanto.dbo.Prestamos           as tprestamos\n",
    "/* joineo con la tabla de clientes. */\n",
    "LEFT JOIN dtsMiAdelanto.dbo.Clientes       as tclientes      ON tprestamos.ClienteId=tclientes.ClienteId\n",
    "/* joineo con la tabla de bancos. */\n",
    "LEFT JOIN dtsMiAdelanto.dbo.bancos as tbancos  ON tbancos.BancoId=    SUBSTRING(tclientes.CBU,1,3)\n",
    "/* joineo con la tabla de prestamos Estados. */\n",
    "LEFT JOIN dtsMiAdelanto.dbo.PrestamosEstados as tprestamoestado   ON tprestamoestado.EstadoId=tprestamos.EstadoId\n",
    "/* joineo con la tabla de pedidosMotor. */\n",
    "LEFT JOIN \n",
    "    (select *\n",
    "from\n",
    " (\n",
    "  select *\n",
    "     ,row_number() \n",
    "      over (partition by convert(varchar, Fecha, 23), clienteId\n",
    "            order by clienteId desc) as rn \n",
    "  from dtsMiAdelanto.dbo.ClientesPedidosMotor\n",
    " ) as dt\n",
    "where rn = 1 and Dictamen!='Rechazar' and Dictamen!='Error' and clienteId!=0) AS pedidosMotorclean\n",
    "ON pedidosMotorclean.clienteId=tprestamos.ClienteId   and (pedidosMotorclean.Fecha BETWEEN DATEADD(minute,-1,tprestamos.CreateDate) AND DATEADD(MINUTE,1,tprestamos.CreateDate)) \n",
    " \"\"\"\n",
    "\n",
    "# Make dataframe from query.\n",
    "df_prestamos = get_data_fsql(query)"
   ]
  },
  {
   "cell_type": "markdown",
   "metadata": {},
   "source": [
    "#### Consulta sobre la base siisa motor para traer el dataframe de variables."
   ]
  },
  {
   "cell_type": "code",
   "execution_count": 4,
   "metadata": {},
   "outputs": [],
   "source": [
    "# Ids que no son vacios del dataframe de prestamos.\n",
    "ids2get=df_prestamos[~df_prestamos.idTrans.isna()]['idTrans'].astype('int64')"
   ]
  },
  {
   "cell_type": "code",
   "execution_count": 5,
   "metadata": {},
   "outputs": [],
   "source": [
    "# Me traigo todo el dump de variables para una lista de executonsId del dataframe de prestamos.\n",
    "query = \"{} IN ({})\".format(\"\"\"select a.*,b.clientId,b.policyId,b.executionDate from dbo.RulePolicyExecutionDumps a\n",
    "LEFT JOIN dbo.RulePolicyExecutions b ON a.executionId=b.executionId\n",
    "WHERE  a.executionId  \"\"\", \", \".join([str(n) for n in ids2get.values]))\n",
    "# Make dataframe from query.\n",
    "df_vars_siisa_engine = get_data_fsql(query,serverName='siisa')"
   ]
  },
  {
   "cell_type": "code",
   "execution_count": 6,
   "metadata": {},
   "outputs": [],
   "source": [
    "# pivoteo la tabla y reformateo variables\n",
    "df_vars_siisa=df_vars_siisa_engine[['executionId','varName','varValue','executionDate']].pivot(index='executionId',columns='varName', values='varValue')\n",
    "df_vars_siisa['cuil']=df_vars_siisa.cuil.astype('float').astype('int64')"
   ]
  },
  {
   "cell_type": "code",
   "execution_count": 7,
   "metadata": {},
   "outputs": [],
   "source": [
    "# joineo las tablas de prestamos y la de variables de siisa.\n",
    "df_merge=pd.merge(left=df_prestamos,right=df_vars_siisa, how='left', left_on='idTrans', right_on='executionId').dropna(how='all', axis=1)\n"
   ]
  },
  {
   "cell_type": "markdown",
   "metadata": {},
   "source": [
    "### Distribucion de casos en la base de datos de prestamos."
   ]
  },
  {
   "cell_type": "code",
   "execution_count": 8,
   "metadata": {},
   "outputs": [
    {
     "data": {
      "text/plain": [
       "Cancelado                    967\n",
       "En Abogado                   441\n",
       "Transferencia Pendiente      418\n",
       "Vigente                      144\n",
       "Refinanciado                  56\n",
       "Incobrable Fraude              8\n",
       "Incobrable Fallecido           3\n",
       "Refinanciación Vigente         2\n",
       "En Abogado (Refinanciado)      1\n",
       "Name: EstadoNombre, dtype: int64"
      ]
     },
     "execution_count": 8,
     "metadata": {},
     "output_type": "execute_result"
    }
   ],
   "source": [
    "df_merge.EstadoNombre.value_counts()"
   ]
  },
  {
   "cell_type": "code",
   "execution_count": 9,
   "metadata": {},
   "outputs": [
    {
     "data": {
      "text/plain": [
       "2040"
      ]
     },
     "execution_count": 9,
     "metadata": {},
     "output_type": "execute_result"
    }
   ],
   "source": [
    "df_merge.EstadoNombre.value_counts().sum()"
   ]
  },
  {
   "cell_type": "code",
   "execution_count": 10,
   "metadata": {},
   "outputs": [
    {
     "name": "stdout",
     "output_type": "stream",
     "text": [
      "Los prestamos con status [Cancelado, En Abogado, Vigente] son: 1552\n"
     ]
    }
   ],
   "source": [
    "# Selecciono prestamos que esten con status [Cancelado, En Abogado, Vigente]\n",
    "# Descartando los status [Transferencia Pendiente, Refinanciado, Refinanciacion Vigente, En Abogado(Refinanciado)]\n",
    "df_prestamos_clean=df_merge[ (df_merge['EstadoNombre'] == 'Cancelado') | (df_merge['EstadoNombre'] == 'En Abogado') | (df_merge['EstadoNombre'] == 'Vigente') ]\n",
    "print(\"Los prestamos con status [Cancelado, En Abogado, Vigente] son:\",len(df_prestamos_clean))\n"
   ]
  },
  {
   "cell_type": "code",
   "execution_count": 11,
   "metadata": {},
   "outputs": [
    {
     "data": {
      "text/plain": [
       "Cancelado     967\n",
       "En Abogado    441\n",
       "Vigente       144\n",
       "Name: EstadoNombre, dtype: int64"
      ]
     },
     "execution_count": 11,
     "metadata": {},
     "output_type": "execute_result"
    }
   ],
   "source": [
    "df_prestamos_clean.EstadoNombre.value_counts()"
   ]
  },
  {
   "cell_type": "code",
   "execution_count": 12,
   "metadata": {},
   "outputs": [
    {
     "data": {
      "text/plain": [
       "<matplotlib.legend.Legend at 0x201fd53c278>"
      ]
     },
     "execution_count": 12,
     "metadata": {},
     "output_type": "execute_result"
    },
    {
     "data": {
      "image/png": "[encoded data removed]",
      "text/plain": [
       "<Figure size 432x288 with 1 Axes>"
      ]
     },
     "metadata": {},
     "output_type": "display_data"
    }
   ],
   "source": [
    "# Distribucion de status de prestamos.\n",
    "ax=df_prestamos_clean.EstadoNombre.value_counts().plot(kind='pie',autopct='%.2f%%', labels=['','','',''],  fontsize=10)\n",
    "#df[col].plot(kind='pie', autopct='%.2f', labels=['','','',''],  ax=ax, title=col, fontsize=10)\n",
    "ax.legend(loc=3, labels=df_prestamos_clean.EstadoNombre.value_counts().index)"
   ]
  },
  {
   "cell_type": "code",
   "execution_count": 13,
   "metadata": {},
   "outputs": [
    {
     "name": "stdout",
     "output_type": "stream",
     "text": [
      "clientes relevados sacando las redundancias  (833, 153)\n"
     ]
    },
    {
     "name": "stderr",
     "output_type": "stream",
     "text": [
      "C:\\Users\\elias\\Programs\\anaconda3\\envs\\siisa\\lib\\site-packages\\ipykernel_launcher.py:3: UserWarning: Boolean Series key will be reindexed to match DataFrame index.\n",
      "  This is separate from the ipykernel package so we can avoid doing imports until\n"
     ]
    },
    {
     "name": "stdout",
     "output_type": "stream",
     "text": [
      "Sin redundancias (833,)\n"
     ]
    },
    {
     "data": {
      "image/png": "[encoded data removed]",
      "text/plain": [
       "<Figure size 432x288 with 1 Axes>"
      ]
     },
     "metadata": {
      "needs_background": "light"
     },
     "output_type": "display_data"
    }
   ],
   "source": [
    "# Distribucion de bancos de los prestamos donde esta relevado.\n",
    "# Saco la redundancia de clientes.\n",
    "clientes_sin_redundancia=df_prestamos_clean.drop_duplicates(subset='ClienteId',keep='last')[~df_prestamos_clean.BancoNombre.isna()]\n",
    "print(\"clientes relevados sacando las redundancias \",clientes_sin_redundancia.shape)\n",
    "#\n",
    "clientes_sin_redundancia[~clientes_sin_redundancia.BancoNombre.isna()]['BancoNombre'].value_counts().plot(kind='bar')\n",
    "print(\"Sin redundancias\",clientes_sin_redundancia[~clientes_sin_redundancia.BancoNombre.isna()]['BancoNombre'].shape)"
   ]
  },
  {
   "cell_type": "code",
   "execution_count": 14,
   "metadata": {},
   "outputs": [
    {
     "data": {
      "text/plain": [
       "<matplotlib.axes._subplots.AxesSubplot at 0x201fe914da0>"
      ]
     },
     "execution_count": 14,
     "metadata": {},
     "output_type": "execute_result"
    },
    {
     "data": {
      "image/png": "[encoded data removed]",
      "text/plain": [
       "<Figure size 432x288 with 1 Axes>"
      ]
     },
     "metadata": {
      "needs_background": "light"
     },
     "output_type": "display_data"
    }
   ],
   "source": [
    "# Distribucion de sexo historico.\n",
    "clientes_sin_redundancia[~clientes_sin_redundancia.Sexo.isna()]['Sexo'].value_counts().plot(kind='bar')"
   ]
  },
  {
   "cell_type": "code",
   "execution_count": 15,
   "metadata": {},
   "outputs": [
    {
     "data": {
      "text/plain": [
       "<matplotlib.axes._subplots.AxesSubplot at 0x201fe62d0b8>"
      ]
     },
     "execution_count": 15,
     "metadata": {},
     "output_type": "execute_result"
    },
    {
     "data": {
      "image/png": "[encoded data removed]",
      "text/plain": [
       "<Figure size 432x288 with 1 Axes>"
      ]
     },
     "metadata": {
      "needs_background": "light"
     },
     "output_type": "display_data"
    }
   ],
   "source": [
    "# En status \"Vigente\"\n",
    "clientes_sin_redundancia_nonEmpty=clientes_sin_redundancia[~clientes_sin_redundancia.BancoNombre.isna()]\n",
    "clientes_sin_redundancia_nonEmpty[clientes_sin_redundancia_nonEmpty.EstadoNombre=='Vigente']['BancoNombre'].value_counts().plot(kind='bar')"
   ]
  },
  {
   "cell_type": "code",
   "execution_count": 16,
   "metadata": {},
   "outputs": [
    {
     "data": {
      "text/plain": [
       "5           BANCO DE GALICIA Y BUENOS AIRES S.A.\n",
       "6           BANCO DE GALICIA Y BUENOS AIRES S.A.\n",
       "7           BANCO DE GALICIA Y BUENOS AIRES S.A.\n",
       "36                       BBVA BANCO FRANCES S.A.\n",
       "72                         BANCO PATAGONIA  S.A.\n",
       "76                         BANCO PATAGONIA  S.A.\n",
       "106        BANCO DE LA PROVINCIA DE BUENOS AIRES\n",
       "109                                         None\n",
       "144                                         None\n",
       "159         BANCO CREDICOOP COOPERATIVO LIMITADO\n",
       "161         BANCO CREDICOOP COOPERATIVO LIMITADO\n",
       "165                 BANCO DE LA NACION ARGENTINA\n",
       "170         BANCO DE GALICIA Y BUENOS AIRES S.A.\n",
       "181                     BANCO SANTANDER RIO S.A.\n",
       "190                     BANCO SANTANDER RIO S.A.\n",
       "208                     BANCO SANTANDER RIO S.A.\n",
       "235                 BANCO DE LA NACION ARGENTINA\n",
       "243                 BANCO DE LA NACION ARGENTINA\n",
       "289                     BANCO SANTANDER RIO S.A.\n",
       "295                     BANCO SANTANDER RIO S.A.\n",
       "316                     BANCO SANTANDER RIO S.A.\n",
       "317                     BANCO SANTANDER RIO S.A.\n",
       "318                     BANCO SANTANDER RIO S.A.\n",
       "319                     BANCO SANTANDER RIO S.A.\n",
       "374                     BANCO SANTANDER RIO S.A.\n",
       "487                      BBVA BANCO FRANCES S.A.\n",
       "495         BANCO DE GALICIA Y BUENOS AIRES S.A.\n",
       "511         BANCO DE GALICIA Y BUENOS AIRES S.A.\n",
       "512                 BANCO DE LA NACION ARGENTINA\n",
       "567                                CITIBANK N.A.\n",
       "                          ...                   \n",
       "1655        BANCO CREDICOOP COOPERATIVO LIMITADO\n",
       "1720                     BBVA BANCO FRANCES S.A.\n",
       "1723                BANCO DE LA NACION ARGENTINA\n",
       "1728        BANCO DE GALICIA Y BUENOS AIRES S.A.\n",
       "1737        BANCO CREDICOOP COOPERATIVO LIMITADO\n",
       "1756     INDUSTRIAL AND COMMERCIAL BANK OF CHINA\n",
       "1757     INDUSTRIAL AND COMMERCIAL BANK OF CHINA\n",
       "1788                    BANCO SANTANDER RIO S.A.\n",
       "1801          BANCO DE LA CIUDAD DE BUENOS AIRES\n",
       "1826                BANCO DE LA NACION ARGENTINA\n",
       "1859                    BANCO SANTANDER RIO S.A.\n",
       "1867                       BANCO PATAGONIA  S.A.\n",
       "1884                     BBVA BANCO FRANCES S.A.\n",
       "1902                    BANCO SANTANDER RIO S.A.\n",
       "1913                    BANCO SANTANDER RIO S.A.\n",
       "1914                    BANCO SANTANDER RIO S.A.\n",
       "1923                     BBVA BANCO FRANCES S.A.\n",
       "1941                BANCO DE LA NACION ARGENTINA\n",
       "1942                BANCO DE LA NACION ARGENTINA\n",
       "1969    BANCO RIOJA SOCIEDAD ANÓNIMA UNIPERSONAL\n",
       "1979                       BANCO DE FORMOSA S.A.\n",
       "1995        BANCO CREDICOOP COOPERATIVO LIMITADO\n",
       "2001                            BANCO INDUSTRIAL\n",
       "2002                            BANCO INDUSTRIAL\n",
       "2005       BANCO DE LA PROVINCIA DE BUENOS AIRES\n",
       "2017                    BANCO SANTANDER RIO S.A.\n",
       "2019                BANCO DE LA NACION ARGENTINA\n",
       "2034       BANCO DE LA PROVINCIA DE BUENOS AIRES\n",
       "2036                BANCO DE LA NACION ARGENTINA\n",
       "2038                     BBVA BANCO FRANCES S.A.\n",
       "Name: BancoNombre, Length: 144, dtype: object"
      ]
     },
     "execution_count": 16,
     "metadata": {},
     "output_type": "execute_result"
    }
   ],
   "source": [
    "df_prestamos_clean[df_prestamos_clean.EstadoNombre=='Vigente']['BancoNombre']"
   ]
  },
  {
   "cell_type": "code",
   "execution_count": 17,
   "metadata": {},
   "outputs": [
    {
     "data": {
      "text/plain": [
       "<matplotlib.axes._subplots.AxesSubplot at 0x201fec299e8>"
      ]
     },
     "execution_count": 17,
     "metadata": {},
     "output_type": "execute_result"
    },
    {
     "data": {
      "image/png": "[encoded data removed]",
      "text/plain": [
       "<Figure size 432x288 with 1 Axes>"
      ]
     },
     "metadata": {
      "needs_background": "light"
     },
     "output_type": "display_data"
    }
   ],
   "source": [
    "clientes_sin_redundancia_nonEmpty[clientes_sin_redundancia_nonEmpty.EstadoNombre=='Vigente']['Sexo'].value_counts().plot(kind='bar')"
   ]
  },
  {
   "cell_type": "code",
   "execution_count": 18,
   "metadata": {},
   "outputs": [
    {
     "data": {
      "text/plain": [
       "<matplotlib.axes._subplots.AxesSubplot at 0x201feb24ac8>"
      ]
     },
     "execution_count": 18,
     "metadata": {},
     "output_type": "execute_result"
    },
    {
     "data": {
      "image/png": "[encoded data removed]",
      "text/plain": [
       "<Figure size 432x288 with 1 Axes>"
      ]
     },
     "metadata": {
      "needs_background": "light"
     },
     "output_type": "display_data"
    }
   ],
   "source": [
    "clientes_sin_redundancia_nonEmpty.Capital.hist()"
   ]
  },
  {
   "cell_type": "code",
   "execution_count": 19,
   "metadata": {},
   "outputs": [
    {
     "name": "stderr",
     "output_type": "stream",
     "text": [
      "C:\\Users\\elias\\Programs\\anaconda3\\envs\\siisa\\lib\\site-packages\\ipykernel_launcher.py:1: SettingWithCopyWarning: \n",
      "A value is trying to be set on a copy of a slice from a DataFrame.\n",
      "Try using .loc[row_indexer,col_indexer] = value instead\n",
      "\n",
      "See the caveats in the documentation: http://pandas.pydata.org/pandas-docs/stable/indexing.html#indexing-view-versus-copy\n",
      "  \"\"\"Entry point for launching an IPython kernel.\n"
     ]
    }
   ],
   "source": [
    "df_prestamos_clean['CUIL']=df_prestamos_clean.CUIL.astype('float').astype('int64')"
   ]
  },
  {
   "cell_type": "code",
   "execution_count": 20,
   "metadata": {},
   "outputs": [
    {
     "name": "stderr",
     "output_type": "stream",
     "text": [
      "C:\\Users\\elias\\Programs\\anaconda3\\envs\\siisa\\lib\\site-packages\\ipykernel_launcher.py:1: SettingWithCopyWarning: \n",
      "A value is trying to be set on a copy of a slice from a DataFrame.\n",
      "Try using .loc[row_indexer,col_indexer] = value instead\n",
      "\n",
      "See the caveats in the documentation: http://pandas.pydata.org/pandas-docs/stable/indexing.html#indexing-view-versus-copy\n",
      "  \"\"\"Entry point for launching an IPython kernel.\n"
     ]
    }
   ],
   "source": [
    "df_prestamos_clean['CreateDate']=pd.to_datetime(df_prestamos_clean.CreateDate)"
   ]
  },
  {
   "cell_type": "markdown",
   "metadata": {},
   "source": [
    "### Consulta sobre la base de datos de cuotas para generar los ids de prestamos donde hubo un retraso en alguna de las cuotas de mas de 90 dias."
   ]
  },
  {
   "cell_type": "code",
   "execution_count": 21,
   "metadata": {},
   "outputs": [],
   "source": [
    "# Genero una consulta sobre la base de cuotas.\n",
    "query = \"{} IN ({})\".format(\"\"\"select * from dtsMiAdelanto.dbo.Cuotas\n",
    "WHERE dtsMiAdelanto.dbo.Cuotas.PrestamoId  \"\"\", \", \".join([str(n) for n in df_prestamos_clean.PrestamoId.values]))\n",
    "# Make dataframe from query.\n",
    "df_cuotas = get_data_fsql(query)"
   ]
  },
  {
   "cell_type": "code",
   "execution_count": 22,
   "metadata": {},
   "outputs": [
    {
     "data": {
      "text/html": [
       "<div>\n",
       "<style scoped>\n",
       "    .dataframe tbody tr th:only-of-type {\n",
       "        vertical-align: middle;\n",
       "    }\n",
       "\n",
       "    .dataframe tbody tr th {\n",
       "        vertical-align: top;\n",
       "    }\n",
       "\n",
       "    .dataframe thead th {\n",
       "        text-align: right;\n",
       "    }\n",
       "</style>\n",
       "<table border=\"1\" class=\"dataframe\">\n",
       "  <thead>\n",
       "    <tr style=\"text-align: right;\">\n",
       "      <th></th>\n",
       "      <th>PrestamoComercioId</th>\n",
       "      <th>PrestamoSucursalId</th>\n",
       "      <th>PrestamoId</th>\n",
       "      <th>CuotaId</th>\n",
       "      <th>FechaIni</th>\n",
       "      <th>FechaVto</th>\n",
       "      <th>FechaVto2</th>\n",
       "      <th>FechaCobro</th>\n",
       "      <th>EstadoId</th>\n",
       "      <th>Capital</th>\n",
       "      <th>...</th>\n",
       "      <th>NotaCreditoNro</th>\n",
       "      <th>NotaCreditoFecha</th>\n",
       "      <th>attrTransferencia</th>\n",
       "      <th>CreateUser</th>\n",
       "      <th>CreateDate</th>\n",
       "      <th>UpdateUser</th>\n",
       "      <th>UpdateDate</th>\n",
       "      <th>DeleteUser</th>\n",
       "      <th>DeleteDate</th>\n",
       "      <th>attrDeleted</th>\n",
       "    </tr>\n",
       "  </thead>\n",
       "  <tbody>\n",
       "    <tr>\n",
       "      <th>0</th>\n",
       "      <td>1</td>\n",
       "      <td>1</td>\n",
       "      <td>9999</td>\n",
       "      <td>1</td>\n",
       "      <td>2015-12-21</td>\n",
       "      <td>2016-02-08</td>\n",
       "      <td>2016-02-08</td>\n",
       "      <td>NaT</td>\n",
       "      <td>1</td>\n",
       "      <td>4150.00</td>\n",
       "      <td>...</td>\n",
       "      <td>None</td>\n",
       "      <td>None</td>\n",
       "      <td>None</td>\n",
       "      <td>sergiorocha</td>\n",
       "      <td>2016-08-03 14:47:00</td>\n",
       "      <td>None</td>\n",
       "      <td>None</td>\n",
       "      <td>None</td>\n",
       "      <td>NaT</td>\n",
       "      <td>None</td>\n",
       "    </tr>\n",
       "    <tr>\n",
       "      <th>1</th>\n",
       "      <td>1</td>\n",
       "      <td>1</td>\n",
       "      <td>100017</td>\n",
       "      <td>1</td>\n",
       "      <td>2016-03-07</td>\n",
       "      <td>2016-04-11</td>\n",
       "      <td>2016-04-11</td>\n",
       "      <td>NaT</td>\n",
       "      <td>1</td>\n",
       "      <td>333.33</td>\n",
       "      <td>...</td>\n",
       "      <td>None</td>\n",
       "      <td>None</td>\n",
       "      <td>None</td>\n",
       "      <td>dts</td>\n",
       "      <td>2016-01-01 00:00:00</td>\n",
       "      <td>None</td>\n",
       "      <td>None</td>\n",
       "      <td>sergiorocha</td>\n",
       "      <td>2016-06-27 13:28:00</td>\n",
       "      <td>True</td>\n",
       "    </tr>\n",
       "    <tr>\n",
       "      <th>2</th>\n",
       "      <td>1</td>\n",
       "      <td>1</td>\n",
       "      <td>100017</td>\n",
       "      <td>2</td>\n",
       "      <td>2016-04-11</td>\n",
       "      <td>2016-05-10</td>\n",
       "      <td>2016-05-10</td>\n",
       "      <td>NaT</td>\n",
       "      <td>1</td>\n",
       "      <td>333.33</td>\n",
       "      <td>...</td>\n",
       "      <td>None</td>\n",
       "      <td>None</td>\n",
       "      <td>None</td>\n",
       "      <td>dts</td>\n",
       "      <td>2016-01-01 00:00:00</td>\n",
       "      <td>None</td>\n",
       "      <td>None</td>\n",
       "      <td>sergiorocha</td>\n",
       "      <td>2016-06-27 13:28:00</td>\n",
       "      <td>True</td>\n",
       "    </tr>\n",
       "  </tbody>\n",
       "</table>\n",
       "<p>3 rows × 41 columns</p>\n",
       "</div>"
      ],
      "text/plain": [
       "   PrestamoComercioId  PrestamoSucursalId  PrestamoId  CuotaId   FechaIni  \\\n",
       "0                   1                   1        9999        1 2015-12-21   \n",
       "1                   1                   1      100017        1 2016-03-07   \n",
       "2                   1                   1      100017        2 2016-04-11   \n",
       "\n",
       "    FechaVto  FechaVto2 FechaCobro  EstadoId  Capital  ...  NotaCreditoNro  \\\n",
       "0 2016-02-08 2016-02-08        NaT         1  4150.00  ...            None   \n",
       "1 2016-04-11 2016-04-11        NaT         1   333.33  ...            None   \n",
       "2 2016-05-10 2016-05-10        NaT         1   333.33  ...            None   \n",
       "\n",
       "   NotaCreditoFecha  attrTransferencia   CreateUser          CreateDate  \\\n",
       "0              None               None  sergiorocha 2016-08-03 14:47:00   \n",
       "1              None               None          dts 2016-01-01 00:00:00   \n",
       "2              None               None          dts 2016-01-01 00:00:00   \n",
       "\n",
       "   UpdateUser  UpdateDate   DeleteUser          DeleteDate  attrDeleted  \n",
       "0        None        None         None                 NaT         None  \n",
       "1        None        None  sergiorocha 2016-06-27 13:28:00         True  \n",
       "2        None        None  sergiorocha 2016-06-27 13:28:00         True  \n",
       "\n",
       "[3 rows x 41 columns]"
      ]
     },
     "execution_count": 22,
     "metadata": {},
     "output_type": "execute_result"
    }
   ],
   "source": [
    "df_cuotas.head(3)"
   ]
  },
  {
   "cell_type": "code",
   "execution_count": 23,
   "metadata": {},
   "outputs": [
    {
     "data": {
      "text/plain": [
       "(4044, 41)"
      ]
     },
     "execution_count": 23,
     "metadata": {},
     "output_type": "execute_result"
    }
   ],
   "source": [
    "df_cuotas.shape"
   ]
  },
  {
   "cell_type": "markdown",
   "metadata": {},
   "source": [
    "####  Genero una columna de diferencia de dias entre el pago y el vencimiento."
   ]
  },
  {
   "cell_type": "code",
   "execution_count": 24,
   "metadata": {},
   "outputs": [],
   "source": [
    "import numpy as np\n",
    "df_cuotas['diff_days'] = df_cuotas['FechaCobro'] - df_cuotas['FechaVto']\n",
    "df_cuotas['diff_days']=df_cuotas['diff_days']/np.timedelta64(1,'D')"
   ]
  },
  {
   "cell_type": "code",
   "execution_count": 25,
   "metadata": {},
   "outputs": [
    {
     "data": {
      "text/plain": [
       "(240,)"
      ]
     },
     "execution_count": 25,
     "metadata": {},
     "output_type": "execute_result"
    }
   ],
   "source": [
    "# Numero de instancias donde se atraso el pago.\n",
    "df_cuotas.diff_days[df_cuotas.diff_days > 90 ].shape"
   ]
  },
  {
   "cell_type": "code",
   "execution_count": 26,
   "metadata": {},
   "outputs": [
    {
     "data": {
      "text/plain": [
       "(2436,)"
      ]
     },
     "execution_count": 26,
     "metadata": {},
     "output_type": "execute_result"
    }
   ],
   "source": [
    "df_cuotas.diff_days[df_cuotas.diff_days < 90 ].shape"
   ]
  },
  {
   "cell_type": "code",
   "execution_count": 27,
   "metadata": {},
   "outputs": [],
   "source": [
    "#  Encuentro todos los prestamosIDs donde hay un retraso de al menos 90 dias en el pago de alguna de las cuotas.\n",
    "df_prestamos_atrasados=df_cuotas[ df_cuotas.diff_days > 90 ][['PrestamoId','diff_days']].drop_duplicates(subset='PrestamoId')"
   ]
  },
  {
   "cell_type": "code",
   "execution_count": 28,
   "metadata": {},
   "outputs": [
    {
     "data": {
      "text/plain": [
       "(173, 2)"
      ]
     },
     "execution_count": 28,
     "metadata": {},
     "output_type": "execute_result"
    }
   ],
   "source": [
    "# Numero de prestamos unicos donde se presento un retraso en la cuota.\n",
    "df_prestamos_atrasados.shape"
   ]
  },
  {
   "cell_type": "code",
   "execution_count": 29,
   "metadata": {},
   "outputs": [
    {
     "data": {
      "text/html": [
       "<div>\n",
       "<style scoped>\n",
       "    .dataframe tbody tr th:only-of-type {\n",
       "        vertical-align: middle;\n",
       "    }\n",
       "\n",
       "    .dataframe tbody tr th {\n",
       "        vertical-align: top;\n",
       "    }\n",
       "\n",
       "    .dataframe thead th {\n",
       "        text-align: right;\n",
       "    }\n",
       "</style>\n",
       "<table border=\"1\" class=\"dataframe\">\n",
       "  <thead>\n",
       "    <tr style=\"text-align: right;\">\n",
       "      <th></th>\n",
       "      <th>PrestamoId</th>\n",
       "      <th>diff_days</th>\n",
       "    </tr>\n",
       "  </thead>\n",
       "  <tbody>\n",
       "    <tr>\n",
       "      <th>25</th>\n",
       "      <td>100028</td>\n",
       "      <td>225.0</td>\n",
       "    </tr>\n",
       "    <tr>\n",
       "      <th>33</th>\n",
       "      <td>100031</td>\n",
       "      <td>406.0</td>\n",
       "    </tr>\n",
       "    <tr>\n",
       "      <th>65</th>\n",
       "      <td>100047</td>\n",
       "      <td>560.0</td>\n",
       "    </tr>\n",
       "    <tr>\n",
       "      <th>73</th>\n",
       "      <td>100052</td>\n",
       "      <td>591.0</td>\n",
       "    </tr>\n",
       "    <tr>\n",
       "      <th>76</th>\n",
       "      <td>100053</td>\n",
       "      <td>955.0</td>\n",
       "    </tr>\n",
       "  </tbody>\n",
       "</table>\n",
       "</div>"
      ],
      "text/plain": [
       "    PrestamoId  diff_days\n",
       "25      100028      225.0\n",
       "33      100031      406.0\n",
       "65      100047      560.0\n",
       "73      100052      591.0\n",
       "76      100053      955.0"
      ]
     },
     "execution_count": 29,
     "metadata": {},
     "output_type": "execute_result"
    }
   ],
   "source": [
    "df_prestamos_atrasados.head()"
   ]
  },
  {
   "cell_type": "code",
   "execution_count": 30,
   "metadata": {},
   "outputs": [
    {
     "data": {
      "text/plain": [
       "<matplotlib.axes._subplots.AxesSubplot at 0x201febe0128>"
      ]
     },
     "execution_count": 30,
     "metadata": {},
     "output_type": "execute_result"
    },
    {
     "data": {
      "image/png": "[encoded data removed]",
      "text/plain": [
       "<Figure size 432x288 with 1 Axes>"
      ]
     },
     "metadata": {
      "needs_background": "light"
     },
     "output_type": "display_data"
    }
   ],
   "source": [
    "# Imprimo la distribucion de atrasos en el pago de deuda.\n",
    "df_prestamos_atrasados['diff_days'].hist(bins=10)"
   ]
  },
  {
   "cell_type": "markdown",
   "metadata": {},
   "source": [
    "### Busco los ids de prestamos que defini arriba como morosos en la base de datos de prestamos y defino una nueva columna que los define como tal."
   ]
  },
  {
   "cell_type": "code",
   "execution_count": 31,
   "metadata": {},
   "outputs": [],
   "source": [
    "df_prestamos_modelar=pd.merge(left=df_prestamos_clean,right=df_prestamos_atrasados, how='left', left_on='PrestamoId', right_on='PrestamoId')"
   ]
  },
  {
   "cell_type": "code",
   "execution_count": 32,
   "metadata": {},
   "outputs": [
    {
     "data": {
      "text/plain": [
       "(1552, 154)"
      ]
     },
     "execution_count": 32,
     "metadata": {},
     "output_type": "execute_result"
    }
   ],
   "source": [
    "df_prestamos_modelar.shape"
   ]
  },
  {
   "cell_type": "code",
   "execution_count": 33,
   "metadata": {},
   "outputs": [],
   "source": [
    "# Defino que todos los usuarios son Nomorsos por defecto.\n",
    "df_prestamos_modelar['target']='Nomoroso'"
   ]
  },
  {
   "cell_type": "code",
   "execution_count": 34,
   "metadata": {},
   "outputs": [],
   "source": [
    "# Por definicion los que esta en abogado es porque son morosos.\n",
    "df_prestamos_modelar.loc[df_prestamos_modelar['EstadoNombre'] == 'En Abogado', 'target'] = 'moroso'"
   ]
  },
  {
   "cell_type": "code",
   "execution_count": 35,
   "metadata": {},
   "outputs": [],
   "source": [
    "# Los clientes que tienen una deuda mayor a 90 dias los defino como morosos.\n",
    "df_prestamos_modelar.loc[df_prestamos_modelar['diff_days'] > 90 , 'target'] = 'moroso'"
   ]
  },
  {
   "cell_type": "code",
   "execution_count": 36,
   "metadata": {},
   "outputs": [
    {
     "data": {
      "text/plain": [
       "Nomoroso    1058\n",
       "moroso       494\n",
       "Name: target, dtype: int64"
      ]
     },
     "execution_count": 36,
     "metadata": {},
     "output_type": "execute_result"
    }
   ],
   "source": [
    "df_prestamos_modelar.target.value_counts()"
   ]
  },
  {
   "cell_type": "code",
   "execution_count": 37,
   "metadata": {},
   "outputs": [
    {
     "data": {
      "text/plain": [
       "(226, 155)"
      ]
     },
     "execution_count": 37,
     "metadata": {},
     "output_type": "execute_result"
    }
   ],
   "source": [
    "df_prestamos_modelar[~df_prestamos_modelar.siisa_cuil.isna()].shape"
   ]
  },
  {
   "cell_type": "markdown",
   "metadata": {},
   "source": [
    "#### Elijo las variables que ingreso en el modelo."
   ]
  },
  {
   "cell_type": "code",
   "execution_count": 38,
   "metadata": {},
   "outputs": [
    {
     "name": "stdout",
     "output_type": "stream",
     "text": [
      "CreateDate\n",
      "PrestamoComercioId\n",
      "PrestamoId\n",
      "ClienteId\n",
      "PlanId\n",
      "Fecha\n",
      "FechaRetiro\n",
      "NroCuotas\n",
      "Capital\n",
      "Apellidos\n",
      "Nombres\n",
      "CUIL\n",
      "Sexo\n",
      "FechaNacimiento\n",
      "Actividad\n",
      "NacionalidadId\n",
      "DiaCobro\n",
      "CBU\n",
      "BancoId_x\n",
      "BancoNombre\n",
      "EstadoNombre\n",
      "idTrans\n",
      "Dictamen\n",
      "BancoId_y\n",
      "Edad\n",
      "cantTotalPrestamos\n",
      "capitalMaximo\n",
      "cdiasAtrasoAnterior\n",
      "cuil\n",
      "cuotasPendientesAnterior\n",
      "cuotasTotalesAnterior\n",
      "decisionResult\n",
      "diasDesdeAnterior\n",
      "disponible\n",
      "montoCuota\n",
      "siisa_Dup1\n",
      "siisa_Dup2\n",
      "siisa_Dup3\n",
      "siisa_Dup4\n",
      "siisa_DupCuil1\n",
      "siisa_DupCuil2\n",
      "siisa_DupCuil3\n",
      "siisa_DupCuil4\n",
      "siisa_apellidoNombre\n",
      "siisa_autonomo\n",
      "siisa_autonomoMeses\n",
      "siisa_bacCompromiso\n",
      "siisa_cacheHit\n",
      "siisa_cant1s\n",
      "siisa_cant2s\n",
      "siisa_cant3s\n",
      "siisa_cant4s\n",
      "siisa_cant5s\n",
      "siisa_cant6s\n",
      "siisa_cantCheques\n",
      "siisa_cantMoras\n",
      "siisa_cantMorasBCRA\n",
      "siisa_codR\n",
      "siisa_compromiso\n",
      "siisa_concursosQuiebras\n",
      "siisa_consultaError\n",
      "siisa_consultasAno\n",
      "siisa_consultasDia\n",
      "siisa_consultasDosAno\n",
      "siisa_consultasMes\n",
      "siisa_consultasSeisMeses\n",
      "siisa_consultasSemana\n",
      "siisa_consultasTresMeses\n",
      "siisa_cuil\n",
      "siisa_cuitsCheques\n",
      "siisa_direccion\n",
      "siisa_domValidado\n",
      "siisa_fallecido\n",
      "siisa_fnac\n",
      "siisa_fraudes\n",
      "siisa_grupoFamiliar\n",
      "siisa_ingreso\n",
      "siisa_jubilado\n",
      "siisa_llamado\n",
      "siisa_locValidada\n",
      "siisa_maxBCRA\n",
      "siisa_maxBCRA12m\n",
      "siisa_maxBCRA24m\n",
      "siisa_maxBCRA6m\n",
      "siisa_monotributo\n",
      "siisa_monotributoCategoria\n",
      "siisa_monto1s\n",
      "siisa_monto2s\n",
      "siisa_monto3s\n",
      "siisa_monto4s\n",
      "siisa_monto5s\n",
      "siisa_monto6s\n",
      "siisa_montoMorasBCRA\n",
      "siisa_morasEntidades\n",
      "siisa_morasEntidadesBcra\n",
      "siisa_morasRazones\n",
      "siisa_morasRazonesBcra\n",
      "siisa_nroDoc\n",
      "siisa_operaYcumple\n",
      "siisa_provValidada\n",
      "siisa_relDep\n",
      "siisa_relDepCuit\n",
      "siisa_relDepDir\n",
      "siisa_relDepMeses\n",
      "siisa_relDepRazon\n",
      "siisa_relDepTel\n",
      "siisa_score\n",
      "siisa_scorePoblacion\n",
      "siisa_sectorLaboral\n",
      "siisa_sesCat\n",
      "siisa_sesModelo\n",
      "siisa_sexo\n",
      "siisa_subsectorLaboral\n",
      "siisa_telValidado\n",
      "siisa_telefono\n",
      "sueldo\n",
      "veraz_cacheHit\n",
      "veraz_cantCheq12\n",
      "veraz_cantConcursos60\n",
      "veraz_cantJuicios12\n",
      "veraz_cantMoraAbierta24\n",
      "veraz_consultaError\n",
      "veraz_consumoConsFin12m\n",
      "veraz_consumoConsFin1m\n",
      "veraz_consumoConsNoFin1m\n",
      "veraz_consumoPreActivos\n",
      "veraz_consumoPreCompromiso\n",
      "veraz_consumoPreMora\n",
      "veraz_consumoPreSaldo\n",
      "veraz_consumoPreTotal\n",
      "veraz_consumoPreVencidos\n",
      "veraz_consumoTarActivas\n",
      "veraz_consumoTarActivasMora\n",
      "veraz_consumoTarCuotas\n",
      "veraz_consumoTarMaxAntig\n",
      "veraz_consumoTarMaxAntigAct\n",
      "veraz_consumoTarSumLimite\n",
      "veraz_consumoTarSumMinimo\n",
      "veraz_consumoTarSumSaldo\n",
      "veraz_cuit\n",
      "veraz_llamado\n",
      "veraz_observaciones12m\n",
      "veraz_observaciones24m\n",
      "veraz_observacionesConqui60m\n",
      "veraz_observacionesMontoCerrada1m\n",
      "veraz_observacionesMontoCerrada24m\n",
      "veraz_peorSituacionBureau4m\n",
      "veraz_peorSituacionBureau5a12m\n",
      "veraz_peorStatus12\n",
      "veraz_peorStatusActual\n",
      "veraz_poblacion\n",
      "veraz_score\n",
      "veraz_validado\n"
     ]
    }
   ],
   "source": [
    "for c in df_prestamos_clean.columns:\n",
    "    print(c)"
   ]
  },
  {
   "cell_type": "code",
   "execution_count": 39,
   "metadata": {},
   "outputs": [],
   "source": [
    "var=\"\"\"\n",
    "NroCuotas\n",
    "Capital\n",
    "Edad\n",
    "cuotasPendientesAnterior\n",
    "disponible\n",
    "montoCuota\n",
    "siisa_cant1s\n",
    "siisa_cantMoras\n",
    "siisa_cantMorasBCRA\n",
    "siisa_compromiso\n",
    "siisa_ingreso\n",
    "siisa_monto1s\n",
    "siisa_montoMorasBCRA\n",
    "siisa_score\n",
    "siisa_sesCat\n",
    "sueldo\n",
    "target\n",
    "\"\"\"\n",
    "l=[]\n",
    "for v in var.split():\n",
    "    l.append(v)"
   ]
  },
  {
   "cell_type": "code",
   "execution_count": 40,
   "metadata": {},
   "outputs": [],
   "source": [
    "data = df_prestamos_modelar[df_prestamos_modelar.columns.intersection(l)][~df_prestamos_modelar.siisa_cuil.isna()]"
   ]
  },
  {
   "cell_type": "code",
   "execution_count": 41,
   "metadata": {},
   "outputs": [
    {
     "name": "stdout",
     "output_type": "stream",
     "text": [
      "<class 'pandas.core.frame.DataFrame'>\n",
      "Int64Index: 226 entries, 71 to 1551\n",
      "Data columns (total 17 columns):\n",
      "NroCuotas                   226 non-null int64\n",
      "Capital                     226 non-null float64\n",
      "Edad                        222 non-null object\n",
      "cuotasPendientesAnterior    225 non-null object\n",
      "disponible                  226 non-null object\n",
      "montoCuota                  226 non-null object\n",
      "siisa_cant1s                226 non-null object\n",
      "siisa_cantMoras             226 non-null object\n",
      "siisa_cantMorasBCRA         226 non-null object\n",
      "siisa_compromiso            226 non-null object\n",
      "siisa_ingreso               226 non-null object\n",
      "siisa_monto1s               226 non-null object\n",
      "siisa_montoMorasBCRA        226 non-null object\n",
      "siisa_score                 226 non-null object\n",
      "siisa_sesCat                226 non-null object\n",
      "sueldo                      226 non-null object\n",
      "target                      226 non-null object\n",
      "dtypes: float64(1), int64(1), object(15)\n",
      "memory usage: 31.8+ KB\n"
     ]
    }
   ],
   "source": [
    "data.info()"
   ]
  },
  {
   "cell_type": "code",
   "execution_count": 42,
   "metadata": {},
   "outputs": [],
   "source": [
    "data.Edad.fillna(0, inplace = True) \n",
    "data.cuotasPendientesAnterior.fillna(0, inplace = True) "
   ]
  },
  {
   "cell_type": "code",
   "execution_count": 43,
   "metadata": {},
   "outputs": [
    {
     "name": "stdout",
     "output_type": "stream",
     "text": [
      "<class 'pandas.core.frame.DataFrame'>\n",
      "Int64Index: 226 entries, 71 to 1551\n",
      "Data columns (total 17 columns):\n",
      "NroCuotas                   226 non-null int64\n",
      "Capital                     226 non-null float64\n",
      "Edad                        226 non-null object\n",
      "cuotasPendientesAnterior    226 non-null object\n",
      "disponible                  226 non-null object\n",
      "montoCuota                  226 non-null object\n",
      "siisa_cant1s                226 non-null object\n",
      "siisa_cantMoras             226 non-null object\n",
      "siisa_cantMorasBCRA         226 non-null object\n",
      "siisa_compromiso            226 non-null object\n",
      "siisa_ingreso               226 non-null object\n",
      "siisa_monto1s               226 non-null object\n",
      "siisa_montoMorasBCRA        226 non-null object\n",
      "siisa_score                 226 non-null object\n",
      "siisa_sesCat                226 non-null object\n",
      "sueldo                      226 non-null object\n",
      "target                      226 non-null object\n",
      "dtypes: float64(1), int64(1), object(15)\n",
      "memory usage: 31.8+ KB\n"
     ]
    }
   ],
   "source": [
    "data.info()"
   ]
  },
  {
   "cell_type": "code",
   "execution_count": 44,
   "metadata": {},
   "outputs": [],
   "source": [
    "# hago dummies para el numero de cuotas.\n",
    "Ncuotas=pd.get_dummies(data['NroCuotas'],prefix='NroCuotas')\n",
    "# hago dummies la sesCat.\n",
    "sesCat=pd.get_dummies(data['siisa_sesCat'],prefix='sesCat') \n",
    "# Concateno toda la info.\n",
    "modelar = pd.concat([data,Ncuotas,sesCat],axis=1)\n",
    "#\n",
    "modelar.drop('target', axis=1, inplace=True)\n",
    "#\n",
    "modelar.drop('NroCuotas', axis=1, inplace=True)\n",
    "#\n",
    "modelar.drop('siisa_sesCat', axis=1, inplace=True)\n",
    "#\n"
   ]
  },
  {
   "cell_type": "code",
   "execution_count": 45,
   "metadata": {},
   "outputs": [
    {
     "data": {
      "text/html": [
       "<div>\n",
       "<style scoped>\n",
       "    .dataframe tbody tr th:only-of-type {\n",
       "        vertical-align: middle;\n",
       "    }\n",
       "\n",
       "    .dataframe tbody tr th {\n",
       "        vertical-align: top;\n",
       "    }\n",
       "\n",
       "    .dataframe thead th {\n",
       "        text-align: right;\n",
       "    }\n",
       "</style>\n",
       "<table border=\"1\" class=\"dataframe\">\n",
       "  <thead>\n",
       "    <tr style=\"text-align: right;\">\n",
       "      <th></th>\n",
       "      <th>Capital</th>\n",
       "      <th>Edad</th>\n",
       "      <th>cuotasPendientesAnterior</th>\n",
       "      <th>disponible</th>\n",
       "      <th>montoCuota</th>\n",
       "      <th>siisa_cant1s</th>\n",
       "      <th>siisa_cantMoras</th>\n",
       "      <th>siisa_cantMorasBCRA</th>\n",
       "      <th>siisa_compromiso</th>\n",
       "      <th>siisa_ingreso</th>\n",
       "      <th>...</th>\n",
       "      <th>sueldo</th>\n",
       "      <th>NroCuotas_1</th>\n",
       "      <th>NroCuotas_2</th>\n",
       "      <th>NroCuotas_3</th>\n",
       "      <th>NroCuotas_4</th>\n",
       "      <th>sesCat_1</th>\n",
       "      <th>sesCat_2</th>\n",
       "      <th>sesCat_3</th>\n",
       "      <th>sesCat_4</th>\n",
       "      <th>sesCat_5</th>\n",
       "    </tr>\n",
       "  </thead>\n",
       "  <tbody>\n",
       "    <tr>\n",
       "      <th>71</th>\n",
       "      <td>7500.0</td>\n",
       "      <td>42</td>\n",
       "      <td>0</td>\n",
       "      <td>6384</td>\n",
       "      <td>0</td>\n",
       "      <td>1</td>\n",
       "      <td>0</td>\n",
       "      <td>0</td>\n",
       "      <td>6000</td>\n",
       "      <td>100000</td>\n",
       "      <td>...</td>\n",
       "      <td>0</td>\n",
       "      <td>0</td>\n",
       "      <td>0</td>\n",
       "      <td>1</td>\n",
       "      <td>0</td>\n",
       "      <td>0</td>\n",
       "      <td>1</td>\n",
       "      <td>0</td>\n",
       "      <td>0</td>\n",
       "      <td>0</td>\n",
       "    </tr>\n",
       "    <tr>\n",
       "      <th>102</th>\n",
       "      <td>5000.0</td>\n",
       "      <td>27</td>\n",
       "      <td>0</td>\n",
       "      <td>6384</td>\n",
       "      <td>0</td>\n",
       "      <td>1</td>\n",
       "      <td>0</td>\n",
       "      <td>0</td>\n",
       "      <td>1888.88888888889</td>\n",
       "      <td>25000</td>\n",
       "      <td>...</td>\n",
       "      <td>0</td>\n",
       "      <td>0</td>\n",
       "      <td>0</td>\n",
       "      <td>1</td>\n",
       "      <td>0</td>\n",
       "      <td>0</td>\n",
       "      <td>0</td>\n",
       "      <td>1</td>\n",
       "      <td>0</td>\n",
       "      <td>0</td>\n",
       "    </tr>\n",
       "    <tr>\n",
       "      <th>126</th>\n",
       "      <td>3000.0</td>\n",
       "      <td>31</td>\n",
       "      <td>0</td>\n",
       "      <td>6384</td>\n",
       "      <td>0</td>\n",
       "      <td>5</td>\n",
       "      <td>0</td>\n",
       "      <td>0</td>\n",
       "      <td>10200</td>\n",
       "      <td>20000</td>\n",
       "      <td>...</td>\n",
       "      <td>8</td>\n",
       "      <td>0</td>\n",
       "      <td>0</td>\n",
       "      <td>0</td>\n",
       "      <td>1</td>\n",
       "      <td>0</td>\n",
       "      <td>0</td>\n",
       "      <td>0</td>\n",
       "      <td>1</td>\n",
       "      <td>0</td>\n",
       "    </tr>\n",
       "    <tr>\n",
       "      <th>149</th>\n",
       "      <td>4000.0</td>\n",
       "      <td>25</td>\n",
       "      <td>0</td>\n",
       "      <td>6384</td>\n",
       "      <td>0</td>\n",
       "      <td>2</td>\n",
       "      <td>0</td>\n",
       "      <td>0</td>\n",
       "      <td>10500</td>\n",
       "      <td>20000</td>\n",
       "      <td>...</td>\n",
       "      <td>12600</td>\n",
       "      <td>0</td>\n",
       "      <td>0</td>\n",
       "      <td>1</td>\n",
       "      <td>0</td>\n",
       "      <td>0</td>\n",
       "      <td>0</td>\n",
       "      <td>0</td>\n",
       "      <td>1</td>\n",
       "      <td>0</td>\n",
       "    </tr>\n",
       "    <tr>\n",
       "      <th>158</th>\n",
       "      <td>3000.0</td>\n",
       "      <td>0</td>\n",
       "      <td>0</td>\n",
       "      <td>5409.44444444444</td>\n",
       "      <td>3559</td>\n",
       "      <td>1</td>\n",
       "      <td>0</td>\n",
       "      <td>0</td>\n",
       "      <td>1630.55555555556</td>\n",
       "      <td>30000</td>\n",
       "      <td>...</td>\n",
       "      <td>16000</td>\n",
       "      <td>1</td>\n",
       "      <td>0</td>\n",
       "      <td>0</td>\n",
       "      <td>0</td>\n",
       "      <td>0</td>\n",
       "      <td>1</td>\n",
       "      <td>0</td>\n",
       "      <td>0</td>\n",
       "      <td>0</td>\n",
       "    </tr>\n",
       "  </tbody>\n",
       "</table>\n",
       "<p>5 rows × 23 columns</p>\n",
       "</div>"
      ],
      "text/plain": [
       "     Capital Edad cuotasPendientesAnterior        disponible montoCuota  \\\n",
       "71    7500.0   42                        0              6384          0   \n",
       "102   5000.0   27                        0              6384          0   \n",
       "126   3000.0   31                        0              6384          0   \n",
       "149   4000.0   25                        0              6384          0   \n",
       "158   3000.0    0                        0  5409.44444444444       3559   \n",
       "\n",
       "    siisa_cant1s siisa_cantMoras siisa_cantMorasBCRA  siisa_compromiso  \\\n",
       "71             1               0                   0              6000   \n",
       "102            1               0                   0  1888.88888888889   \n",
       "126            5               0                   0             10200   \n",
       "149            2               0                   0             10500   \n",
       "158            1               0                   0  1630.55555555556   \n",
       "\n",
       "    siisa_ingreso  ... sueldo NroCuotas_1 NroCuotas_2 NroCuotas_3  \\\n",
       "71         100000  ...      0           0           0           1   \n",
       "102         25000  ...      0           0           0           1   \n",
       "126         20000  ...      8           0           0           0   \n",
       "149         20000  ...  12600           0           0           1   \n",
       "158         30000  ...  16000           1           0           0   \n",
       "\n",
       "     NroCuotas_4  sesCat_1  sesCat_2  sesCat_3  sesCat_4  sesCat_5  \n",
       "71             0         0         1         0         0         0  \n",
       "102            0         0         0         1         0         0  \n",
       "126            1         0         0         0         1         0  \n",
       "149            0         0         0         0         1         0  \n",
       "158            0         0         1         0         0         0  \n",
       "\n",
       "[5 rows x 23 columns]"
      ]
     },
     "execution_count": 45,
     "metadata": {},
     "output_type": "execute_result"
    }
   ],
   "source": [
    "modelar.head()"
   ]
  },
  {
   "cell_type": "code",
   "execution_count": 46,
   "metadata": {},
   "outputs": [
    {
     "data": {
      "text/plain": [
       "Index(['Capital', 'Edad', 'cuotasPendientesAnterior', 'disponible',\n",
       "       'montoCuota', 'siisa_cant1s', 'siisa_cantMoras', 'siisa_cantMorasBCRA',\n",
       "       'siisa_compromiso', 'siisa_ingreso', 'siisa_monto1s',\n",
       "       'siisa_montoMorasBCRA', 'siisa_score', 'sueldo', 'NroCuotas_1',\n",
       "       'NroCuotas_2', 'NroCuotas_3', 'NroCuotas_4', 'sesCat_1', 'sesCat_2',\n",
       "       'sesCat_3', 'sesCat_4', 'sesCat_5'],\n",
       "      dtype='object')"
      ]
     },
     "execution_count": 46,
     "metadata": {},
     "output_type": "execute_result"
    }
   ],
   "source": [
    "modelar.columns"
   ]
  },
  {
   "cell_type": "code",
   "execution_count": 47,
   "metadata": {},
   "outputs": [],
   "source": [
    "# Encodear las etiquetas usando LabelEncoder\n",
    "from sklearn.preprocessing import LabelEncoder\n",
    "le = LabelEncoder()\n",
    "y = le.fit_transform(data['target'])"
   ]
  },
  {
   "cell_type": "code",
   "execution_count": 48,
   "metadata": {},
   "outputs": [
    {
     "data": {
      "text/plain": [
       "(226,)"
      ]
     },
     "execution_count": 48,
     "metadata": {},
     "output_type": "execute_result"
    }
   ],
   "source": [
    "y.shape"
   ]
  },
  {
   "cell_type": "code",
   "execution_count": 49,
   "metadata": {},
   "outputs": [
    {
     "data": {
      "text/plain": [
       "array(['Nomoroso', 'moroso'], dtype=object)"
      ]
     },
     "execution_count": 49,
     "metadata": {},
     "output_type": "execute_result"
    }
   ],
   "source": [
    "le.classes_"
   ]
  },
  {
   "cell_type": "code",
   "execution_count": 50,
   "metadata": {},
   "outputs": [
    {
     "data": {
      "text/plain": [
       "(226, 23)"
      ]
     },
     "execution_count": 50,
     "metadata": {},
     "output_type": "execute_result"
    }
   ],
   "source": [
    "modelar.shape"
   ]
  },
  {
   "cell_type": "code",
   "execution_count": 51,
   "metadata": {},
   "outputs": [
    {
     "name": "stdout",
     "output_type": "stream",
     "text": [
      "Best hyperparameters:\n",
      " {'max_depth': 3, 'max_features': 0.2, 'min_samples_leaf': 0.2}\n",
      "Best CV accuracy\n"
     ]
    },
    {
     "name": "stderr",
     "output_type": "stream",
     "text": [
      "C:\\Users\\elias\\Programs\\anaconda3\\envs\\siisa\\lib\\site-packages\\sklearn\\model_selection\\_search.py:813: DeprecationWarning: The default of the `iid` parameter will change from True to False in version 0.22 and will be removed in 0.24. This will change numeric results when test-set sizes are unequal.\n",
      "  DeprecationWarning)\n"
     ]
    }
   ],
   "source": [
    "from sklearn.tree import DecisionTreeClassifier\n",
    "from sklearn.metrics import roc_auc_score\n",
    "\n",
    "SEED = 1\n",
    "treeclf = DecisionTreeClassifier(random_state=SEED)\n",
    "\n",
    "# Import GridSearchCV\n",
    "from sklearn.model_selection import GridSearchCV\n",
    "# Define the grid of hyperparameters 'params_dt'\n",
    "params_dt = {\n",
    "    'max_depth': list(range(3, 50)),\n",
    "    'min_samples_leaf': [0.04, 0.06, 0.08, 0.1, 0.2, 0.3, 0.4, 0.5],\n",
    "    'max_features': [0.2, 0.4, 0.6, 0.8]\n",
    "    }\n",
    "# Instantiate a 10-fold CV grid search object 'grid_dt'\n",
    "grid_search = GridSearchCV(estimator=treeclf,param_grid=params_dt,scoring='recall_weighted',cv=5,n_jobs=-1)\n",
    "# Fit 'grid_dt' to the training data\n",
    "grid_search.fit(modelar, y)\n",
    "\n",
    "# Extract best hyperparameters from 'grid_dt'\n",
    "best_hyperparams = grid_search.best_params_\n",
    "print('Best hyperparameters:\\n', best_hyperparams)\n",
    "# Extract best CV score from 'grid_dt'\n",
    "best_CV_score = grid_search.best_score_\n",
    "print('Best CV accuracy'.format(best_CV_score))"
   ]
  },
  {
   "cell_type": "code",
   "execution_count": 52,
   "metadata": {},
   "outputs": [
    {
     "data": {
      "text/plain": [
       "dict_keys(['explained_variance', 'r2', 'max_error', 'neg_median_absolute_error', 'neg_mean_absolute_error', 'neg_mean_squared_error', 'neg_mean_squared_log_error', 'accuracy', 'roc_auc', 'balanced_accuracy', 'average_precision', 'neg_log_loss', 'brier_score_loss', 'adjusted_rand_score', 'homogeneity_score', 'completeness_score', 'v_measure_score', 'mutual_info_score', 'adjusted_mutual_info_score', 'normalized_mutual_info_score', 'fowlkes_mallows_score', 'precision', 'precision_macro', 'precision_micro', 'precision_samples', 'precision_weighted', 'recall', 'recall_macro', 'recall_micro', 'recall_samples', 'recall_weighted', 'f1', 'f1_macro', 'f1_micro', 'f1_samples', 'f1_weighted', 'jaccard', 'jaccard_macro', 'jaccard_micro', 'jaccard_samples', 'jaccard_weighted'])"
      ]
     },
     "execution_count": 52,
     "metadata": {},
     "output_type": "execute_result"
    }
   ],
   "source": [
    "from sklearn.metrics import SCORERS\n",
    "\n",
    "SCORERS.keys()"
   ]
  },
  {
   "cell_type": "code",
   "execution_count": 53,
   "metadata": {},
   "outputs": [
    {
     "data": {
      "text/plain": [
       "DecisionTreeClassifier(class_weight=None, criterion='gini', max_depth=3,\n",
       "                       max_features=0.2, max_leaf_nodes=None,\n",
       "                       min_impurity_decrease=0.0, min_impurity_split=None,\n",
       "                       min_samples_leaf=0.2, min_samples_split=2,\n",
       "                       min_weight_fraction_leaf=0.0, presort=False,\n",
       "                       random_state=1, splitter='best')"
      ]
     },
     "execution_count": 53,
     "metadata": {},
     "output_type": "execute_result"
    }
   ],
   "source": [
    "best_tree=grid_search.best_estimator_\n",
    "best_tree.fit(modelar, y)"
   ]
  },
  {
   "cell_type": "code",
   "execution_count": 54,
   "metadata": {},
   "outputs": [
    {
     "name": "stdout",
     "output_type": "stream",
     "text": [
      "DecisionTree: Area under the ROC curve = 0.7895057342941236\n"
     ]
    }
   ],
   "source": [
    "tree_preds = best_tree.predict_proba(modelar)[:, 1]\n",
    "tree_performance = roc_auc_score(y, tree_preds)\n",
    "\n",
    "print( 'DecisionTree: Area under the ROC curve = {}'.format(tree_performance))"
   ]
  },
  {
   "cell_type": "code",
   "execution_count": 55,
   "metadata": {},
   "outputs": [
    {
     "data": {
      "image/png": "[encoded data removed]",
      "text/plain": [
       "<IPython.core.display.Image object>"
      ]
     },
     "execution_count": 55,
     "metadata": {},
     "output_type": "execute_result"
    }
   ],
   "source": [
    "from IPython.display import Image\n",
    "from sklearn.tree import export_graphviz\n",
    "import pydotplus\n",
    "atributos = modelar.columns\n",
    "# Visualizar el árbol usando graphviz\n",
    "dot_data = export_graphviz(best_tree, out_file=None,  \n",
    "                feature_names=atributos,  \n",
    "                filled=True, rounded=True,  \n",
    "                special_characters=True)  \n",
    "graph = pydotplus.graph_from_dot_data(dot_data)\n",
    "Image(graph.create_png())"
   ]
  },
  {
   "cell_type": "code",
   "execution_count": 56,
   "metadata": {},
   "outputs": [
    {
     "data": {
      "text/plain": [
       "array(['Nomoroso', 'moroso'], dtype=object)"
      ]
     },
     "execution_count": 56,
     "metadata": {},
     "output_type": "execute_result"
    }
   ],
   "source": [
    "le.classes_"
   ]
  },
  {
   "cell_type": "code",
   "execution_count": 57,
   "metadata": {},
   "outputs": [
    {
     "data": {
      "text/html": [
       "<div>\n",
       "<style scoped>\n",
       "    .dataframe tbody tr th:only-of-type {\n",
       "        vertical-align: middle;\n",
       "    }\n",
       "\n",
       "    .dataframe tbody tr th {\n",
       "        vertical-align: top;\n",
       "    }\n",
       "\n",
       "    .dataframe thead th {\n",
       "        text-align: right;\n",
       "    }\n",
       "</style>\n",
       "<table border=\"1\" class=\"dataframe\">\n",
       "  <thead>\n",
       "    <tr style=\"text-align: right;\">\n",
       "      <th></th>\n",
       "      <th>Atributo</th>\n",
       "      <th>importancia</th>\n",
       "    </tr>\n",
       "  </thead>\n",
       "  <tbody>\n",
       "    <tr>\n",
       "      <th>8</th>\n",
       "      <td>siisa_compromiso</td>\n",
       "      <td>0.706477</td>\n",
       "    </tr>\n",
       "    <tr>\n",
       "      <th>17</th>\n",
       "      <td>NroCuotas_4</td>\n",
       "      <td>0.285782</td>\n",
       "    </tr>\n",
       "    <tr>\n",
       "      <th>1</th>\n",
       "      <td>Edad</td>\n",
       "      <td>0.007741</td>\n",
       "    </tr>\n",
       "    <tr>\n",
       "      <th>0</th>\n",
       "      <td>Capital</td>\n",
       "      <td>0.000000</td>\n",
       "    </tr>\n",
       "    <tr>\n",
       "      <th>13</th>\n",
       "      <td>sueldo</td>\n",
       "      <td>0.000000</td>\n",
       "    </tr>\n",
       "  </tbody>\n",
       "</table>\n",
       "</div>"
      ],
      "text/plain": [
       "            Atributo  importancia\n",
       "8   siisa_compromiso     0.706477\n",
       "17       NroCuotas_4     0.285782\n",
       "1               Edad     0.007741\n",
       "0            Capital     0.000000\n",
       "13            sueldo     0.000000"
      ]
     },
     "execution_count": 57,
     "metadata": {},
     "output_type": "execute_result"
    }
   ],
   "source": [
    "# Calcular la importancia de los atributos\n",
    "pd.DataFrame({'Atributo':atributos,\n",
    "              'importancia':best_tree.feature_importances_}).sort_values('importancia',\n",
    "                                                                      ascending=False).head()"
   ]
  },
  {
   "cell_type": "code",
   "execution_count": 58,
   "metadata": {},
   "outputs": [
    {
     "data": {
      "text/html": [
       "<div>\n",
       "<style scoped>\n",
       "    .dataframe tbody tr th:only-of-type {\n",
       "        vertical-align: middle;\n",
       "    }\n",
       "\n",
       "    .dataframe tbody tr th {\n",
       "        vertical-align: top;\n",
       "    }\n",
       "\n",
       "    .dataframe thead th {\n",
       "        text-align: right;\n",
       "    }\n",
       "</style>\n",
       "<table border=\"1\" class=\"dataframe\">\n",
       "  <thead>\n",
       "    <tr style=\"text-align: right;\">\n",
       "      <th></th>\n",
       "      <th>pred_Nomoroso</th>\n",
       "      <th>pred_moroso</th>\n",
       "    </tr>\n",
       "  </thead>\n",
       "  <tbody>\n",
       "    <tr>\n",
       "      <th>Nomoroso</th>\n",
       "      <td>138</td>\n",
       "      <td>29</td>\n",
       "    </tr>\n",
       "    <tr>\n",
       "      <th>moroso</th>\n",
       "      <td>25</td>\n",
       "      <td>34</td>\n",
       "    </tr>\n",
       "  </tbody>\n",
       "</table>\n",
       "</div>"
      ],
      "text/plain": [
       "          pred_Nomoroso  pred_moroso\n",
       "Nomoroso            138           29\n",
       "moroso               25           34"
      ]
     },
     "execution_count": 58,
     "metadata": {},
     "output_type": "execute_result"
    }
   ],
   "source": [
    "# Calcular y mostrar la matriz de confusión\n",
    "from sklearn.metrics import confusion_matrix\n",
    "conf = confusion_matrix(y, best_tree.predict(modelar))\n",
    "predicted_cols = ['pred_'+c for c in le.classes_]\n",
    "pd.DataFrame(conf, index = le.classes_, columns = predicted_cols)"
   ]
  },
  {
   "cell_type": "code",
   "execution_count": 59,
   "metadata": {},
   "outputs": [
    {
     "data": {
      "text/plain": [
       "Nomoroso    167\n",
       "moroso       59\n",
       "dtype: int64"
      ]
     },
     "execution_count": 59,
     "metadata": {},
     "output_type": "execute_result"
    }
   ],
   "source": [
    "pd.Series(le.inverse_transform(y)).value_counts()"
   ]
  },
  {
   "cell_type": "code",
   "execution_count": 60,
   "metadata": {},
   "outputs": [
    {
     "data": {
      "text/plain": [
       "0.7610619469026548"
      ]
     },
     "execution_count": 60,
     "metadata": {},
     "output_type": "execute_result"
    }
   ],
   "source": [
    "from sklearn.metrics import accuracy_score\n",
    "accuracy_score(y,best_tree.predict(modelar))"
   ]
  },
  {
   "cell_type": "code",
   "execution_count": null,
   "metadata": {},
   "outputs": [],
   "source": []
  }
 ],
 "metadata": {
  "kernelspec": {
   "display_name": "Python 3",
   "language": "python",
   "name": "python3"
  },
  "language_info": {
   "codemirror_mode": {
    "name": "ipython",
    "version": 3
   },
   "file_extension": ".py",
   "mimetype": "text/x-python",
   "name": "python",
   "nbconvert_exporter": "python",
   "pygments_lexer": "ipython3",
   "version": "3.7.3"
  }
 },
 "nbformat": 4,
 "nbformat_minor": 2
}
