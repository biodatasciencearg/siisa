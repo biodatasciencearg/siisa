{
 "cells": [
  {
   "cell_type": "code",
   "execution_count": 1,
   "metadata": {},
   "outputs": [
    {
     "name": "stdout",
     "output_type": "stream",
     "text": [
      "Processing c:\\users\\elias\\analisis\\python_scripts\\dython\n",
      "Requirement already satisfied: numpy in c:\\users\\elias\\programs\\anaconda3\\envs\\siisa\\lib\\site-packages (from dython==0.1.1) (1.16.3)\n",
      "Requirement already satisfied: pandas in c:\\users\\elias\\programs\\anaconda3\\envs\\siisa\\lib\\site-packages (from dython==0.1.1) (0.24.2)\n",
      "Requirement already satisfied: seaborn in c:\\users\\elias\\programs\\anaconda3\\envs\\siisa\\lib\\site-packages (from dython==0.1.1) (0.9.0)\n",
      "Requirement already satisfied: scipy in c:\\users\\elias\\programs\\anaconda3\\envs\\siisa\\lib\\site-packages (from dython==0.1.1) (1.2.1)\n",
      "Requirement already satisfied: matplotlib in c:\\users\\elias\\programs\\anaconda3\\envs\\siisa\\lib\\site-packages (from dython==0.1.1) (3.0.3)\n",
      "Requirement already satisfied: scikit-learn in c:\\users\\elias\\programs\\anaconda3\\envs\\siisa\\lib\\site-packages (from dython==0.1.1) (0.21.1)\n",
      "Requirement already satisfied: pytz>=2011k in c:\\users\\elias\\programs\\anaconda3\\envs\\siisa\\lib\\site-packages (from pandas->dython==0.1.1) (2019.1)\n",
      "Requirement already satisfied: python-dateutil>=2.5.0 in c:\\users\\elias\\programs\\anaconda3\\envs\\siisa\\lib\\site-packages (from pandas->dython==0.1.1) (2.8.0)\n",
      "Requirement already satisfied: cycler>=0.10 in c:\\users\\elias\\programs\\anaconda3\\envs\\siisa\\lib\\site-packages (from matplotlib->dython==0.1.1) (0.10.0)\n",
      "Requirement already satisfied: kiwisolver>=1.0.1 in c:\\users\\elias\\programs\\anaconda3\\envs\\siisa\\lib\\site-packages (from matplotlib->dython==0.1.1) (1.1.0)\n",
      "Requirement already satisfied: pyparsing!=2.0.4,!=2.1.2,!=2.1.6,>=2.0.1 in c:\\users\\elias\\programs\\anaconda3\\envs\\siisa\\lib\\site-packages (from matplotlib->dython==0.1.1) (2.4.0)\n",
      "Requirement already satisfied: joblib>=0.11 in c:\\users\\elias\\programs\\anaconda3\\envs\\siisa\\lib\\site-packages (from scikit-learn->dython==0.1.1) (0.13.2)\n",
      "Requirement already satisfied: six>=1.5 in c:\\users\\elias\\programs\\anaconda3\\envs\\siisa\\lib\\site-packages (from python-dateutil>=2.5.0->pandas->dython==0.1.1) (1.12.0)\n",
      "Requirement already satisfied: setuptools in c:\\users\\elias\\programs\\anaconda3\\envs\\siisa\\lib\\site-packages (from kiwisolver>=1.0.1->matplotlib->dython==0.1.1) (41.0.1)\n",
      "Building wheels for collected packages: dython\n",
      "  Building wheel for dython (setup.py): started\n",
      "  Building wheel for dython (setup.py): finished with status 'done'\n",
      "  Stored in directory: C:\\Users\\elias\\AppData\\Local\\Temp\\pip-ephem-wheel-cache-lbzmp60y\\wheels\\3a\\a1\\00\\ba23292ef3c9f0ef5d777301f0a9b92f8e3ed8f3e47520ef78\n",
      "Successfully built dython\n",
      "Installing collected packages: dython\n",
      "Successfully installed dython-0.1.1\n"
     ]
    }
   ],
   "source": [
    "!pip install ./dython"
   ]
  }
 ],
 "metadata": {
  "kernelspec": {
   "display_name": "Python 3",
   "language": "python",
   "name": "python3"
  },
  "language_info": {
   "codemirror_mode": {
    "name": "ipython",
    "version": 3
   },
   "file_extension": ".py",
   "mimetype": "text/x-python",
   "name": "python",
   "nbconvert_exporter": "python",
   "pygments_lexer": "ipython3",
   "version": "3.7.3"
  }
 },
 "nbformat": 4,
 "nbformat_minor": 2
}
