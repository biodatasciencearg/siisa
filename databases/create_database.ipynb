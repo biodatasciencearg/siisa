{
 "cells": [
  {
   "cell_type": "markdown",
   "metadata": {},
   "source": [
    "# Create database siisa\n",
    "Simplemente tengo las lineas y la descripción de como se creó la base de datos personal que luego voy a utilizar en mi pc. La base de datos se llama siisa y es una copia acotada de la tabla RulePolicyExecutionDumps de algunas políticas que a mi me interesen en particular."
   ]
  },
  {
   "cell_type": "code",
   "execution_count": 1,
   "metadata": {},
   "outputs": [],
   "source": [
    "import sqlite3\n",
    "\n",
    "conn = sqlite3.connect('siisa.db')  # You can create a new database by changing the name within the quotes\n",
    "c = conn.cursor() # The database will be saved in the location where your 'py' file is saved\n",
    "\n",
    "# Create table - CLIENTS\n",
    "c.execute('''CREATE TABLE RulePolicyExecutionDumps\n",
    "             ([generated_id] INTEGER PRIMARY KEY,[executionId] INTEGER, [varName] text, [varValue] text)''')\n",
    "\n",
    "conn.commit()\n",
    "\n",
    "# Note that the syntax to create new tables should only be used once in the code (unless you dropped the table/s at the end of the code). \n",
    "# The [generated_id] column is used to set an auto-increment ID for each record\n",
    "# When creating a new table, you can add both the field names as well as the field formats (e.g., Text)\n",
    "c.close()"
   ]
  },
  {
   "cell_type": "markdown",
   "metadata": {},
   "source": [
    "El próximo notebook  [load_database](files/C:\\Users\\elias\\analisis\\databases\\load_database.ipynb) es para actualizar la base de datos creada en la presente notebook."
   ]
  }
 ],
 "metadata": {
  "kernelspec": {
   "display_name": "Python 3",
   "language": "python",
   "name": "python3"
  },
  "language_info": {
   "codemirror_mode": {
    "name": "ipython",
    "version": 3
   },
   "file_extension": ".py",
   "mimetype": "text/x-python",
   "name": "python",
   "nbconvert_exporter": "python",
   "pygments_lexer": "ipython3",
   "version": "3.7.3"
  }
 },
 "nbformat": 4,
 "nbformat_minor": 2
}
