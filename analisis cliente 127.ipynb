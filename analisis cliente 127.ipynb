{
 "cells": [
  {
   "cell_type": "markdown",
   "metadata": {},
   "source": [
    "<img src=\"http://www.ceic.org.ar/spanish/img/siisa-logo.jpg\" align='right'>"
   ]
  },
  {
   "cell_type": "markdown",
   "metadata": {},
   "source": [
    "# Evaluacion sobre cliente 127 (cartasur)\n",
    "El cliente 131 responde al grafo y la politica evaluada es la numero 1 que tiene que ver con nuevos. Hago una analisis solo desde el 2018/07/22 hasta el 2019/05/22 porque son 10507 registros y sino el dump de sql explota."
   ]
  },
  {
   "cell_type": "code",
   "execution_count": 1,
   "metadata": {},
   "outputs": [],
   "source": [
    "import pandas as pd\n",
    "import numpy as np\n",
    "import seaborn as sns\n",
    "import matplotlib.pyplot as plt\n"
   ]
  },
  {
   "cell_type": "code",
   "execution_count": 2,
   "metadata": {},
   "outputs": [],
   "source": [
    "df = pd.read_csv(\"Client_127_Policy_1_20180122_20190522.cvs\", low_memory=False)"
   ]
  },
  {
   "cell_type": "code",
   "execution_count": 3,
   "metadata": {},
   "outputs": [
    {
     "data": {
      "text/plain": [
       "(19150, 211)"
      ]
     },
     "execution_count": 3,
     "metadata": {},
     "output_type": "execute_result"
    }
   ],
   "source": [
    "df.shape"
   ]
  },
  {
   "cell_type": "code",
   "execution_count": 4,
   "metadata": {},
   "outputs": [
    {
     "data": {
      "text/html": [
       "<div>\n",
       "<style scoped>\n",
       "    .dataframe tbody tr th:only-of-type {\n",
       "        vertical-align: middle;\n",
       "    }\n",
       "\n",
       "    .dataframe tbody tr th {\n",
       "        vertical-align: top;\n",
       "    }\n",
       "\n",
       "    .dataframe thead th {\n",
       "        text-align: right;\n",
       "    }\n",
       "</style>\n",
       "<table border=\"1\" class=\"dataframe\">\n",
       "  <thead>\n",
       "    <tr style=\"text-align: right;\">\n",
       "      <th></th>\n",
       "      <th>executionId</th>\n",
       "      <th>executionDate</th>\n",
       "      <th>executionDateTime</th>\n",
       "      <th>policyId</th>\n",
       "      <th>policyVersion</th>\n",
       "      <th>decisionResult</th>\n",
       "      <th>apellidoNombre</th>\n",
       "      <th>cartasur_actividadLaboral</th>\n",
       "      <th>cartasur_antLaboralGral</th>\n",
       "      <th>cartasur_canal</th>\n",
       "      <th>...</th>\n",
       "      <th>veraz_observacionesConqui60m</th>\n",
       "      <th>veraz_observacionesMontoCerrada1m</th>\n",
       "      <th>veraz_observacionesMontoCerrada24m</th>\n",
       "      <th>veraz_peorSituacionBureau4m</th>\n",
       "      <th>veraz_peorSituacionBureau5a12m</th>\n",
       "      <th>veraz_peorStatus12</th>\n",
       "      <th>veraz_peorStatusActual</th>\n",
       "      <th>veraz_poblacion</th>\n",
       "      <th>veraz_score</th>\n",
       "      <th>veraz_validado</th>\n",
       "    </tr>\n",
       "  </thead>\n",
       "  <tbody>\n",
       "    <tr>\n",
       "      <th>0</th>\n",
       "      <td>892257</td>\n",
       "      <td>22/05/2018</td>\n",
       "      <td>14:25</td>\n",
       "      <td>1</td>\n",
       "      <td>0</td>\n",
       "      <td>ERROR|error veraz</td>\n",
       "      <td>COLMAN JOSE DOMINGO</td>\n",
       "      <td></td>\n",
       "      <td>0.0</td>\n",
       "      <td></td>\n",
       "      <td>...</td>\n",
       "      <td>0.0</td>\n",
       "      <td>0.0</td>\n",
       "      <td>0.0</td>\n",
       "      <td>NaN</td>\n",
       "      <td>NaN</td>\n",
       "      <td>0.0</td>\n",
       "      <td>0.0</td>\n",
       "      <td>NaN</td>\n",
       "      <td>0.0</td>\n",
       "      <td>False</td>\n",
       "    </tr>\n",
       "    <tr>\n",
       "      <th>1</th>\n",
       "      <td>892258</td>\n",
       "      <td>22/05/2018</td>\n",
       "      <td>14:27</td>\n",
       "      <td>1</td>\n",
       "      <td>0</td>\n",
       "      <td>ERROR|error veraz</td>\n",
       "      <td>COLMAN JOSE DOMINGO</td>\n",
       "      <td></td>\n",
       "      <td>0.0</td>\n",
       "      <td></td>\n",
       "      <td>...</td>\n",
       "      <td>0.0</td>\n",
       "      <td>0.0</td>\n",
       "      <td>0.0</td>\n",
       "      <td>NaN</td>\n",
       "      <td>NaN</td>\n",
       "      <td>0.0</td>\n",
       "      <td>0.0</td>\n",
       "      <td>NaN</td>\n",
       "      <td>0.0</td>\n",
       "      <td>False</td>\n",
       "    </tr>\n",
       "    <tr>\n",
       "      <th>2</th>\n",
       "      <td>892259</td>\n",
       "      <td>22/05/2018</td>\n",
       "      <td>14:28</td>\n",
       "      <td>1</td>\n",
       "      <td>0</td>\n",
       "      <td>RECHAZA|No aprueba score SIISA (745) score VER...</td>\n",
       "      <td>COLMAN JOSE DOMINGO</td>\n",
       "      <td></td>\n",
       "      <td>0.0</td>\n",
       "      <td></td>\n",
       "      <td>...</td>\n",
       "      <td>0.0</td>\n",
       "      <td>0.0</td>\n",
       "      <td>0.0</td>\n",
       "      <td>NaN</td>\n",
       "      <td>NaN</td>\n",
       "      <td>1.0</td>\n",
       "      <td>1.0</td>\n",
       "      <td>ok</td>\n",
       "      <td>547.0</td>\n",
       "      <td>False</td>\n",
       "    </tr>\n",
       "    <tr>\n",
       "      <th>3</th>\n",
       "      <td>892323</td>\n",
       "      <td>22/05/2018</td>\n",
       "      <td>15:02</td>\n",
       "      <td>1</td>\n",
       "      <td>0</td>\n",
       "      <td>RECHAZA|No aprueba score SIISA (745) score VER...</td>\n",
       "      <td>COLMAN JOSE DOMINGO</td>\n",
       "      <td></td>\n",
       "      <td>0.0</td>\n",
       "      <td></td>\n",
       "      <td>...</td>\n",
       "      <td>0.0</td>\n",
       "      <td>0.0</td>\n",
       "      <td>0.0</td>\n",
       "      <td>NaN</td>\n",
       "      <td>NaN</td>\n",
       "      <td>1.0</td>\n",
       "      <td>1.0</td>\n",
       "      <td>ok</td>\n",
       "      <td>547.0</td>\n",
       "      <td>False</td>\n",
       "    </tr>\n",
       "    <tr>\n",
       "      <th>4</th>\n",
       "      <td>892388</td>\n",
       "      <td>22/05/2018</td>\n",
       "      <td>15:41</td>\n",
       "      <td>1</td>\n",
       "      <td>0</td>\n",
       "      <td>RECHAZA|No aprueba score SIISA (745) score VER...</td>\n",
       "      <td>COLMAN JOSE DOMINGO</td>\n",
       "      <td></td>\n",
       "      <td>0.0</td>\n",
       "      <td></td>\n",
       "      <td>...</td>\n",
       "      <td>0.0</td>\n",
       "      <td>0.0</td>\n",
       "      <td>0.0</td>\n",
       "      <td>NaN</td>\n",
       "      <td>NaN</td>\n",
       "      <td>1.0</td>\n",
       "      <td>1.0</td>\n",
       "      <td>ok</td>\n",
       "      <td>547.0</td>\n",
       "      <td>False</td>\n",
       "    </tr>\n",
       "  </tbody>\n",
       "</table>\n",
       "<p>5 rows × 211 columns</p>\n",
       "</div>"
      ],
      "text/plain": [
       "   executionId executionDate executionDateTime  policyId  policyVersion  \\\n",
       "0       892257    22/05/2018             14:25         1              0   \n",
       "1       892258    22/05/2018             14:27         1              0   \n",
       "2       892259    22/05/2018             14:28         1              0   \n",
       "3       892323    22/05/2018             15:02         1              0   \n",
       "4       892388    22/05/2018             15:41         1              0   \n",
       "\n",
       "                                      decisionResult       apellidoNombre  \\\n",
       "0                                  ERROR|error veraz  COLMAN JOSE DOMINGO   \n",
       "1                                  ERROR|error veraz  COLMAN JOSE DOMINGO   \n",
       "2  RECHAZA|No aprueba score SIISA (745) score VER...  COLMAN JOSE DOMINGO   \n",
       "3  RECHAZA|No aprueba score SIISA (745) score VER...  COLMAN JOSE DOMINGO   \n",
       "4  RECHAZA|No aprueba score SIISA (745) score VER...  COLMAN JOSE DOMINGO   \n",
       "\n",
       "  cartasur_actividadLaboral  cartasur_antLaboralGral cartasur_canal  ...  \\\n",
       "0                                                0.0                 ...   \n",
       "1                                                0.0                 ...   \n",
       "2                                                0.0                 ...   \n",
       "3                                                0.0                 ...   \n",
       "4                                                0.0                 ...   \n",
       "\n",
       "  veraz_observacionesConqui60m  veraz_observacionesMontoCerrada1m  \\\n",
       "0                          0.0                                0.0   \n",
       "1                          0.0                                0.0   \n",
       "2                          0.0                                0.0   \n",
       "3                          0.0                                0.0   \n",
       "4                          0.0                                0.0   \n",
       "\n",
       "   veraz_observacionesMontoCerrada24m  veraz_peorSituacionBureau4m  \\\n",
       "0                                 0.0                          NaN   \n",
       "1                                 0.0                          NaN   \n",
       "2                                 0.0                          NaN   \n",
       "3                                 0.0                          NaN   \n",
       "4                                 0.0                          NaN   \n",
       "\n",
       "  veraz_peorSituacionBureau5a12m veraz_peorStatus12 veraz_peorStatusActual  \\\n",
       "0                            NaN                0.0                    0.0   \n",
       "1                            NaN                0.0                    0.0   \n",
       "2                            NaN                1.0                    1.0   \n",
       "3                            NaN                1.0                    1.0   \n",
       "4                            NaN                1.0                    1.0   \n",
       "\n",
       "   veraz_poblacion  veraz_score veraz_validado  \n",
       "0              NaN          0.0          False  \n",
       "1              NaN          0.0          False  \n",
       "2               ok        547.0          False  \n",
       "3               ok        547.0          False  \n",
       "4               ok        547.0          False  \n",
       "\n",
       "[5 rows x 211 columns]"
      ]
     },
     "execution_count": 4,
     "metadata": {},
     "output_type": "execute_result"
    }
   ],
   "source": [
    "df.head()"
   ]
  },
  {
   "cell_type": "code",
   "execution_count": 5,
   "metadata": {},
   "outputs": [
    {
     "data": {
      "text/plain": [
       "array([1], dtype=int64)"
      ]
     },
     "execution_count": 5,
     "metadata": {},
     "output_type": "execute_result"
    }
   ],
   "source": [
    "# tienen toda la misma politica??\n",
    "df.policyId.unique()"
   ]
  },
  {
   "cell_type": "code",
   "execution_count": 6,
   "metadata": {},
   "outputs": [],
   "source": [
    "# creo una columna que solo me diga si rechazo o califica.\n",
    "df['decision_filtered'] = df.decisionResult.str.split(\"|\", n = 1, expand = True)[0]"
   ]
  },
  {
   "cell_type": "code",
   "execution_count": 7,
   "metadata": {},
   "outputs": [
    {
     "data": {
      "text/plain": [
       "RECHAZA         9161\n",
       "OK              8491\n",
       "ERROR            800\n",
       "ESCALAMIENTO     697\n",
       "Name: decision_filtered, dtype: int64"
      ]
     },
     "execution_count": 7,
     "metadata": {},
     "output_type": "execute_result"
    },
    {
     "data": {
      "image/png": "[encoded data removed]",
      "text/plain": [
       "<Figure size 432x288 with 1 Axes>"
      ]
     },
     "metadata": {},
     "output_type": "display_data"
    }
   ],
   "source": [
    "# Simplemente grafico la cantidad que pasa por califica o rechazo.\n",
    "sns.set(style=\"whitegrid\")\n",
    "ax =sns.barplot(df.decision_filtered.value_counts().index, df.decision_filtered.value_counts().values/len(df.decision_filtered))\n",
    "df.decision_filtered.value_counts()"
   ]
  },
  {
   "cell_type": "code",
   "execution_count": 8,
   "metadata": {},
   "outputs": [],
   "source": [
    "# Genero una nueva columna que tiene que ver con si uso o no veraz por mas que este en dos puntos del arbol.\n",
    "df['uso_veraz'] = pd.Series(np.repeat('NoUso', len(df.veraz_score)))"
   ]
  },
  {
   "cell_type": "code",
   "execution_count": 9,
   "metadata": {},
   "outputs": [],
   "source": [
    "# Seteo las ocasiones en las que uso veraz.\n",
    "df.loc[~df.veraz_score.isna(), 'uso_veraz'] = 'Uso'"
   ]
  },
  {
   "cell_type": "code",
   "execution_count": 10,
   "metadata": {},
   "outputs": [
    {
     "data": {
      "text/plain": [
       "NoUso    12137\n",
       "Uso       7013\n",
       "Name: uso_veraz, dtype: int64"
      ]
     },
     "execution_count": 10,
     "metadata": {},
     "output_type": "execute_result"
    }
   ],
   "source": [
    "# cuento la cantidad de veces que uso.\n",
    "df.uso_veraz.value_counts()"
   ]
  },
  {
   "cell_type": "code",
   "execution_count": 11,
   "metadata": {},
   "outputs": [
    {
     "data": {
      "text/html": [
       "<div>\n",
       "<style scoped>\n",
       "    .dataframe tbody tr th:only-of-type {\n",
       "        vertical-align: middle;\n",
       "    }\n",
       "\n",
       "    .dataframe tbody tr th {\n",
       "        vertical-align: top;\n",
       "    }\n",
       "\n",
       "    .dataframe thead th {\n",
       "        text-align: right;\n",
       "    }\n",
       "</style>\n",
       "<table border=\"1\" class=\"dataframe\">\n",
       "  <thead>\n",
       "    <tr style=\"text-align: right;\">\n",
       "      <th>decision_filtered</th>\n",
       "      <th>ERROR</th>\n",
       "      <th>ESCALAMIENTO</th>\n",
       "      <th>OK</th>\n",
       "      <th>RECHAZA</th>\n",
       "      <th>All</th>\n",
       "    </tr>\n",
       "    <tr>\n",
       "      <th>uso_veraz</th>\n",
       "      <th></th>\n",
       "      <th></th>\n",
       "      <th></th>\n",
       "      <th></th>\n",
       "      <th></th>\n",
       "    </tr>\n",
       "  </thead>\n",
       "  <tbody>\n",
       "    <tr>\n",
       "      <th>NoUso</th>\n",
       "      <td>726</td>\n",
       "      <td>403</td>\n",
       "      <td>5195</td>\n",
       "      <td>5812</td>\n",
       "      <td>12136</td>\n",
       "    </tr>\n",
       "    <tr>\n",
       "      <th>Uso</th>\n",
       "      <td>74</td>\n",
       "      <td>294</td>\n",
       "      <td>3296</td>\n",
       "      <td>3349</td>\n",
       "      <td>7013</td>\n",
       "    </tr>\n",
       "    <tr>\n",
       "      <th>All</th>\n",
       "      <td>800</td>\n",
       "      <td>697</td>\n",
       "      <td>8491</td>\n",
       "      <td>9161</td>\n",
       "      <td>19149</td>\n",
       "    </tr>\n",
       "  </tbody>\n",
       "</table>\n",
       "</div>"
      ],
      "text/plain": [
       "decision_filtered  ERROR  ESCALAMIENTO    OK  RECHAZA    All\n",
       "uso_veraz                                                   \n",
       "NoUso                726           403  5195     5812  12136\n",
       "Uso                   74           294  3296     3349   7013\n",
       "All                  800           697  8491     9161  19149"
      ]
     },
     "execution_count": 11,
     "metadata": {},
     "output_type": "execute_result"
    }
   ],
   "source": [
    "# Tabla de contingencia class(califica/rechaza) / veraz (uso/noUsa) \n",
    "pd.crosstab(index=df.uso_veraz,\n",
    "            columns=df.decision_filtered, margins=True)"
   ]
  },
  {
   "cell_type": "code",
   "execution_count": 12,
   "metadata": {},
   "outputs": [],
   "source": [
    "# No me interesa las instancias donde tengo ERROR o ESCALAMIENTO\n",
    "df = df.drop(df[df.decision_filtered=='ERROR'].index)\n",
    "df = df.drop(df[df.decision_filtered=='ESCALAMIENTO'].index)"
   ]
  },
  {
   "cell_type": "code",
   "execution_count": 13,
   "metadata": {},
   "outputs": [
    {
     "data": {
      "text/html": [
       "<div>\n",
       "<style scoped>\n",
       "    .dataframe tbody tr th:only-of-type {\n",
       "        vertical-align: middle;\n",
       "    }\n",
       "\n",
       "    .dataframe tbody tr th {\n",
       "        vertical-align: top;\n",
       "    }\n",
       "\n",
       "    .dataframe thead th {\n",
       "        text-align: right;\n",
       "    }\n",
       "</style>\n",
       "<table border=\"1\" class=\"dataframe\">\n",
       "  <thead>\n",
       "    <tr style=\"text-align: right;\">\n",
       "      <th>decision_filtered</th>\n",
       "      <th>OK</th>\n",
       "      <th>RECHAZA</th>\n",
       "      <th>All</th>\n",
       "    </tr>\n",
       "    <tr>\n",
       "      <th>uso_veraz</th>\n",
       "      <th></th>\n",
       "      <th></th>\n",
       "      <th></th>\n",
       "    </tr>\n",
       "  </thead>\n",
       "  <tbody>\n",
       "    <tr>\n",
       "      <th>NoUso</th>\n",
       "      <td>5195</td>\n",
       "      <td>5812</td>\n",
       "      <td>11007</td>\n",
       "    </tr>\n",
       "    <tr>\n",
       "      <th>Uso</th>\n",
       "      <td>3296</td>\n",
       "      <td>3349</td>\n",
       "      <td>6645</td>\n",
       "    </tr>\n",
       "    <tr>\n",
       "      <th>All</th>\n",
       "      <td>8491</td>\n",
       "      <td>9161</td>\n",
       "      <td>17652</td>\n",
       "    </tr>\n",
       "  </tbody>\n",
       "</table>\n",
       "</div>"
      ],
      "text/plain": [
       "decision_filtered    OK  RECHAZA    All\n",
       "uso_veraz                              \n",
       "NoUso              5195     5812  11007\n",
       "Uso                3296     3349   6645\n",
       "All                8491     9161  17652"
      ]
     },
     "execution_count": 13,
     "metadata": {},
     "output_type": "execute_result"
    }
   ],
   "source": [
    "# Tabla de contingencia class(califica/rechaza) / veraz (uso/noUsa) \n",
    "pd.crosstab(index=df.uso_veraz,\n",
    "            columns=df.decision_filtered, margins=True)"
   ]
  },
  {
   "cell_type": "code",
   "execution_count": 14,
   "metadata": {},
   "outputs": [],
   "source": [
    "# Estrategia ahora es ver la correlacion de variables utilizadas por siisa y por veraz de modo tal de ver si alguna explica la\n",
    "# otra.\n",
    "df_con_veraz = df[df.uso_veraz=='Uso']\n",
    "df_variables_select = df_con_veraz.filter(regex=r'(siisa*|veraz*)')\n"
   ]
  },
  {
   "cell_type": "code",
   "execution_count": 15,
   "metadata": {},
   "outputs": [
    {
     "data": {
      "text/plain": [
       "(6645, 117)"
      ]
     },
     "execution_count": 15,
     "metadata": {},
     "output_type": "execute_result"
    }
   ],
   "source": [
    "df_variables_select.shape"
   ]
  },
  {
   "cell_type": "code",
   "execution_count": 16,
   "metadata": {},
   "outputs": [
    {
     "name": "stderr",
     "output_type": "stream",
     "text": [
      "C:\\Users\\elias\\Programs\\anaconda3\\envs\\siisa\\lib\\site-packages\\pandas\\core\\frame.py:3940: SettingWithCopyWarning: \n",
      "A value is trying to be set on a copy of a slice from a DataFrame\n",
      "\n",
      "See the caveats in the documentation: http://pandas.pydata.org/pandas-docs/stable/indexing.html#indexing-view-versus-copy\n",
      "  errors=errors)\n"
     ]
    }
   ],
   "source": [
    "df_variables_select.drop(df_variables_select.select_dtypes(['object','bool']), inplace=True, axis=1)"
   ]
  },
  {
   "cell_type": "code",
   "execution_count": 17,
   "metadata": {},
   "outputs": [
    {
     "data": {
      "text/plain": [
       "siisa_bacCompromiso                      0\n",
       "siisa_cant1s                             0\n",
       "siisa_cant2s                             0\n",
       "siisa_cant3s                             0\n",
       "siisa_cant4s                             0\n",
       "siisa_cant5s                             0\n",
       "siisa_cant6s                             0\n",
       "siisa_cantCheques                        0\n",
       "siisa_cantMoras                          0\n",
       "siisa_cantMorasBCRA                      0\n",
       "siisa_consultasAno                       0\n",
       "siisa_consultasDia                       0\n",
       "siisa_consultasDosAno                    0\n",
       "siisa_consultasMes                       0\n",
       "siisa_consultasSeisMeses                 0\n",
       "siisa_consultasSemana                    0\n",
       "siisa_consultasTresMeses                 0\n",
       "siisa_cuil                               0\n",
       "siisa_Dup1                            6645\n",
       "siisa_Dup2                            6645\n",
       "siisa_Dup3                            6645\n",
       "siisa_Dup4                            6645\n",
       "siisa_DupCuil1                           0\n",
       "siisa_DupCuil2                           0\n",
       "siisa_DupCuil3                           0\n",
       "siisa_DupCuil4                           0\n",
       "siisa_maxBCRA                            0\n",
       "siisa_maxBCRA12m                         0\n",
       "siisa_maxBCRA24m                         0\n",
       "siisa_maxBCRA6m                          0\n",
       "                                      ... \n",
       "veraz_cantJuicios12                      0\n",
       "veraz_cantMoraAbierta24                  0\n",
       "veraz_consumoConsFin12m                  0\n",
       "veraz_consumoConsFin1m                   0\n",
       "veraz_consumoConsNoFin1m                 0\n",
       "veraz_consumoPreActivos                  0\n",
       "veraz_consumoPreCompromiso               0\n",
       "veraz_consumoPreMora                     0\n",
       "veraz_consumoPreSaldo                    0\n",
       "veraz_consumoPreTotal                    0\n",
       "veraz_consumoPreVencidos                 0\n",
       "veraz_consumoTarActivas                  0\n",
       "veraz_consumoTarActivasMora              0\n",
       "veraz_consumoTarCuotas                   0\n",
       "veraz_consumoTarMaxAntig                 0\n",
       "veraz_consumoTarMaxAntigAct              0\n",
       "veraz_consumoTarSumLimite                0\n",
       "veraz_consumoTarSumMinimo                0\n",
       "veraz_consumoTarSumSaldo                 0\n",
       "veraz_cuit                               0\n",
       "veraz_observaciones12m                   0\n",
       "veraz_observaciones24m                   0\n",
       "veraz_observacionesConqui60m             0\n",
       "veraz_observacionesMontoCerrada1m        0\n",
       "veraz_observacionesMontoCerrada24m       0\n",
       "veraz_peorSituacionBureau4m           6645\n",
       "veraz_peorSituacionBureau5a12m        6645\n",
       "veraz_peorStatus12                       0\n",
       "veraz_peorStatusActual                   0\n",
       "veraz_score                              0\n",
       "Length: 77, dtype: int64"
      ]
     },
     "execution_count": 17,
     "metadata": {},
     "output_type": "execute_result"
    }
   ],
   "source": [
    "# veo cuales variables tienen Nan.\n",
    "df_variables_select.isna().sum()"
   ]
  },
  {
   "cell_type": "code",
   "execution_count": 18,
   "metadata": {},
   "outputs": [],
   "source": [
    "# me saco de encima las columnas que tienen toda la columna como Nan y ademas los scores que deberian correlacionar.\n",
    "df_variables_select.drop(['siisa_Dup1','siisa_Dup2','siisa_Dup3','siisa_Dup4', 'veraz_peorSituacionBureau4m', 'veraz_peorSituacionBureau5a12m', 'siisa_cuil', 'veraz_cuit', 'veraz_score', 'siisa_score' ], axis=1, inplace=True)"
   ]
  },
  {
   "cell_type": "code",
   "execution_count": 19,
   "metadata": {},
   "outputs": [
    {
     "data": {
      "text/plain": [
       "siisa_bacCompromiso                   0\n",
       "siisa_cant1s                          0\n",
       "siisa_cant2s                          0\n",
       "siisa_cant3s                          0\n",
       "siisa_cant4s                          0\n",
       "siisa_cant5s                          0\n",
       "siisa_cant6s                          0\n",
       "siisa_cantCheques                     0\n",
       "siisa_cantMoras                       0\n",
       "siisa_cantMorasBCRA                   0\n",
       "siisa_consultasAno                    0\n",
       "siisa_consultasDia                    0\n",
       "siisa_consultasDosAno                 0\n",
       "siisa_consultasMes                    0\n",
       "siisa_consultasSeisMeses              0\n",
       "siisa_consultasSemana                 0\n",
       "siisa_consultasTresMeses              0\n",
       "siisa_DupCuil1                        0\n",
       "siisa_DupCuil2                        0\n",
       "siisa_DupCuil3                        0\n",
       "siisa_DupCuil4                        0\n",
       "siisa_maxBCRA                         0\n",
       "siisa_maxBCRA12m                      0\n",
       "siisa_maxBCRA24m                      0\n",
       "siisa_maxBCRA6m                       0\n",
       "siisa_monto1s                         0\n",
       "siisa_monto2s                         0\n",
       "siisa_monto3s                         0\n",
       "siisa_monto4s                         0\n",
       "siisa_monto5s                         0\n",
       "                                     ..\n",
       "siisa_sesCat                          0\n",
       "siisa_sesModelo                       0\n",
       "veraz_cantCheq12                      0\n",
       "veraz_cantConcursos60                 0\n",
       "veraz_cantJuicios12                   0\n",
       "veraz_cantMoraAbierta24               0\n",
       "veraz_consumoConsFin12m               0\n",
       "veraz_consumoConsFin1m                0\n",
       "veraz_consumoConsNoFin1m              0\n",
       "veraz_consumoPreActivos               0\n",
       "veraz_consumoPreCompromiso            0\n",
       "veraz_consumoPreMora                  0\n",
       "veraz_consumoPreSaldo                 0\n",
       "veraz_consumoPreTotal                 0\n",
       "veraz_consumoPreVencidos              0\n",
       "veraz_consumoTarActivas               0\n",
       "veraz_consumoTarActivasMora           0\n",
       "veraz_consumoTarCuotas                0\n",
       "veraz_consumoTarMaxAntig              0\n",
       "veraz_consumoTarMaxAntigAct           0\n",
       "veraz_consumoTarSumLimite             0\n",
       "veraz_consumoTarSumMinimo             0\n",
       "veraz_consumoTarSumSaldo              0\n",
       "veraz_observaciones12m                0\n",
       "veraz_observaciones24m                0\n",
       "veraz_observacionesConqui60m          0\n",
       "veraz_observacionesMontoCerrada1m     0\n",
       "veraz_observacionesMontoCerrada24m    0\n",
       "veraz_peorStatus12                    0\n",
       "veraz_peorStatusActual                0\n",
       "Length: 67, dtype: int64"
      ]
     },
     "execution_count": 19,
     "metadata": {},
     "output_type": "execute_result"
    }
   ],
   "source": [
    "df_variables_select.isna().sum()"
   ]
  },
  {
   "cell_type": "code",
   "execution_count": 20,
   "metadata": {},
   "outputs": [],
   "source": [
    "df_variables_select=df_variables_select.dropna()"
   ]
  },
  {
   "cell_type": "code",
   "execution_count": 21,
   "metadata": {},
   "outputs": [
    {
     "name": "stdout",
     "output_type": "stream",
     "text": [
      "siisa_bacCompromiso float64\n",
      "siisa_cant1s float64\n",
      "siisa_cant2s float64\n",
      "siisa_cant3s float64\n",
      "siisa_cant4s float64\n",
      "siisa_cant5s float64\n",
      "siisa_cant6s float64\n",
      "siisa_cantCheques float64\n",
      "siisa_cantMoras float64\n",
      "siisa_cantMorasBCRA float64\n",
      "siisa_consultasAno float64\n",
      "siisa_consultasDia float64\n",
      "siisa_consultasDosAno float64\n",
      "siisa_consultasMes float64\n",
      "siisa_consultasSeisMeses float64\n",
      "siisa_consultasSemana float64\n",
      "siisa_consultasTresMeses float64\n",
      "siisa_DupCuil1 float64\n",
      "siisa_DupCuil2 float64\n",
      "siisa_DupCuil3 float64\n",
      "siisa_DupCuil4 float64\n",
      "siisa_maxBCRA float64\n",
      "siisa_maxBCRA12m float64\n",
      "siisa_maxBCRA24m float64\n",
      "siisa_maxBCRA6m float64\n",
      "siisa_monto1s float64\n",
      "siisa_monto2s float64\n",
      "siisa_monto3s float64\n",
      "siisa_monto4s float64\n",
      "siisa_monto5s float64\n",
      "siisa_monto6s float64\n",
      "siisa_montoMorasBCRA float64\n",
      "siisa_nroDoc float64\n",
      "siisa_operaYcumple float64\n",
      "siisa_relDepCuit float64\n",
      "siisa_relDepMeses float64\n",
      "siisa_relDepTel float64\n",
      "siisa_sesCat float64\n",
      "siisa_sesModelo float64\n",
      "veraz_cantCheq12 float64\n",
      "veraz_cantConcursos60 float64\n",
      "veraz_cantJuicios12 float64\n",
      "veraz_cantMoraAbierta24 float64\n",
      "veraz_consumoConsFin12m float64\n",
      "veraz_consumoConsFin1m float64\n",
      "veraz_consumoConsNoFin1m float64\n",
      "veraz_consumoPreActivos float64\n",
      "veraz_consumoPreCompromiso float64\n",
      "veraz_consumoPreMora float64\n",
      "veraz_consumoPreSaldo float64\n",
      "veraz_consumoPreTotal float64\n",
      "veraz_consumoPreVencidos float64\n",
      "veraz_consumoTarActivas float64\n",
      "veraz_consumoTarActivasMora float64\n",
      "veraz_consumoTarCuotas float64\n",
      "veraz_consumoTarMaxAntig float64\n",
      "veraz_consumoTarMaxAntigAct float64\n",
      "veraz_consumoTarSumLimite float64\n",
      "veraz_consumoTarSumMinimo float64\n",
      "veraz_consumoTarSumSaldo float64\n",
      "veraz_observaciones12m float64\n",
      "veraz_observaciones24m float64\n",
      "veraz_observacionesConqui60m float64\n",
      "veraz_observacionesMontoCerrada1m float64\n",
      "veraz_observacionesMontoCerrada24m float64\n",
      "veraz_peorStatus12 float64\n",
      "veraz_peorStatusActual float64\n"
     ]
    }
   ],
   "source": [
    "def print_types(df):\n",
    "    for x in df.columns:\n",
    "        print(x,df[x].dtype)\n",
    "print_types(df_variables_select)"
   ]
  },
  {
   "cell_type": "code",
   "execution_count": 22,
   "metadata": {},
   "outputs": [],
   "source": [
    "corr=df_variables_select.corr()"
   ]
  },
  {
   "cell_type": "code",
   "execution_count": 23,
   "metadata": {},
   "outputs": [
    {
     "name": "stdout",
     "output_type": "stream",
     "text": [
      "Top Absolute Correlations\n"
     ]
    }
   ],
   "source": [
    "def get_redundant_pairs(df):\n",
    "    '''Get diagonal and lower triangular pairs of correlation matrix'''\n",
    "    pairs_to_drop = set()\n",
    "    cols = df.columns\n",
    "    for i in range(0, df.shape[1]):\n",
    "        for j in range(0, i+1):\n",
    "            pairs_to_drop.add((cols[i], cols[j]))\n",
    "    return pairs_to_drop\n",
    "\n",
    "def get_top_abs_correlations(df, n=5):\n",
    "    au_corr = df.corr().abs().unstack()\n",
    "    labels_to_drop = get_redundant_pairs(df)\n",
    "    au_corr = au_corr.drop(labels=labels_to_drop).sort_values(ascending=False)\n",
    "    return au_corr[0:n]\n",
    "\n",
    "print(\"Top Absolute Correlations\")\n",
    "a=get_top_abs_correlations(df_variables_select, 10000)\n",
    "a=a.dropna()\n",
    "a_filter=a[a.values > 0.5]\n",
    "a_filter.to_csv('corr.csv', header=True)"
   ]
  },
  {
   "cell_type": "code",
   "execution_count": 24,
   "metadata": {},
   "outputs": [
    {
     "data": {
      "text/plain": [
       "siisa_consultasAno        siisa_consultasDosAno       0.905728\n",
       "siisa_maxBCRA             siisa_maxBCRA6m             0.881011\n",
       "siisa_monto2s             siisa_montoMorasBCRA        0.833927\n",
       "siisa_consultasAno        siisa_consultasSeisMeses    0.828589\n",
       "siisa_consultasMes        siisa_consultasSemana       0.797469\n",
       "siisa_consultasSeisMeses  siisa_consultasTresMeses    0.794226\n",
       "siisa_cant2s              siisa_cantMorasBCRA         0.774599\n",
       "siisa_consultasMes        siisa_consultasTresMeses    0.771211\n",
       "siisa_cantMorasBCRA       siisa_maxBCRA               0.745862\n",
       "siisa_consultasAno        siisa_consultasTresMeses    0.737339\n",
       "siisa_maxBCRA12m          veraz_peorStatus12          0.732740\n",
       "siisa_consultasDosAno     siisa_consultasSeisMeses    0.731257\n",
       "veraz_peorStatus12        veraz_peorStatusActual      0.715425\n",
       "siisa_consultasDia        siisa_consultasSemana       0.667363\n",
       "siisa_maxBCRA             veraz_peorStatusActual      0.660948\n",
       "siisa_consultasDosAno     siisa_consultasTresMeses    0.656826\n",
       "siisa_cantMorasBCRA       siisa_maxBCRA6m             0.650031\n",
       "siisa_maxBCRA6m           veraz_peorStatusActual      0.648621\n",
       "siisa_maxBCRA12m          siisa_maxBCRA6m             0.636718\n",
       "siisa_cant5s              siisa_maxBCRA               0.623881\n",
       "siisa_consultasMes        siisa_consultasSeisMeses    0.609188\n",
       "siisa_cant1s              siisa_monto1s               0.608579\n",
       "siisa_consultasSemana     siisa_consultasTresMeses    0.607044\n",
       "siisa_maxBCRA12m          siisa_maxBCRA24m            0.590592\n",
       "siisa_cant5s              siisa_monto5s               0.582437\n",
       "siisa_cant2s              siisa_monto2s               0.560299\n",
       "siisa_cant5s              siisa_maxBCRA6m             0.555539\n",
       "siisa_cant4s              siisa_monto4s               0.555374\n",
       "siisa_maxBCRA             siisa_maxBCRA12m            0.552415\n",
       "siisa_cantMorasBCRA       veraz_peorStatusActual      0.551230\n",
       "siisa_cant3s              siisa_monto3s               0.546735\n",
       "siisa_consultasAno        siisa_consultasMes          0.542799\n",
       "siisa_maxBCRA6m           veraz_peorStatus12          0.528642\n",
       "siisa_consultasDia        siisa_consultasMes          0.527869\n",
       "siisa_cantMorasBCRA       siisa_montoMorasBCRA        0.523325\n",
       "dtype: float64"
      ]
     },
     "execution_count": 24,
     "metadata": {},
     "output_type": "execute_result"
    }
   ],
   "source": [
    "a_filter"
   ]
  }
 ],
 "metadata": {
  "kernelspec": {
   "display_name": "Python 3",
   "language": "python",
   "name": "python3"
  },
  "language_info": {
   "codemirror_mode": {
    "name": "ipython",
    "version": 3
   },
   "file_extension": ".py",
   "mimetype": "text/x-python",
   "name": "python",
   "nbconvert_exporter": "python",
   "pygments_lexer": "ipython3",
   "version": "3.7.3"
  }
 },
 "nbformat": 4,
 "nbformat_minor": 2
}
