{
 "cells": [
  {
   "cell_type": "markdown",
   "metadata": {},
   "source": [
    "<img src=\"http://www.ceic.org.ar/spanish/img/siisa-logo.jpg\" align='right'>"
   ]
  },
  {
   "cell_type": "markdown",
   "metadata": {},
   "source": [
    "# Evaluacion sobre cliente 127 (cartasur)\n",
    "El cliente 131 responde al grafo y la politica evaluada es la numero 1 que tiene que ver con nuevos. Hago una analisis solo desde el 2018/07/22 hasta el 2019/05/22 porque son 10507 registros y sino el dump de sql explota."
   ]
  },
  {
   "cell_type": "code",
   "execution_count": 1,
   "metadata": {},
   "outputs": [],
   "source": [
    "import pandas as pd\n",
    "import numpy as np\n",
    "import seaborn as sns\n",
    "import matplotlib.pyplot as plt\n"
   ]
  },
  {
   "cell_type": "code",
   "execution_count": 2,
   "metadata": {},
   "outputs": [],
   "source": [
    "df = pd.read_csv(\"Client_127_Policy_1_20180722_20190522.cvs\", low_memory=False)"
   ]
  },
  {
   "cell_type": "code",
   "execution_count": 3,
   "metadata": {},
   "outputs": [
    {
     "data": {
      "text/plain": [
       "(10507, 210)"
      ]
     },
     "execution_count": 3,
     "metadata": {},
     "output_type": "execute_result"
    }
   ],
   "source": [
    "df.shape"
   ]
  },
  {
   "cell_type": "code",
   "execution_count": 4,
   "metadata": {},
   "outputs": [
    {
     "data": {
      "text/html": [
       "<div>\n",
       "<style scoped>\n",
       "    .dataframe tbody tr th:only-of-type {\n",
       "        vertical-align: middle;\n",
       "    }\n",
       "\n",
       "    .dataframe tbody tr th {\n",
       "        vertical-align: top;\n",
       "    }\n",
       "\n",
       "    .dataframe thead th {\n",
       "        text-align: right;\n",
       "    }\n",
       "</style>\n",
       "<table border=\"1\" class=\"dataframe\">\n",
       "  <thead>\n",
       "    <tr style=\"text-align: right;\">\n",
       "      <th></th>\n",
       "      <th>executionId</th>\n",
       "      <th>executionDate</th>\n",
       "      <th>executionDateTime</th>\n",
       "      <th>policyId</th>\n",
       "      <th>policyVersion</th>\n",
       "      <th>decisionResult</th>\n",
       "      <th>apellidoNombre</th>\n",
       "      <th>cartasur_actividadLaboral</th>\n",
       "      <th>cartasur_antLaboralGral</th>\n",
       "      <th>cartasur_canal</th>\n",
       "      <th>...</th>\n",
       "      <th>veraz_observacionesConqui60m</th>\n",
       "      <th>veraz_observacionesMontoCerrada1m</th>\n",
       "      <th>veraz_observacionesMontoCerrada24m</th>\n",
       "      <th>veraz_peorSituacionBureau4m</th>\n",
       "      <th>veraz_peorSituacionBureau5a12m</th>\n",
       "      <th>veraz_peorStatus12</th>\n",
       "      <th>veraz_peorStatusActual</th>\n",
       "      <th>veraz_poblacion</th>\n",
       "      <th>veraz_score</th>\n",
       "      <th>veraz_validado</th>\n",
       "    </tr>\n",
       "  </thead>\n",
       "  <tbody>\n",
       "    <tr>\n",
       "      <th>0</th>\n",
       "      <td>991686</td>\n",
       "      <td>23/07/2018</td>\n",
       "      <td>09:36</td>\n",
       "      <td>1</td>\n",
       "      <td>58</td>\n",
       "      <td>OK|7000|Codigo rol:26955590</td>\n",
       "      <td>HERRERA   MARIEL EMPERATI</td>\n",
       "      <td>Empleada Domestica</td>\n",
       "      <td>1844.0</td>\n",
       "      <td>0</td>\n",
       "      <td>...</td>\n",
       "      <td>NaN</td>\n",
       "      <td>NaN</td>\n",
       "      <td>NaN</td>\n",
       "      <td>NaN</td>\n",
       "      <td>NaN</td>\n",
       "      <td>NaN</td>\n",
       "      <td>NaN</td>\n",
       "      <td>NaN</td>\n",
       "      <td>NaN</td>\n",
       "      <td>NaN</td>\n",
       "    </tr>\n",
       "    <tr>\n",
       "      <th>1</th>\n",
       "      <td>991688</td>\n",
       "      <td>23/07/2018</td>\n",
       "      <td>09:36</td>\n",
       "      <td>1</td>\n",
       "      <td>58</td>\n",
       "      <td>OK|6500|Codigo rol:26805606</td>\n",
       "      <td>BAREIRO  MAXIMO RAMON</td>\n",
       "      <td>Monotribustista</td>\n",
       "      <td>35998.0</td>\n",
       "      <td>0</td>\n",
       "      <td>...</td>\n",
       "      <td>NaN</td>\n",
       "      <td>NaN</td>\n",
       "      <td>NaN</td>\n",
       "      <td>NaN</td>\n",
       "      <td>NaN</td>\n",
       "      <td>NaN</td>\n",
       "      <td>NaN</td>\n",
       "      <td>NaN</td>\n",
       "      <td>NaN</td>\n",
       "      <td>NaN</td>\n",
       "    </tr>\n",
       "    <tr>\n",
       "      <th>2</th>\n",
       "      <td>991690</td>\n",
       "      <td>23/07/2018</td>\n",
       "      <td>09:37</td>\n",
       "      <td>1</td>\n",
       "      <td>58</td>\n",
       "      <td>OK|8500|Codigo rol:26805606</td>\n",
       "      <td>BAREIRO  MAXIMO RAMON</td>\n",
       "      <td>Tarjeta en otra Entidad</td>\n",
       "      <td>35998.0</td>\n",
       "      <td>0</td>\n",
       "      <td>...</td>\n",
       "      <td>NaN</td>\n",
       "      <td>NaN</td>\n",
       "      <td>NaN</td>\n",
       "      <td>NaN</td>\n",
       "      <td>NaN</td>\n",
       "      <td>NaN</td>\n",
       "      <td>NaN</td>\n",
       "      <td>NaN</td>\n",
       "      <td>NaN</td>\n",
       "      <td>NaN</td>\n",
       "    </tr>\n",
       "    <tr>\n",
       "      <th>3</th>\n",
       "      <td>991695</td>\n",
       "      <td>23/07/2018</td>\n",
       "      <td>09:37</td>\n",
       "      <td>1</td>\n",
       "      <td>58</td>\n",
       "      <td>OK|13000|Codigo rol:26955644</td>\n",
       "      <td>BENITEZ   FIDENCIA</td>\n",
       "      <td>Jubilado</td>\n",
       "      <td>35998.0</td>\n",
       "      <td>0</td>\n",
       "      <td>...</td>\n",
       "      <td>NaN</td>\n",
       "      <td>NaN</td>\n",
       "      <td>NaN</td>\n",
       "      <td>NaN</td>\n",
       "      <td>NaN</td>\n",
       "      <td>NaN</td>\n",
       "      <td>NaN</td>\n",
       "      <td>NaN</td>\n",
       "      <td>NaN</td>\n",
       "      <td>NaN</td>\n",
       "    </tr>\n",
       "    <tr>\n",
       "      <th>4</th>\n",
       "      <td>991708</td>\n",
       "      <td>23/07/2018</td>\n",
       "      <td>09:41</td>\n",
       "      <td>1</td>\n",
       "      <td>58</td>\n",
       "      <td>RECHAZA|Score SIISA (775) entre 350 y 799  y S...</td>\n",
       "      <td>GOMEZ DELGADO NOELIA SOLEDAD</td>\n",
       "      <td>Cooperativista</td>\n",
       "      <td>3293.0</td>\n",
       "      <td>0</td>\n",
       "      <td>...</td>\n",
       "      <td>0.0</td>\n",
       "      <td>0.0</td>\n",
       "      <td>0.0</td>\n",
       "      <td>NaN</td>\n",
       "      <td>NaN</td>\n",
       "      <td>9.0</td>\n",
       "      <td>9.0</td>\n",
       "      <td>ok</td>\n",
       "      <td>174.0</td>\n",
       "      <td>False</td>\n",
       "    </tr>\n",
       "  </tbody>\n",
       "</table>\n",
       "<p>5 rows × 210 columns</p>\n",
       "</div>"
      ],
      "text/plain": [
       "   executionId executionDate executionDateTime  policyId  policyVersion  \\\n",
       "0       991686    23/07/2018             09:36         1             58   \n",
       "1       991688    23/07/2018             09:36         1             58   \n",
       "2       991690    23/07/2018             09:37         1             58   \n",
       "3       991695    23/07/2018             09:37         1             58   \n",
       "4       991708    23/07/2018             09:41         1             58   \n",
       "\n",
       "                                      decisionResult  \\\n",
       "0                        OK|7000|Codigo rol:26955590   \n",
       "1                        OK|6500|Codigo rol:26805606   \n",
       "2                        OK|8500|Codigo rol:26805606   \n",
       "3                       OK|13000|Codigo rol:26955644   \n",
       "4  RECHAZA|Score SIISA (775) entre 350 y 799  y S...   \n",
       "\n",
       "                 apellidoNombre cartasur_actividadLaboral  \\\n",
       "0     HERRERA   MARIEL EMPERATI        Empleada Domestica   \n",
       "1         BAREIRO  MAXIMO RAMON           Monotribustista   \n",
       "2         BAREIRO  MAXIMO RAMON   Tarjeta en otra Entidad   \n",
       "3            BENITEZ   FIDENCIA                  Jubilado   \n",
       "4  GOMEZ DELGADO NOELIA SOLEDAD            Cooperativista   \n",
       "\n",
       "   cartasur_antLaboralGral cartasur_canal  ... veraz_observacionesConqui60m  \\\n",
       "0                   1844.0              0  ...                          NaN   \n",
       "1                  35998.0              0  ...                          NaN   \n",
       "2                  35998.0              0  ...                          NaN   \n",
       "3                  35998.0              0  ...                          NaN   \n",
       "4                   3293.0              0  ...                          0.0   \n",
       "\n",
       "   veraz_observacionesMontoCerrada1m  veraz_observacionesMontoCerrada24m  \\\n",
       "0                                NaN                                 NaN   \n",
       "1                                NaN                                 NaN   \n",
       "2                                NaN                                 NaN   \n",
       "3                                NaN                                 NaN   \n",
       "4                                0.0                                 0.0   \n",
       "\n",
       "   veraz_peorSituacionBureau4m veraz_peorSituacionBureau5a12m  \\\n",
       "0                          NaN                            NaN   \n",
       "1                          NaN                            NaN   \n",
       "2                          NaN                            NaN   \n",
       "3                          NaN                            NaN   \n",
       "4                          NaN                            NaN   \n",
       "\n",
       "  veraz_peorStatus12 veraz_peorStatusActual  veraz_poblacion  veraz_score  \\\n",
       "0                NaN                    NaN              NaN          NaN   \n",
       "1                NaN                    NaN              NaN          NaN   \n",
       "2                NaN                    NaN              NaN          NaN   \n",
       "3                NaN                    NaN              NaN          NaN   \n",
       "4                9.0                    9.0               ok        174.0   \n",
       "\n",
       "  veraz_validado  \n",
       "0            NaN  \n",
       "1            NaN  \n",
       "2            NaN  \n",
       "3            NaN  \n",
       "4          False  \n",
       "\n",
       "[5 rows x 210 columns]"
      ]
     },
     "execution_count": 4,
     "metadata": {},
     "output_type": "execute_result"
    }
   ],
   "source": [
    "df.head()"
   ]
  },
  {
   "cell_type": "code",
   "execution_count": 5,
   "metadata": {},
   "outputs": [
    {
     "data": {
      "text/plain": [
       "array([1], dtype=int64)"
      ]
     },
     "execution_count": 5,
     "metadata": {},
     "output_type": "execute_result"
    }
   ],
   "source": [
    "# tienen toda la misma politica??\n",
    "df.policyId.unique()"
   ]
  },
  {
   "cell_type": "code",
   "execution_count": 6,
   "metadata": {},
   "outputs": [],
   "source": [
    "# creo una columna que solo me diga si rechazo o califica.\n",
    "df['decision_filtered'] = df.decisionResult.str.split(\"|\", n = 1, expand = True)[0]"
   ]
  },
  {
   "cell_type": "code",
   "execution_count": 7,
   "metadata": {},
   "outputs": [
    {
     "data": {
      "text/plain": [
       "RECHAZA         5074\n",
       "OK              4951\n",
       "ERROR            397\n",
       "ESCALAMIENTO      85\n",
       "Name: decision_filtered, dtype: int64"
      ]
     },
     "execution_count": 7,
     "metadata": {},
     "output_type": "execute_result"
    },
    {
     "data": {
      "image/png": "[encoded data removed]",
      "text/plain": [
       "<Figure size 432x288 with 1 Axes>"
      ]
     },
     "metadata": {},
     "output_type": "display_data"
    }
   ],
   "source": [
    "# Simplemente grafico la cantidad que pasa por califica o rechazo.\n",
    "sns.set(style=\"whitegrid\")\n",
    "ax =sns.barplot(df.decision_filtered.value_counts().index, df.decision_filtered.value_counts().values/len(df.decision_filtered))\n",
    "df.decision_filtered.value_counts()"
   ]
  },
  {
   "cell_type": "code",
   "execution_count": 8,
   "metadata": {},
   "outputs": [],
   "source": [
    "# Genero una nueva columna que tiene que ver con si uso o no veraz por mas que este en dos puntos del arbol.\n",
    "df['uso_veraz'] = pd.Series(np.repeat('NoUso', len(df.veraz_score)))"
   ]
  },
  {
   "cell_type": "code",
   "execution_count": 9,
   "metadata": {},
   "outputs": [],
   "source": [
    "# Seteo las ocasiones en las que uso veraz.\n",
    "df.loc[~df.veraz_score.isna(), 'uso_veraz'] = 'Uso'"
   ]
  },
  {
   "cell_type": "code",
   "execution_count": 10,
   "metadata": {},
   "outputs": [
    {
     "data": {
      "text/plain": [
       "NoUso    6574\n",
       "Uso      3933\n",
       "Name: uso_veraz, dtype: int64"
      ]
     },
     "execution_count": 10,
     "metadata": {},
     "output_type": "execute_result"
    }
   ],
   "source": [
    "# cuento la cantidad de veces que uso.\n",
    "df.uso_veraz.value_counts()"
   ]
  },
  {
   "cell_type": "code",
   "execution_count": 11,
   "metadata": {},
   "outputs": [
    {
     "data": {
      "text/html": [
       "<div>\n",
       "<style scoped>\n",
       "    .dataframe tbody tr th:only-of-type {\n",
       "        vertical-align: middle;\n",
       "    }\n",
       "\n",
       "    .dataframe tbody tr th {\n",
       "        vertical-align: top;\n",
       "    }\n",
       "\n",
       "    .dataframe thead th {\n",
       "        text-align: right;\n",
       "    }\n",
       "</style>\n",
       "<table border=\"1\" class=\"dataframe\">\n",
       "  <thead>\n",
       "    <tr style=\"text-align: right;\">\n",
       "      <th>decision_filtered</th>\n",
       "      <th>ERROR</th>\n",
       "      <th>ESCALAMIENTO</th>\n",
       "      <th>OK</th>\n",
       "      <th>RECHAZA</th>\n",
       "      <th>All</th>\n",
       "    </tr>\n",
       "    <tr>\n",
       "      <th>uso_veraz</th>\n",
       "      <th></th>\n",
       "      <th></th>\n",
       "      <th></th>\n",
       "      <th></th>\n",
       "      <th></th>\n",
       "    </tr>\n",
       "  </thead>\n",
       "  <tbody>\n",
       "    <tr>\n",
       "      <th>NoUso</th>\n",
       "      <td>397</td>\n",
       "      <td>45</td>\n",
       "      <td>3013</td>\n",
       "      <td>3119</td>\n",
       "      <td>6574</td>\n",
       "    </tr>\n",
       "    <tr>\n",
       "      <th>Uso</th>\n",
       "      <td>0</td>\n",
       "      <td>40</td>\n",
       "      <td>1938</td>\n",
       "      <td>1955</td>\n",
       "      <td>3933</td>\n",
       "    </tr>\n",
       "    <tr>\n",
       "      <th>All</th>\n",
       "      <td>397</td>\n",
       "      <td>85</td>\n",
       "      <td>4951</td>\n",
       "      <td>5074</td>\n",
       "      <td>10507</td>\n",
       "    </tr>\n",
       "  </tbody>\n",
       "</table>\n",
       "</div>"
      ],
      "text/plain": [
       "decision_filtered  ERROR  ESCALAMIENTO    OK  RECHAZA    All\n",
       "uso_veraz                                                   \n",
       "NoUso                397            45  3013     3119   6574\n",
       "Uso                    0            40  1938     1955   3933\n",
       "All                  397            85  4951     5074  10507"
      ]
     },
     "execution_count": 11,
     "metadata": {},
     "output_type": "execute_result"
    }
   ],
   "source": [
    "# Tabla de contingencia class(califica/rechaza) / veraz (uso/noUsa) \n",
    "pd.crosstab(index=df.uso_veraz,\n",
    "            columns=df.decision_filtered, margins=True)"
   ]
  },
  {
   "cell_type": "code",
   "execution_count": 12,
   "metadata": {},
   "outputs": [],
   "source": [
    "# No me interesa las instancias donde tengo ERROR o ESCALAMIENTO\n",
    "df = df.drop(df[df.decision_filtered=='ERROR'].index)\n",
    "df = df.drop(df[df.decision_filtered=='ESCALAMIENTO'].index)"
   ]
  },
  {
   "cell_type": "code",
   "execution_count": 13,
   "metadata": {},
   "outputs": [
    {
     "data": {
      "text/html": [
       "<div>\n",
       "<style scoped>\n",
       "    .dataframe tbody tr th:only-of-type {\n",
       "        vertical-align: middle;\n",
       "    }\n",
       "\n",
       "    .dataframe tbody tr th {\n",
       "        vertical-align: top;\n",
       "    }\n",
       "\n",
       "    .dataframe thead th {\n",
       "        text-align: right;\n",
       "    }\n",
       "</style>\n",
       "<table border=\"1\" class=\"dataframe\">\n",
       "  <thead>\n",
       "    <tr style=\"text-align: right;\">\n",
       "      <th>decision_filtered</th>\n",
       "      <th>OK</th>\n",
       "      <th>RECHAZA</th>\n",
       "      <th>All</th>\n",
       "    </tr>\n",
       "    <tr>\n",
       "      <th>uso_veraz</th>\n",
       "      <th></th>\n",
       "      <th></th>\n",
       "      <th></th>\n",
       "    </tr>\n",
       "  </thead>\n",
       "  <tbody>\n",
       "    <tr>\n",
       "      <th>NoUso</th>\n",
       "      <td>3013</td>\n",
       "      <td>3119</td>\n",
       "      <td>6132</td>\n",
       "    </tr>\n",
       "    <tr>\n",
       "      <th>Uso</th>\n",
       "      <td>1938</td>\n",
       "      <td>1955</td>\n",
       "      <td>3893</td>\n",
       "    </tr>\n",
       "    <tr>\n",
       "      <th>All</th>\n",
       "      <td>4951</td>\n",
       "      <td>5074</td>\n",
       "      <td>10025</td>\n",
       "    </tr>\n",
       "  </tbody>\n",
       "</table>\n",
       "</div>"
      ],
      "text/plain": [
       "decision_filtered    OK  RECHAZA    All\n",
       "uso_veraz                              \n",
       "NoUso              3013     3119   6132\n",
       "Uso                1938     1955   3893\n",
       "All                4951     5074  10025"
      ]
     },
     "execution_count": 13,
     "metadata": {},
     "output_type": "execute_result"
    }
   ],
   "source": [
    "# Tabla de contingencia class(califica/rechaza) / veraz (uso/noUsa) \n",
    "pd.crosstab(index=df.uso_veraz,\n",
    "            columns=df.decision_filtered, margins=True)"
   ]
  },
  {
   "cell_type": "code",
   "execution_count": 14,
   "metadata": {},
   "outputs": [],
   "source": [
    "# Estrategia ahora es ver la correlacion de variables utilizadas por siisa y por veraz de modo tal de ver si alguna explica la\n",
    "# otra.\n",
    "df_con_veraz = df[df.uso_veraz=='Uso']\n",
    "df_variables_select = df_con_veraz.filter(regex=r'(siisa*|veraz*)')\n"
   ]
  },
  {
   "cell_type": "code",
   "execution_count": 15,
   "metadata": {},
   "outputs": [
    {
     "data": {
      "text/plain": [
       "(3893, 117)"
      ]
     },
     "execution_count": 15,
     "metadata": {},
     "output_type": "execute_result"
    }
   ],
   "source": [
    "df_variables_select.shape"
   ]
  },
  {
   "cell_type": "code",
   "execution_count": 16,
   "metadata": {},
   "outputs": [
    {
     "name": "stderr",
     "output_type": "stream",
     "text": [
      "C:\\Users\\elias\\Programs\\anaconda3\\envs\\siisa\\lib\\site-packages\\pandas\\core\\frame.py:3940: SettingWithCopyWarning: \n",
      "A value is trying to be set on a copy of a slice from a DataFrame\n",
      "\n",
      "See the caveats in the documentation: http://pandas.pydata.org/pandas-docs/stable/indexing.html#indexing-view-versus-copy\n",
      "  errors=errors)\n"
     ]
    }
   ],
   "source": [
    "df_variables_select.drop(df_variables_select.select_dtypes(['object','bool']), inplace=True, axis=1)"
   ]
  },
  {
   "cell_type": "code",
   "execution_count": 17,
   "metadata": {},
   "outputs": [
    {
     "data": {
      "text/plain": [
       "siisa_bacCompromiso                      0\n",
       "siisa_cant1s                             0\n",
       "siisa_cant2s                             0\n",
       "siisa_cant3s                             0\n",
       "siisa_cant4s                             0\n",
       "siisa_cant5s                             0\n",
       "siisa_cant6s                             0\n",
       "siisa_cantCheques                        0\n",
       "siisa_cantMoras                          0\n",
       "siisa_cantMorasBCRA                      0\n",
       "siisa_consultasAno                       0\n",
       "siisa_consultasDia                       0\n",
       "siisa_consultasDosAno                    0\n",
       "siisa_consultasMes                       0\n",
       "siisa_consultasSeisMeses                 0\n",
       "siisa_consultasSemana                    0\n",
       "siisa_consultasTresMeses                 0\n",
       "siisa_cuil                               0\n",
       "siisa_Dup1                            3893\n",
       "siisa_Dup2                            3893\n",
       "siisa_Dup3                            3893\n",
       "siisa_Dup4                            3893\n",
       "siisa_DupCuil1                           0\n",
       "siisa_DupCuil2                           0\n",
       "siisa_DupCuil3                           0\n",
       "siisa_DupCuil4                           0\n",
       "siisa_maxBCRA                            0\n",
       "siisa_maxBCRA12m                         0\n",
       "siisa_maxBCRA24m                         0\n",
       "siisa_maxBCRA6m                          0\n",
       "                                      ... \n",
       "veraz_cantJuicios12                      0\n",
       "veraz_cantMoraAbierta24                  0\n",
       "veraz_consumoConsFin12m                  0\n",
       "veraz_consumoConsFin1m                   0\n",
       "veraz_consumoConsNoFin1m                 0\n",
       "veraz_consumoPreActivos                  0\n",
       "veraz_consumoPreCompromiso               0\n",
       "veraz_consumoPreMora                     0\n",
       "veraz_consumoPreSaldo                    0\n",
       "veraz_consumoPreTotal                    0\n",
       "veraz_consumoPreVencidos                 0\n",
       "veraz_consumoTarActivas                  0\n",
       "veraz_consumoTarActivasMora              0\n",
       "veraz_consumoTarCuotas                   0\n",
       "veraz_consumoTarMaxAntig                 0\n",
       "veraz_consumoTarMaxAntigAct              0\n",
       "veraz_consumoTarSumLimite                0\n",
       "veraz_consumoTarSumMinimo                0\n",
       "veraz_consumoTarSumSaldo                 0\n",
       "veraz_cuit                               0\n",
       "veraz_observaciones12m                   0\n",
       "veraz_observaciones24m                   0\n",
       "veraz_observacionesConqui60m             0\n",
       "veraz_observacionesMontoCerrada1m        0\n",
       "veraz_observacionesMontoCerrada24m       0\n",
       "veraz_peorSituacionBureau4m           3893\n",
       "veraz_peorSituacionBureau5a12m        3893\n",
       "veraz_peorStatus12                       0\n",
       "veraz_peorStatusActual                   0\n",
       "veraz_score                              0\n",
       "Length: 77, dtype: int64"
      ]
     },
     "execution_count": 17,
     "metadata": {},
     "output_type": "execute_result"
    }
   ],
   "source": [
    "# veo cuales variables tienen Nan.\n",
    "df_variables_select.isna().sum()"
   ]
  },
  {
   "cell_type": "code",
   "execution_count": 18,
   "metadata": {},
   "outputs": [],
   "source": [
    "# me saco de encima las columnas que tienen toda la columna como Nan y ademas los scores que deberian correlacionar.\n",
    "df_variables_select.drop(['siisa_Dup1','siisa_Dup2','siisa_Dup3','siisa_Dup4', 'veraz_peorSituacionBureau4m', 'veraz_peorSituacionBureau5a12m', 'siisa_cuil', 'veraz_cuit', 'veraz_score', 'siisa_score' ], axis=1, inplace=True)"
   ]
  },
  {
   "cell_type": "code",
   "execution_count": 19,
   "metadata": {},
   "outputs": [
    {
     "data": {
      "text/plain": [
       "siisa_bacCompromiso                   0\n",
       "siisa_cant1s                          0\n",
       "siisa_cant2s                          0\n",
       "siisa_cant3s                          0\n",
       "siisa_cant4s                          0\n",
       "siisa_cant5s                          0\n",
       "siisa_cant6s                          0\n",
       "siisa_cantCheques                     0\n",
       "siisa_cantMoras                       0\n",
       "siisa_cantMorasBCRA                   0\n",
       "siisa_consultasAno                    0\n",
       "siisa_consultasDia                    0\n",
       "siisa_consultasDosAno                 0\n",
       "siisa_consultasMes                    0\n",
       "siisa_consultasSeisMeses              0\n",
       "siisa_consultasSemana                 0\n",
       "siisa_consultasTresMeses              0\n",
       "siisa_DupCuil1                        0\n",
       "siisa_DupCuil2                        0\n",
       "siisa_DupCuil3                        0\n",
       "siisa_DupCuil4                        0\n",
       "siisa_maxBCRA                         0\n",
       "siisa_maxBCRA12m                      0\n",
       "siisa_maxBCRA24m                      0\n",
       "siisa_maxBCRA6m                       0\n",
       "siisa_monto1s                         0\n",
       "siisa_monto2s                         0\n",
       "siisa_monto3s                         0\n",
       "siisa_monto4s                         0\n",
       "siisa_monto5s                         0\n",
       "                                     ..\n",
       "siisa_sesCat                          0\n",
       "siisa_sesModelo                       0\n",
       "veraz_cantCheq12                      0\n",
       "veraz_cantConcursos60                 0\n",
       "veraz_cantJuicios12                   0\n",
       "veraz_cantMoraAbierta24               0\n",
       "veraz_consumoConsFin12m               0\n",
       "veraz_consumoConsFin1m                0\n",
       "veraz_consumoConsNoFin1m              0\n",
       "veraz_consumoPreActivos               0\n",
       "veraz_consumoPreCompromiso            0\n",
       "veraz_consumoPreMora                  0\n",
       "veraz_consumoPreSaldo                 0\n",
       "veraz_consumoPreTotal                 0\n",
       "veraz_consumoPreVencidos              0\n",
       "veraz_consumoTarActivas               0\n",
       "veraz_consumoTarActivasMora           0\n",
       "veraz_consumoTarCuotas                0\n",
       "veraz_consumoTarMaxAntig              0\n",
       "veraz_consumoTarMaxAntigAct           0\n",
       "veraz_consumoTarSumLimite             0\n",
       "veraz_consumoTarSumMinimo             0\n",
       "veraz_consumoTarSumSaldo              0\n",
       "veraz_observaciones12m                0\n",
       "veraz_observaciones24m                0\n",
       "veraz_observacionesConqui60m          0\n",
       "veraz_observacionesMontoCerrada1m     0\n",
       "veraz_observacionesMontoCerrada24m    0\n",
       "veraz_peorStatus12                    0\n",
       "veraz_peorStatusActual                0\n",
       "Length: 67, dtype: int64"
      ]
     },
     "execution_count": 19,
     "metadata": {},
     "output_type": "execute_result"
    }
   ],
   "source": [
    "df_variables_select.isna().sum()"
   ]
  },
  {
   "cell_type": "code",
   "execution_count": 20,
   "metadata": {},
   "outputs": [],
   "source": [
    "df_variables_select=df_variables_select.dropna()"
   ]
  },
  {
   "cell_type": "code",
   "execution_count": 21,
   "metadata": {},
   "outputs": [
    {
     "name": "stdout",
     "output_type": "stream",
     "text": [
      "siisa_bacCompromiso int64\n",
      "siisa_cant1s int64\n",
      "siisa_cant2s int64\n",
      "siisa_cant3s int64\n",
      "siisa_cant4s int64\n",
      "siisa_cant5s int64\n",
      "siisa_cant6s int64\n",
      "siisa_cantCheques int64\n",
      "siisa_cantMoras int64\n",
      "siisa_cantMorasBCRA int64\n",
      "siisa_consultasAno int64\n",
      "siisa_consultasDia int64\n",
      "siisa_consultasDosAno int64\n",
      "siisa_consultasMes int64\n",
      "siisa_consultasSeisMeses int64\n",
      "siisa_consultasSemana int64\n",
      "siisa_consultasTresMeses int64\n",
      "siisa_DupCuil1 int64\n",
      "siisa_DupCuil2 int64\n",
      "siisa_DupCuil3 int64\n",
      "siisa_DupCuil4 int64\n",
      "siisa_maxBCRA int64\n",
      "siisa_maxBCRA12m int64\n",
      "siisa_maxBCRA24m int64\n",
      "siisa_maxBCRA6m int64\n",
      "siisa_monto1s int64\n",
      "siisa_monto2s int64\n",
      "siisa_monto3s int64\n",
      "siisa_monto4s int64\n",
      "siisa_monto5s int64\n",
      "siisa_monto6s int64\n",
      "siisa_montoMorasBCRA int64\n",
      "siisa_nroDoc int64\n",
      "siisa_operaYcumple int64\n",
      "siisa_relDepCuit int64\n",
      "siisa_relDepMeses int64\n",
      "siisa_relDepTel float64\n",
      "siisa_sesCat int64\n",
      "siisa_sesModelo int64\n",
      "veraz_cantCheq12 float64\n",
      "veraz_cantConcursos60 float64\n",
      "veraz_cantJuicios12 float64\n",
      "veraz_cantMoraAbierta24 float64\n",
      "veraz_consumoConsFin12m float64\n",
      "veraz_consumoConsFin1m float64\n",
      "veraz_consumoConsNoFin1m float64\n",
      "veraz_consumoPreActivos float64\n",
      "veraz_consumoPreCompromiso float64\n",
      "veraz_consumoPreMora float64\n",
      "veraz_consumoPreSaldo float64\n",
      "veraz_consumoPreTotal float64\n",
      "veraz_consumoPreVencidos float64\n",
      "veraz_consumoTarActivas float64\n",
      "veraz_consumoTarActivasMora float64\n",
      "veraz_consumoTarCuotas float64\n",
      "veraz_consumoTarMaxAntig float64\n",
      "veraz_consumoTarMaxAntigAct float64\n",
      "veraz_consumoTarSumLimite float64\n",
      "veraz_consumoTarSumMinimo float64\n",
      "veraz_consumoTarSumSaldo float64\n",
      "veraz_observaciones12m float64\n",
      "veraz_observaciones24m float64\n",
      "veraz_observacionesConqui60m float64\n",
      "veraz_observacionesMontoCerrada1m float64\n",
      "veraz_observacionesMontoCerrada24m float64\n",
      "veraz_peorStatus12 float64\n",
      "veraz_peorStatusActual float64\n"
     ]
    }
   ],
   "source": [
    "def print_types(df):\n",
    "    for x in df.columns:\n",
    "        print(x,df[x].dtype)\n",
    "print_types(df_variables_select)"
   ]
  },
  {
   "cell_type": "code",
   "execution_count": 22,
   "metadata": {},
   "outputs": [],
   "source": [
    "corr=df_variables_select.corr()"
   ]
  },
  {
   "cell_type": "code",
   "execution_count": 26,
   "metadata": {},
   "outputs": [
    {
     "name": "stdout",
     "output_type": "stream",
     "text": [
      "Top Absolute Correlations\n"
     ]
    }
   ],
   "source": [
    "def get_redundant_pairs(df):\n",
    "    '''Get diagonal and lower triangular pairs of correlation matrix'''\n",
    "    pairs_to_drop = set()\n",
    "    cols = df.columns\n",
    "    for i in range(0, df.shape[1]):\n",
    "        for j in range(0, i+1):\n",
    "            pairs_to_drop.add((cols[i], cols[j]))\n",
    "    return pairs_to_drop\n",
    "\n",
    "def get_top_abs_correlations(df, n=5):\n",
    "    au_corr = df.corr().abs().unstack()\n",
    "    labels_to_drop = get_redundant_pairs(df)\n",
    "    au_corr = au_corr.drop(labels=labels_to_drop).sort_values(ascending=False)\n",
    "    return au_corr[0:n]\n",
    "\n",
    "print(\"Top Absolute Correlations\")\n",
    "a=get_top_abs_correlations(df_variables_select, 10000)\n",
    "a=a.dropna()\n",
    "a_filter=a[a.values > 0.5]\n",
    "a_filter.to_csv('corr.csv', header=True)"
   ]
  },
  {
   "cell_type": "code",
   "execution_count": 28,
   "metadata": {},
   "outputs": [
    {
     "data": {
      "text/plain": [
       "siisa_consultasAno        siisa_consultasDosAno       0.894980\n",
       "siisa_maxBCRA             siisa_maxBCRA6m             0.887514\n",
       "siisa_monto2s             siisa_montoMorasBCRA        0.831252\n",
       "siisa_consultasAno        siisa_consultasSeisMeses    0.811590\n",
       "siisa_consultasSeisMeses  siisa_consultasTresMeses    0.795182\n",
       "siisa_cant2s              siisa_cantMorasBCRA         0.774985\n",
       "siisa_consultasMes        siisa_consultasSemana       0.767666\n",
       "                          siisa_consultasTresMeses    0.746600\n",
       "siisa_cant5s              siisa_monto5s               0.739193\n",
       "siisa_cantMorasBCRA       siisa_maxBCRA               0.733766\n",
       "siisa_maxBCRA12m          veraz_peorStatus12          0.732614\n",
       "siisa_consultasAno        siisa_consultasTresMeses    0.728675\n",
       "veraz_peorStatus12        veraz_peorStatusActual      0.716171\n",
       "siisa_consultasDosAno     siisa_consultasSeisMeses    0.715194\n",
       "siisa_monto5s             veraz_cantConcursos60       0.692935\n",
       "siisa_maxBCRA             veraz_peorStatusActual      0.677786\n",
       "siisa_consultasDia        siisa_consultasSemana       0.673151\n",
       "siisa_consultasDosAno     siisa_consultasTresMeses    0.662112\n",
       "siisa_maxBCRA6m           veraz_peorStatusActual      0.655409\n",
       "siisa_cantMorasBCRA       siisa_maxBCRA6m             0.639861\n",
       "siisa_maxBCRA12m          siisa_maxBCRA6m             0.638365\n",
       "siisa_cant1s              siisa_monto1s               0.622654\n",
       "siisa_consultasMes        siisa_consultasSeisMeses    0.619696\n",
       "siisa_cant4s              siisa_monto4s               0.618271\n",
       "siisa_cant5s              siisa_maxBCRA               0.599162\n",
       "siisa_maxBCRA12m          siisa_maxBCRA24m            0.592694\n",
       "siisa_cant2s              siisa_monto2s               0.592532\n",
       "siisa_consultasSemana     siisa_consultasTresMeses    0.563019\n",
       "siisa_maxBCRA             siisa_maxBCRA12m            0.561727\n",
       "siisa_cantMorasBCRA       veraz_peorStatusActual      0.559139\n",
       "siisa_maxBCRA6m           veraz_peorStatus12          0.544763\n",
       "siisa_consultasAno        siisa_consultasMes          0.536274\n",
       "siisa_cant3s              siisa_monto3s               0.530306\n",
       "siisa_cant5s              siisa_maxBCRA6m             0.529086\n",
       "siisa_cantMorasBCRA       siisa_montoMorasBCRA        0.526304\n",
       "siisa_monto3s             siisa_montoMorasBCRA        0.523465\n",
       "siisa_consultasDia        siisa_consultasMes          0.516579\n",
       "siisa_consultasDosAno     siisa_consultasMes          0.503827\n",
       "dtype: float64"
      ]
     },
     "execution_count": 28,
     "metadata": {},
     "output_type": "execute_result"
    }
   ],
   "source": [
    "a_filter"
   ]
  }
 ],
 "metadata": {
  "kernelspec": {
   "display_name": "Python 3",
   "language": "python",
   "name": "python3"
  },
  "language_info": {
   "codemirror_mode": {
    "name": "ipython",
    "version": 3
   },
   "file_extension": ".py",
   "mimetype": "text/x-python",
   "name": "python",
   "nbconvert_exporter": "python",
   "pygments_lexer": "ipython3",
   "version": "3.7.3"
  }
 },
 "nbformat": 4,
 "nbformat_minor": 2
}
