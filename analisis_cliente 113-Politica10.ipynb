{
 "cells": [
  {
   "cell_type": "markdown",
   "metadata": {},
   "source": [
    "<img src=\"http://www.ceic.org.ar/spanish/img/siisa-logo.jpg\" align='right'>"
   ]
  },
  {
   "cell_type": "markdown",
   "metadata": {},
   "source": [
    "# Evaluacion sobre cliente 113 (cuenca)\n",
    "Empiezo con la evaluacion del cliente 136 (cuenta) puesto que en el grafo diseniado utiliza los 3 bureau de consulta (nosis, siisa y veraz). La politica seleccionda es la numero 10."
   ]
  },
  {
   "cell_type": "markdown",
   "metadata": {},
   "source": [
    "## Descripcion del dataset:\n",
    "El data set fue tomado de la base de datos para el numero de cliente 136 y la politica 10. El dataset completo consta de ~23000 registros para esa politica abarcando las fechas desde el 2017-02-01 al 2019-05-23. "
   ]
  },
  {
   "cell_type": "code",
   "execution_count": 1,
   "metadata": {},
   "outputs": [],
   "source": [
    "# importo las librerias que voy a utilizar.\n",
    "import pandas as pd\n",
    "import numpy as np\n",
    "import seaborn as sns\n",
    "import matplotlib.pyplot as plt\n"
   ]
  },
  {
   "cell_type": "code",
   "execution_count": 2,
   "metadata": {},
   "outputs": [],
   "source": [
    "# Importo el dataset que se discute en la seccion de \"descripcion del dataset\"\n",
    "df = pd.read_csv(\"Client_113_Policy_10_20170201_20190523.cvs\", low_memory=False)"
   ]
  },
  {
   "cell_type": "code",
   "execution_count": 3,
   "metadata": {},
   "outputs": [
    {
     "data": {
      "text/plain": [
       "(23791, 244)"
      ]
     },
     "execution_count": 3,
     "metadata": {},
     "output_type": "execute_result"
    }
   ],
   "source": [
    "# evaluo el tamanio del dataset.\n",
    "df.shape"
   ]
  },
  {
   "cell_type": "code",
   "execution_count": 4,
   "metadata": {},
   "outputs": [
    {
     "data": {
      "text/html": [
       "<div>\n",
       "<style scoped>\n",
       "    .dataframe tbody tr th:only-of-type {\n",
       "        vertical-align: middle;\n",
       "    }\n",
       "\n",
       "    .dataframe tbody tr th {\n",
       "        vertical-align: top;\n",
       "    }\n",
       "\n",
       "    .dataframe thead th {\n",
       "        text-align: right;\n",
       "    }\n",
       "</style>\n",
       "<table border=\"1\" class=\"dataframe\">\n",
       "  <thead>\n",
       "    <tr style=\"text-align: right;\">\n",
       "      <th></th>\n",
       "      <th>executionId</th>\n",
       "      <th>executionDate</th>\n",
       "      <th>executionDateTime</th>\n",
       "      <th>policyId</th>\n",
       "      <th>policyVersion</th>\n",
       "      <th>decisionResult</th>\n",
       "      <th>canal</th>\n",
       "      <th>ingreso</th>\n",
       "      <th>nombreApellido</th>\n",
       "      <th>nroDoc</th>\n",
       "      <th>...</th>\n",
       "      <th>veraz_observacionesConqui60m</th>\n",
       "      <th>veraz_observacionesMontoCerrada1m</th>\n",
       "      <th>veraz_observacionesMontoCerrada24m</th>\n",
       "      <th>veraz_peorSituacionBureau4m</th>\n",
       "      <th>veraz_peorSituacionBureau5a12m</th>\n",
       "      <th>veraz_peorStatus12</th>\n",
       "      <th>veraz_peorStatusActual</th>\n",
       "      <th>veraz_poblacion</th>\n",
       "      <th>veraz_score</th>\n",
       "      <th>veraz_validado</th>\n",
       "    </tr>\n",
       "  </thead>\n",
       "  <tbody>\n",
       "    <tr>\n",
       "      <th>0</th>\n",
       "      <td>117133</td>\n",
       "      <td>02/08/2017</td>\n",
       "      <td>17:12</td>\n",
       "      <td>10</td>\n",
       "      <td>0</td>\n",
       "      <td>Documento en base de denegados</td>\n",
       "      <td>NaN</td>\n",
       "      <td>NaN</td>\n",
       "      <td>PENINO RAMON ADOLFO</td>\n",
       "      <td>1997989.0</td>\n",
       "      <td>...</td>\n",
       "      <td>NaN</td>\n",
       "      <td>NaN</td>\n",
       "      <td>NaN</td>\n",
       "      <td>NaN</td>\n",
       "      <td>NaN</td>\n",
       "      <td>NaN</td>\n",
       "      <td>NaN</td>\n",
       "      <td>NaN</td>\n",
       "      <td>NaN</td>\n",
       "      <td>NaN</td>\n",
       "    </tr>\n",
       "    <tr>\n",
       "      <th>1</th>\n",
       "      <td>117134</td>\n",
       "      <td>02/08/2017</td>\n",
       "      <td>17:13</td>\n",
       "      <td>10</td>\n",
       "      <td>0</td>\n",
       "      <td>Documento en base de denegados</td>\n",
       "      <td>NaN</td>\n",
       "      <td>NaN</td>\n",
       "      <td>PENINO RAMON ADOLFO</td>\n",
       "      <td>1997989.0</td>\n",
       "      <td>...</td>\n",
       "      <td>NaN</td>\n",
       "      <td>NaN</td>\n",
       "      <td>NaN</td>\n",
       "      <td>NaN</td>\n",
       "      <td>NaN</td>\n",
       "      <td>NaN</td>\n",
       "      <td>NaN</td>\n",
       "      <td>NaN</td>\n",
       "      <td>NaN</td>\n",
       "      <td>NaN</td>\n",
       "    </tr>\n",
       "    <tr>\n",
       "      <th>2</th>\n",
       "      <td>117136</td>\n",
       "      <td>02/08/2017</td>\n",
       "      <td>17:19</td>\n",
       "      <td>10</td>\n",
       "      <td>0</td>\n",
       "      <td>OK|Pasa Cuit valido, edad valida, sin juicios ...</td>\n",
       "      <td>NaN</td>\n",
       "      <td>NaN</td>\n",
       "      <td>RAMOS CARLOS HERNAN</td>\n",
       "      <td>20000250.0</td>\n",
       "      <td>...</td>\n",
       "      <td>NaN</td>\n",
       "      <td>NaN</td>\n",
       "      <td>NaN</td>\n",
       "      <td>NaN</td>\n",
       "      <td>NaN</td>\n",
       "      <td>NaN</td>\n",
       "      <td>NaN</td>\n",
       "      <td>NaN</td>\n",
       "      <td>NaN</td>\n",
       "      <td>NaN</td>\n",
       "    </tr>\n",
       "  </tbody>\n",
       "</table>\n",
       "<p>3 rows × 244 columns</p>\n",
       "</div>"
      ],
      "text/plain": [
       "   executionId executionDate executionDateTime  policyId  policyVersion  \\\n",
       "0       117133    02/08/2017             17:12        10              0   \n",
       "1       117134    02/08/2017             17:13        10              0   \n",
       "2       117136    02/08/2017             17:19        10              0   \n",
       "\n",
       "                                      decisionResult canal  ingreso  \\\n",
       "0                     Documento en base de denegados   NaN      NaN   \n",
       "1                     Documento en base de denegados   NaN      NaN   \n",
       "2  OK|Pasa Cuit valido, edad valida, sin juicios ...   NaN      NaN   \n",
       "\n",
       "        nombreApellido      nroDoc  ... veraz_observacionesConqui60m  \\\n",
       "0  PENINO RAMON ADOLFO   1997989.0  ...                          NaN   \n",
       "1  PENINO RAMON ADOLFO   1997989.0  ...                          NaN   \n",
       "2  RAMOS CARLOS HERNAN  20000250.0  ...                          NaN   \n",
       "\n",
       "  veraz_observacionesMontoCerrada1m veraz_observacionesMontoCerrada24m  \\\n",
       "0                               NaN                                NaN   \n",
       "1                               NaN                                NaN   \n",
       "2                               NaN                                NaN   \n",
       "\n",
       "  veraz_peorSituacionBureau4m veraz_peorSituacionBureau5a12m  \\\n",
       "0                         NaN                            NaN   \n",
       "1                         NaN                            NaN   \n",
       "2                         NaN                            NaN   \n",
       "\n",
       "  veraz_peorStatus12 veraz_peorStatusActual  veraz_poblacion  veraz_score  \\\n",
       "0                NaN                    NaN              NaN          NaN   \n",
       "1                NaN                    NaN              NaN          NaN   \n",
       "2                NaN                    NaN              NaN          NaN   \n",
       "\n",
       "   veraz_validado  \n",
       "0             NaN  \n",
       "1             NaN  \n",
       "2             NaN  \n",
       "\n",
       "[3 rows x 244 columns]"
      ]
     },
     "execution_count": 4,
     "metadata": {},
     "output_type": "execute_result"
    }
   ],
   "source": [
    "df.head(3)"
   ]
  },
  {
   "cell_type": "code",
   "execution_count": 5,
   "metadata": {},
   "outputs": [
    {
     "data": {
      "text/plain": [
       "array([10], dtype=int64)"
      ]
     },
     "execution_count": 5,
     "metadata": {},
     "output_type": "execute_result"
    }
   ],
   "source": [
    "# Me pregunto si todos los reguistro tienen toda la misma politica a fin de hacer debug sobre la consulta sql.\n",
    "df.policyId.unique()"
   ]
  },
  {
   "cell_type": "code",
   "execution_count": 6,
   "metadata": {},
   "outputs": [],
   "source": [
    "# Creo una columna que solo me diga si rechazo o califica spliteado el campo de decisionResult.\n",
    "# Los strings son APROBADO o RECHAZAR un cliente en este caso serian OK, ERROR respectivamente.\n",
    "df['decision_filtered'] = df.decisionResult.str.split(\"|\", n = 1, expand = True)[0]"
   ]
  },
  {
   "cell_type": "code",
   "execution_count": 7,
   "metadata": {},
   "outputs": [
    {
     "data": {
      "text/plain": [
       "OK                                   18075\n",
       "ERROR                                 5281\n",
       "ADVERTENCIA                            244\n",
       "Rechaza: Posee Sit. Irregulares.        83\n",
       "Rechaza: posee Sit. Irregular.          20\n",
       "\"Error nosis no valida identidad\"        5\n",
       "Documento en base de denegados           3\n",
       "Error consultando Nosis empleador        2\n",
       "Name: decision_filtered, dtype: int64"
      ]
     },
     "execution_count": 7,
     "metadata": {},
     "output_type": "execute_result"
    },
    {
     "data": {
      "image/png": "[encoded data removed]",
      "text/plain": [
       "<Figure size 432x288 with 1 Axes>"
      ]
     },
     "metadata": {},
     "output_type": "display_data"
    }
   ],
   "source": [
    "# Simplemente realizo un barplot para ver la distribucion de status de credito.\n",
    "sns.set(style=\"whitegrid\")\n",
    "ax =sns.barplot(df.decision_filtered.value_counts().index, df.decision_filtered.value_counts().values/len(df.decision_filtered))\n",
    "df.decision_filtered.value_counts()\n",
    "# En este caso parece que error es sinonimo de no aprueba."
   ]
  },
  {
   "cell_type": "code",
   "execution_count": 8,
   "metadata": {},
   "outputs": [],
   "source": [
    "# Me quedo con todas las instancias donde siisa veraz y nosis fueron evaluadas.\n",
    "df=df[~((df.veraz_score.isna()) & (df.siisa_score.isna()) & (df.nosis_score.isna()))]"
   ]
  },
  {
   "cell_type": "code",
   "execution_count": 9,
   "metadata": {},
   "outputs": [],
   "source": [
    "# No me interesa las instancias donde tengo ERROR o ESCALAMIENTO\n",
    "df = df.drop(df[df.decision_filtered=='ADVERTENCIA'].index)\n",
    "df = df.drop(df[df.decision_filtered=='Rechaza: Posee Sit. Irregulares.'].index)\n",
    "df = df.drop(df[df.decision_filtered=='\"Error nosis no valida identidad\"'].index)\n",
    "df = df.drop(df[df.decision_filtered=='Documento en base de denegados'].index)\n",
    "df = df.drop(df[df.decision_filtered=='Error consultando Nosis empleador'].index)\n",
    "df = df.drop(df[df.decision_filtered=='Rechaza: posee Sit. Irregular.'].index)"
   ]
  },
  {
   "cell_type": "code",
   "execution_count": 10,
   "metadata": {},
   "outputs": [
    {
     "data": {
      "text/plain": [
       "OK       18075\n",
       "ERROR     5281\n",
       "Name: decision_filtered, dtype: int64"
      ]
     },
     "execution_count": 10,
     "metadata": {},
     "output_type": "execute_result"
    },
    {
     "data": {
      "image/png": "[encoded data removed]",
      "text/plain": [
       "<Figure size 432x288 with 1 Axes>"
      ]
     },
     "metadata": {},
     "output_type": "display_data"
    }
   ],
   "source": [
    "# Simplemente grafico la cantidad que pasa por califica o rechazo.\n",
    "sns.set(style=\"whitegrid\")\n",
    "ax =sns.barplot(df.decision_filtered.value_counts().index, df.decision_filtered.value_counts().values/len(df.decision_filtered))\n",
    "df.decision_filtered.value_counts()\n",
    "# En este caso parece que error es sinonimo de no aprueba."
   ]
  },
  {
   "cell_type": "code",
   "execution_count": 11,
   "metadata": {},
   "outputs": [
    {
     "data": {
      "text/plain": [
       "(23364, 245)"
      ]
     },
     "execution_count": 11,
     "metadata": {},
     "output_type": "execute_result"
    }
   ],
   "source": [
    "# Al final me tengo 23364 regristros que puedo evaluar.\n",
    "df.shape"
   ]
  },
  {
   "cell_type": "code",
   "execution_count": 12,
   "metadata": {},
   "outputs": [
    {
     "data": {
      "text/html": [
       "<div>\n",
       "<style scoped>\n",
       "    .dataframe tbody tr th:only-of-type {\n",
       "        vertical-align: middle;\n",
       "    }\n",
       "\n",
       "    .dataframe tbody tr th {\n",
       "        vertical-align: top;\n",
       "    }\n",
       "\n",
       "    .dataframe thead th {\n",
       "        text-align: right;\n",
       "    }\n",
       "</style>\n",
       "<table border=\"1\" class=\"dataframe\">\n",
       "  <thead>\n",
       "    <tr style=\"text-align: right;\">\n",
       "      <th></th>\n",
       "      <th>executionId</th>\n",
       "      <th>executionDate</th>\n",
       "      <th>executionDateTime</th>\n",
       "      <th>policyId</th>\n",
       "      <th>policyVersion</th>\n",
       "      <th>decisionResult</th>\n",
       "      <th>canal</th>\n",
       "      <th>ingreso</th>\n",
       "      <th>nombreApellido</th>\n",
       "      <th>nroDoc</th>\n",
       "      <th>...</th>\n",
       "      <th>veraz_observacionesMontoCerrada1m</th>\n",
       "      <th>veraz_observacionesMontoCerrada24m</th>\n",
       "      <th>veraz_peorSituacionBureau4m</th>\n",
       "      <th>veraz_peorSituacionBureau5a12m</th>\n",
       "      <th>veraz_peorStatus12</th>\n",
       "      <th>veraz_peorStatusActual</th>\n",
       "      <th>veraz_poblacion</th>\n",
       "      <th>veraz_score</th>\n",
       "      <th>veraz_validado</th>\n",
       "      <th>decision_filtered</th>\n",
       "    </tr>\n",
       "  </thead>\n",
       "  <tbody>\n",
       "    <tr>\n",
       "      <th>2</th>\n",
       "      <td>117136</td>\n",
       "      <td>02/08/2017</td>\n",
       "      <td>17:19</td>\n",
       "      <td>10</td>\n",
       "      <td>0</td>\n",
       "      <td>OK|Pasa Cuit valido, edad valida, sin juicios ...</td>\n",
       "      <td>NaN</td>\n",
       "      <td>NaN</td>\n",
       "      <td>RAMOS CARLOS HERNAN</td>\n",
       "      <td>20000250.0</td>\n",
       "      <td>...</td>\n",
       "      <td>NaN</td>\n",
       "      <td>NaN</td>\n",
       "      <td>NaN</td>\n",
       "      <td>NaN</td>\n",
       "      <td>NaN</td>\n",
       "      <td>NaN</td>\n",
       "      <td>NaN</td>\n",
       "      <td>NaN</td>\n",
       "      <td>NaN</td>\n",
       "      <td>OK</td>\n",
       "    </tr>\n",
       "    <tr>\n",
       "      <th>3</th>\n",
       "      <td>117137</td>\n",
       "      <td>02/08/2017</td>\n",
       "      <td>17:20</td>\n",
       "      <td>10</td>\n",
       "      <td>0</td>\n",
       "      <td>OK|Pasa Cuit valido, edad valida, sin juicios ...</td>\n",
       "      <td>NaN</td>\n",
       "      <td>NaN</td>\n",
       "      <td>RAMOS CARLOS HERNAN</td>\n",
       "      <td>20000250.0</td>\n",
       "      <td>...</td>\n",
       "      <td>NaN</td>\n",
       "      <td>NaN</td>\n",
       "      <td>NaN</td>\n",
       "      <td>NaN</td>\n",
       "      <td>NaN</td>\n",
       "      <td>NaN</td>\n",
       "      <td>NaN</td>\n",
       "      <td>NaN</td>\n",
       "      <td>NaN</td>\n",
       "      <td>OK</td>\n",
       "    </tr>\n",
       "    <tr>\n",
       "      <th>4</th>\n",
       "      <td>117140</td>\n",
       "      <td>02/08/2017</td>\n",
       "      <td>17:24</td>\n",
       "      <td>10</td>\n",
       "      <td>0</td>\n",
       "      <td>OK|Pasa Cuit valido, edad valida, sin juicios ...</td>\n",
       "      <td>NaN</td>\n",
       "      <td>NaN</td>\n",
       "      <td>PETERSEN GUILLERMO FEDERICO</td>\n",
       "      <td>32201724.0</td>\n",
       "      <td>...</td>\n",
       "      <td>NaN</td>\n",
       "      <td>NaN</td>\n",
       "      <td>NaN</td>\n",
       "      <td>NaN</td>\n",
       "      <td>NaN</td>\n",
       "      <td>NaN</td>\n",
       "      <td>NaN</td>\n",
       "      <td>NaN</td>\n",
       "      <td>NaN</td>\n",
       "      <td>OK</td>\n",
       "    </tr>\n",
       "  </tbody>\n",
       "</table>\n",
       "<p>3 rows × 245 columns</p>\n",
       "</div>"
      ],
      "text/plain": [
       "   executionId executionDate executionDateTime  policyId  policyVersion  \\\n",
       "2       117136    02/08/2017             17:19        10              0   \n",
       "3       117137    02/08/2017             17:20        10              0   \n",
       "4       117140    02/08/2017             17:24        10              0   \n",
       "\n",
       "                                      decisionResult canal  ingreso  \\\n",
       "2  OK|Pasa Cuit valido, edad valida, sin juicios ...   NaN      NaN   \n",
       "3  OK|Pasa Cuit valido, edad valida, sin juicios ...   NaN      NaN   \n",
       "4  OK|Pasa Cuit valido, edad valida, sin juicios ...   NaN      NaN   \n",
       "\n",
       "                nombreApellido      nroDoc  ...  \\\n",
       "2          RAMOS CARLOS HERNAN  20000250.0  ...   \n",
       "3          RAMOS CARLOS HERNAN  20000250.0  ...   \n",
       "4  PETERSEN GUILLERMO FEDERICO  32201724.0  ...   \n",
       "\n",
       "  veraz_observacionesMontoCerrada1m veraz_observacionesMontoCerrada24m  \\\n",
       "2                               NaN                                NaN   \n",
       "3                               NaN                                NaN   \n",
       "4                               NaN                                NaN   \n",
       "\n",
       "  veraz_peorSituacionBureau4m veraz_peorSituacionBureau5a12m  \\\n",
       "2                         NaN                            NaN   \n",
       "3                         NaN                            NaN   \n",
       "4                         NaN                            NaN   \n",
       "\n",
       "  veraz_peorStatus12 veraz_peorStatusActual veraz_poblacion  veraz_score  \\\n",
       "2                NaN                    NaN             NaN          NaN   \n",
       "3                NaN                    NaN             NaN          NaN   \n",
       "4                NaN                    NaN             NaN          NaN   \n",
       "\n",
       "   veraz_validado  decision_filtered  \n",
       "2             NaN                 OK  \n",
       "3             NaN                 OK  \n",
       "4             NaN                 OK  \n",
       "\n",
       "[3 rows x 245 columns]"
      ]
     },
     "execution_count": 12,
     "metadata": {},
     "output_type": "execute_result"
    }
   ],
   "source": [
    "df.head(3)"
   ]
  },
  {
   "cell_type": "code",
   "execution_count": 13,
   "metadata": {},
   "outputs": [
    {
     "data": {
      "text/plain": [
       "(23364, 221)"
      ]
     },
     "execution_count": 13,
     "metadata": {},
     "output_type": "execute_result"
    }
   ],
   "source": [
    "# Genero un dataframe  de un subset de columnas (variables de salida de los bureau's). \n",
    "df_variables_select = df.filter(regex=r'(siisa*|veraz*|nosis*)')\n",
    "df_variables_select.shape"
   ]
  },
  {
   "cell_type": "code",
   "execution_count": 14,
   "metadata": {},
   "outputs": [
    {
     "data": {
      "text/html": [
       "<div>\n",
       "<style scoped>\n",
       "    .dataframe tbody tr th:only-of-type {\n",
       "        vertical-align: middle;\n",
       "    }\n",
       "\n",
       "    .dataframe tbody tr th {\n",
       "        vertical-align: top;\n",
       "    }\n",
       "\n",
       "    .dataframe thead th {\n",
       "        text-align: right;\n",
       "    }\n",
       "</style>\n",
       "<table border=\"1\" class=\"dataframe\">\n",
       "  <thead>\n",
       "    <tr style=\"text-align: right;\">\n",
       "      <th></th>\n",
       "      <th>nosis_24mBCRAcant1</th>\n",
       "      <th>nosis_24mBCRAcantMora</th>\n",
       "      <th>nosis_24mBCRAmaxSit</th>\n",
       "      <th>nosis_24mBCRAmonto1</th>\n",
       "      <th>nosis_24mBCRAmontoMora</th>\n",
       "      <th>nosis_6mBCRAcant1</th>\n",
       "      <th>nosis_6mBCRAcantMora</th>\n",
       "      <th>nosis_6mBCRAmaxSit</th>\n",
       "      <th>nosis_6mBCRAmonto1</th>\n",
       "      <th>nosis_6mBCRAmontoMora</th>\n",
       "      <th>...</th>\n",
       "      <th>veraz_observacionesConqui60m</th>\n",
       "      <th>veraz_observacionesMontoCerrada1m</th>\n",
       "      <th>veraz_observacionesMontoCerrada24m</th>\n",
       "      <th>veraz_peorSituacionBureau4m</th>\n",
       "      <th>veraz_peorSituacionBureau5a12m</th>\n",
       "      <th>veraz_peorStatus12</th>\n",
       "      <th>veraz_peorStatusActual</th>\n",
       "      <th>veraz_poblacion</th>\n",
       "      <th>veraz_score</th>\n",
       "      <th>veraz_validado</th>\n",
       "    </tr>\n",
       "  </thead>\n",
       "  <tbody>\n",
       "    <tr>\n",
       "      <th>2</th>\n",
       "      <td>0.0</td>\n",
       "      <td>0.0</td>\n",
       "      <td>0.0</td>\n",
       "      <td>0.0</td>\n",
       "      <td>0.0</td>\n",
       "      <td>0.0</td>\n",
       "      <td>0.0</td>\n",
       "      <td>0.0</td>\n",
       "      <td>0.0</td>\n",
       "      <td>0.0</td>\n",
       "      <td>...</td>\n",
       "      <td>NaN</td>\n",
       "      <td>NaN</td>\n",
       "      <td>NaN</td>\n",
       "      <td>NaN</td>\n",
       "      <td>NaN</td>\n",
       "      <td>NaN</td>\n",
       "      <td>NaN</td>\n",
       "      <td>NaN</td>\n",
       "      <td>NaN</td>\n",
       "      <td>NaN</td>\n",
       "    </tr>\n",
       "    <tr>\n",
       "      <th>3</th>\n",
       "      <td>0.0</td>\n",
       "      <td>0.0</td>\n",
       "      <td>0.0</td>\n",
       "      <td>0.0</td>\n",
       "      <td>0.0</td>\n",
       "      <td>0.0</td>\n",
       "      <td>0.0</td>\n",
       "      <td>0.0</td>\n",
       "      <td>0.0</td>\n",
       "      <td>0.0</td>\n",
       "      <td>...</td>\n",
       "      <td>NaN</td>\n",
       "      <td>NaN</td>\n",
       "      <td>NaN</td>\n",
       "      <td>NaN</td>\n",
       "      <td>NaN</td>\n",
       "      <td>NaN</td>\n",
       "      <td>NaN</td>\n",
       "      <td>NaN</td>\n",
       "      <td>NaN</td>\n",
       "      <td>NaN</td>\n",
       "    </tr>\n",
       "    <tr>\n",
       "      <th>4</th>\n",
       "      <td>0.0</td>\n",
       "      <td>0.0</td>\n",
       "      <td>0.0</td>\n",
       "      <td>0.0</td>\n",
       "      <td>0.0</td>\n",
       "      <td>0.0</td>\n",
       "      <td>0.0</td>\n",
       "      <td>0.0</td>\n",
       "      <td>0.0</td>\n",
       "      <td>0.0</td>\n",
       "      <td>...</td>\n",
       "      <td>NaN</td>\n",
       "      <td>NaN</td>\n",
       "      <td>NaN</td>\n",
       "      <td>NaN</td>\n",
       "      <td>NaN</td>\n",
       "      <td>NaN</td>\n",
       "      <td>NaN</td>\n",
       "      <td>NaN</td>\n",
       "      <td>NaN</td>\n",
       "      <td>NaN</td>\n",
       "    </tr>\n",
       "  </tbody>\n",
       "</table>\n",
       "<p>3 rows × 221 columns</p>\n",
       "</div>"
      ],
      "text/plain": [
       "   nosis_24mBCRAcant1  nosis_24mBCRAcantMora  nosis_24mBCRAmaxSit  \\\n",
       "2                 0.0                    0.0                  0.0   \n",
       "3                 0.0                    0.0                  0.0   \n",
       "4                 0.0                    0.0                  0.0   \n",
       "\n",
       "   nosis_24mBCRAmonto1  nosis_24mBCRAmontoMora  nosis_6mBCRAcant1  \\\n",
       "2                  0.0                     0.0                0.0   \n",
       "3                  0.0                     0.0                0.0   \n",
       "4                  0.0                     0.0                0.0   \n",
       "\n",
       "   nosis_6mBCRAcantMora  nosis_6mBCRAmaxSit  nosis_6mBCRAmonto1  \\\n",
       "2                   0.0                 0.0                 0.0   \n",
       "3                   0.0                 0.0                 0.0   \n",
       "4                   0.0                 0.0                 0.0   \n",
       "\n",
       "   nosis_6mBCRAmontoMora  ...  veraz_observacionesConqui60m  \\\n",
       "2                    0.0  ...                           NaN   \n",
       "3                    0.0  ...                           NaN   \n",
       "4                    0.0  ...                           NaN   \n",
       "\n",
       "   veraz_observacionesMontoCerrada1m  veraz_observacionesMontoCerrada24m  \\\n",
       "2                                NaN                                 NaN   \n",
       "3                                NaN                                 NaN   \n",
       "4                                NaN                                 NaN   \n",
       "\n",
       "  veraz_peorSituacionBureau4m veraz_peorSituacionBureau5a12m  \\\n",
       "2                         NaN                            NaN   \n",
       "3                         NaN                            NaN   \n",
       "4                         NaN                            NaN   \n",
       "\n",
       "  veraz_peorStatus12  veraz_peorStatusActual  veraz_poblacion  veraz_score  \\\n",
       "2                NaN                     NaN              NaN          NaN   \n",
       "3                NaN                     NaN              NaN          NaN   \n",
       "4                NaN                     NaN              NaN          NaN   \n",
       "\n",
       "   veraz_validado  \n",
       "2             NaN  \n",
       "3             NaN  \n",
       "4             NaN  \n",
       "\n",
       "[3 rows x 221 columns]"
      ]
     },
     "execution_count": 14,
     "metadata": {},
     "output_type": "execute_result"
    }
   ],
   "source": [
    "df_variables_select.head(3)"
   ]
  },
  {
   "cell_type": "code",
   "execution_count": 15,
   "metadata": {},
   "outputs": [
    {
     "name": "stdout",
     "output_type": "stream",
     "text": [
      "float64 nosis_24mBCRAcant1\n",
      "float64 nosis_24mBCRAcantMora\n",
      "float64 nosis_24mBCRAmaxSit\n",
      "float64 nosis_24mBCRAmonto1\n",
      "float64 nosis_24mBCRAmontoMora\n",
      "float64 nosis_6mBCRAcant1\n",
      "float64 nosis_6mBCRAcantMora\n",
      "float64 nosis_6mBCRAmaxSit\n",
      "float64 nosis_6mBCRAmonto1\n",
      "float64 nosis_6mBCRAmontoMora\n",
      "float64 nosis_abonadosCant12\n",
      "float64 nosis_abonadosCant24\n",
      "float64 nosis_abonadosCant6\n",
      "object nosis_abonadosMonto12\n",
      "object nosis_abonadosMonto24\n",
      "object nosis_abonadosMonto6\n",
      "float64 nosis_actividad\n",
      "float64 nosis_actividadFecha\n",
      "float64 nosis_AfipFech\n",
      "float64 nosis_aportesEmpleadoCantPeriodos\n",
      "float64 nosis_aportesEmpleadoMaxPeriodo\n",
      "float64 nosis_aportesEmpleadorCantPeriodos\n",
      "float64 nosis_aportesEmpleadorMaxPeriodo\n",
      "object nosis_autonomoCat\n",
      "float64 nosis_balanceActivoCte\n",
      "float64 nosis_balanceActivoNoCte\n",
      "float64 nosis_balanceEjercicio\n",
      "float64 nosis_balanceFecha\n",
      "float64 nosis_balancePasivoCte\n",
      "float64 nosis_balancePasivoNoCte\n",
      "float64 nosis_balancePatrimonioNeto\n",
      "float64 nosis_balanceVentas\n",
      "float64 nosis_BCRAcant1\n",
      "float64 nosis_BCRAcant2\n",
      "float64 nosis_BCRAcant3\n",
      "float64 nosis_BCRAcant4\n",
      "float64 nosis_BCRAcant5\n",
      "float64 nosis_BCRAcant6\n",
      "float64 nosis_BCRAcantMora\n",
      "float64 nosis_BCRAmaxSit\n",
      "float64 nosis_BCRAmonto1\n",
      "float64 nosis_BCRAmonto2\n",
      "float64 nosis_BCRAmonto3\n",
      "float64 nosis_BCRAmonto4\n",
      "float64 nosis_BCRAmonto5\n",
      "float64 nosis_BCRAmonto6\n",
      "float64 nosis_BCRAmontoMora\n",
      "object nosis_cache_resultado\n",
      "object nosis_cacheHit\n",
      "float64 nosis_chequesPositivos12\n",
      "float64 nosis_chequesPositivos24\n",
      "float64 nosis_chequesPositivos6\n",
      "float64 nosis_chequesPositivosMonto12\n",
      "object nosis_chequesPositivosMonto24\n",
      "object nosis_chequesPositivosMonto6\n",
      "float64 nosis_compromiso\n",
      "object nosis_consultaError\n",
      "float64 nosis_consultas\n",
      "float64 nosis_ContSocFech\n",
      "float64 nosis_cuit\n",
      "float64 nosis_deudasFiscalesCant\n",
      "float64 nosis_deudasFiscalesMonto\n",
      "float64 nosis_deudasPrevisionales\n",
      "object nosis_domAlternativo\n",
      "object nosis_domFicalCalle\n",
      "float64 nosis_domFicalCp\n",
      "object nosis_domFicalLocalidad\n",
      "object nosis_domFicalProvincia\n",
      "float64 nosis_edad\n",
      "float64 nosis_embargosCant\n",
      "float64 nosis_embargosLevCant\n",
      "float64 nosis_embargosLevMonto\n",
      "float64 nosis_embargosMonto\n",
      "float64 nosis_empleadosCant\n",
      "object nosis_extrasOK\n",
      "float64 nosis_facturasApocrifas\n",
      "object nosis_jubilado\n",
      "float64 nosis_juiciosCant\n",
      "object nosis_llamado\n",
      "object nosis_monotributoCat\n",
      "object nosis_nse\n",
      "float64 nosis_rechazadosCant12\n",
      "float64 nosis_rechazadosCant24\n",
      "float64 nosis_rechazadosCant6\n",
      "object nosis_rechazadosMonto12\n",
      "object nosis_rechazadosMonto24\n",
      "object nosis_rechazadosMonto6\n",
      "float64 nosis_referenciasComerciales\n",
      "float64 nosis_referenciasTarjetas\n",
      "object nosis_relDep\n",
      "float64 nosis_relDepAnt\n",
      "float64 nosis_relDepCuit\n",
      "object nosis_relDepRazon\n",
      "float64 nosis_score\n",
      "float64 nosis_seguimientosPerm\n",
      "float64 nosis_seguimientosTmp\n",
      "object nosis_sexo\n",
      "float64 nosis_sinFondoCant12\n",
      "float64 nosis_sinFondoCant24\n",
      "float64 nosis_sinFondoCant6\n",
      "object nosis_sinFondoMonto12\n",
      "object nosis_sinFondoMonto24\n",
      "object nosis_sinFondoMonto6\n",
      "float64 nosisMesesAntiguedad\n",
      "object siisa_apellidoNombre\n",
      "object siisa_autonomo\n",
      "float64 siisa_autonomoMeses\n",
      "float64 siisa_bacCompromiso\n",
      "object siisa_cacheHit\n",
      "float64 siisa_cant1s\n",
      "float64 siisa_cant2s\n",
      "float64 siisa_cant3s\n",
      "float64 siisa_cant4s\n",
      "float64 siisa_cant5s\n",
      "float64 siisa_cant6s\n",
      "float64 siisa_cantCheques\n",
      "float64 siisa_cantMoras\n",
      "float64 siisa_cantMorasBCRA\n",
      "object siisa_codR\n",
      "object siisa_compromiso\n",
      "object siisa_concursosQuiebras\n",
      "object siisa_consultaError\n",
      "float64 siisa_consultasAno\n",
      "float64 siisa_consultasDia\n",
      "float64 siisa_consultasDosAno\n",
      "float64 siisa_consultasMes\n",
      "float64 siisa_consultasSeisMeses\n",
      "float64 siisa_consultasSemana\n",
      "float64 siisa_consultasTresMeses\n",
      "float64 siisa_cuil\n",
      "float64 siisa_cuitsCheques\n",
      "float64 siisa_direccion\n",
      "object siisa_domValidado\n",
      "float64 siisa_Dup1\n",
      "float64 siisa_Dup2\n",
      "float64 siisa_Dup3\n",
      "float64 siisa_Dup4\n",
      "float64 siisa_DupCuil1\n",
      "float64 siisa_DupCuil2\n",
      "float64 siisa_DupCuil3\n",
      "float64 siisa_DupCuil4\n",
      "object siisa_fallecido\n",
      "object siisa_fnac\n",
      "object siisa_fraudes\n",
      "float64 siisa_grupoFamiliar\n",
      "float64 siisa_ingreso\n",
      "object siisa_jubilado\n",
      "object siisa_llamado\n",
      "object siisa_locValidada\n",
      "float64 siisa_maxBCRA\n",
      "float64 siisa_maxBCRA12m\n",
      "float64 siisa_maxBCRA24m\n",
      "float64 siisa_maxBCRA6m\n",
      "object siisa_monotributo\n",
      "float64 siisa_monotributoCategoria\n",
      "float64 siisa_monto1s\n",
      "float64 siisa_monto2s\n",
      "float64 siisa_monto3s\n",
      "float64 siisa_monto4s\n",
      "float64 siisa_monto5s\n",
      "float64 siisa_monto6s\n",
      "float64 siisa_montoMorasBCRA\n",
      "float64 siisa_morasEntidades\n",
      "object siisa_morasEntidadesBcra\n",
      "object siisa_morasRazones\n",
      "object siisa_morasRazonesBcra\n",
      "float64 siisa_nroDoc\n",
      "float64 siisa_operaYcumple\n",
      "object siisa_provValidada\n",
      "object siisa_relDep\n",
      "float64 siisa_relDepCuit\n",
      "float64 siisa_relDepDir\n",
      "float64 siisa_relDepMeses\n",
      "float64 siisa_relDepRazon\n",
      "float64 siisa_relDepTel\n",
      "float64 siisa_score\n",
      "object siisa_scorePoblacion\n",
      "float64 siisa_sectorLaboral\n",
      "float64 siisa_sesCat\n",
      "float64 siisa_sesModelo\n",
      "object siisa_sexo\n",
      "float64 siisa_subsectorLaboral\n",
      "float64 siisa_telefono\n",
      "object siisa_telValidado\n",
      "object veraz_cacheHit\n",
      "float64 veraz_cantCheq12\n",
      "float64 veraz_cantConcursos60\n",
      "float64 veraz_cantJuicios12\n",
      "float64 veraz_cantMoraAbierta24\n",
      "object veraz_consultaError\n",
      "float64 veraz_consumoConsFin12m\n",
      "float64 veraz_consumoConsFin1m\n",
      "float64 veraz_consumoConsNoFin1m\n",
      "float64 veraz_consumoPreActivos\n",
      "float64 veraz_consumoPreCompromiso\n",
      "float64 veraz_consumoPreMora\n",
      "float64 veraz_consumoPreSaldo\n",
      "float64 veraz_consumoPreTotal\n",
      "float64 veraz_consumoPreVencidos\n",
      "float64 veraz_consumoTarActivas\n",
      "float64 veraz_consumoTarActivasMora\n",
      "float64 veraz_consumoTarCuotas\n",
      "float64 veraz_consumoTarMaxAntig\n",
      "float64 veraz_consumoTarMaxAntigAct\n",
      "float64 veraz_consumoTarSumLimite\n",
      "float64 veraz_consumoTarSumMinimo\n",
      "float64 veraz_consumoTarSumSaldo\n",
      "float64 veraz_cuit\n",
      "object veraz_llamado\n",
      "float64 veraz_observaciones12m\n",
      "float64 veraz_observaciones24m\n",
      "float64 veraz_observacionesConqui60m\n",
      "float64 veraz_observacionesMontoCerrada1m\n",
      "float64 veraz_observacionesMontoCerrada24m\n",
      "float64 veraz_peorSituacionBureau4m\n",
      "float64 veraz_peorSituacionBureau5a12m\n",
      "float64 veraz_peorStatus12\n",
      "float64 veraz_peorStatusActual\n",
      "object veraz_poblacion\n",
      "float64 veraz_score\n",
      "object veraz_validado\n"
     ]
    }
   ],
   "source": [
    "for column in df_variables_select.columns:\n",
    "    print(df_variables_select[column].dtype,column)"
   ]
  },
  {
   "cell_type": "code",
   "execution_count": 16,
   "metadata": {},
   "outputs": [],
   "source": [
    "# Descarto todas las variables categoricas.\n",
    "df_variables_select=df_variables_select.drop(df_variables_select.select_dtypes(['object','bool']), axis=1)"
   ]
  },
  {
   "cell_type": "code",
   "execution_count": 17,
   "metadata": {},
   "outputs": [],
   "source": [
    "# Calculo la correlacion de todas las variables.\n",
    "corr=df_variables_select.corr()"
   ]
  },
  {
   "cell_type": "code",
   "execution_count": 18,
   "metadata": {},
   "outputs": [],
   "source": [
    "# procedimiento para separa la matriz cuadrada de correlaciones de modo de mejorar la visualizacion.\n",
    "def get_redundant_pairs(df):\n",
    "    '''Get diagonal and lower triangular pairs of correlation matrix'''\n",
    "    pairs_to_drop = set()\n",
    "    cols = df.columns\n",
    "    for i in range(0, df.shape[1]):\n",
    "        for j in range(0, i+1):\n",
    "            pairs_to_drop.add((cols[i], cols[j]))\n",
    "    return pairs_to_drop\n",
    "\n",
    "def get_top_abs_correlations(df, n=5):\n",
    "    au_corr = df.corr().abs().unstack()\n",
    "    labels_to_drop = get_redundant_pairs(df)\n",
    "    au_corr = au_corr.drop(labels=labels_to_drop).sort_values(ascending=False)\n",
    "    return au_corr[0:n]\n"
   ]
  },
  {
   "cell_type": "code",
   "execution_count": 19,
   "metadata": {},
   "outputs": [
    {
     "name": "stdout",
     "output_type": "stream",
     "text": [
      "Top Absolute Correlations\n"
     ]
    },
    {
     "data": {
      "text/plain": [
       "siisa_cant6s                       siisa_monto6s                         1.000000\n",
       "nosisMesesAntiguedad               siisa_cuitsCheques                    1.000000\n",
       "nosis_rechazadosCant12             nosis_sinFondoCant12                  1.000000\n",
       "nosis_rechazadosCant6              nosis_sinFondoCant6                   1.000000\n",
       "nosis_rechazadosCant24             nosis_sinFondoCant24                  0.999576\n",
       "nosis_relDepAnt                    nosisMesesAntiguedad                  0.997870\n",
       "siisa_monto5s                      siisa_montoMorasBCRA                  0.997017\n",
       "nosis_aportesEmpleadorMaxPeriodo   veraz_observaciones24m                0.996204\n",
       "                                   veraz_observacionesMontoCerrada24m    0.996204\n",
       "                                   veraz_consumoPreVencidos              0.996204\n",
       "nosis_relDepCuit                   nosisMesesAntiguedad                  0.985345\n",
       "nosis_abonadosCant24               nosis_sinFondoCant24                  0.978505\n",
       "                                   nosis_rechazadosCant24                0.974010\n",
       "nosis_aportesEmpleadorMaxPeriodo   nosis_cuit                            0.961413\n",
       "siisa_cuitsCheques                 veraz_consumoPreMora                  0.955617\n",
       "nosis_chequesPositivos12           nosis_chequesPositivosMonto12         0.931096\n",
       "nosis_24mBCRAcant1                 nosis_6mBCRAcant1                     0.913521\n",
       "nosis_BCRAmonto1                   nosis_seguimientosTmp                 0.903239\n",
       "nosis_aportesEmpleadorMaxPeriodo   nosis_juiciosCant                     0.896124\n",
       "siisa_maxBCRA                      siisa_maxBCRA6m                       0.870883\n",
       "nosis_abonadosCant12               nosis_rechazadosCant12                0.868961\n",
       "                                   nosis_sinFondoCant12                  0.868961\n",
       "nosis_abonadosCant6                nosis_sinFondoCant6                   0.867856\n",
       "                                   nosis_rechazadosCant6                 0.867856\n",
       "nosis_BCRAmonto2                   nosis_BCRAmontoMora                   0.866723\n",
       "nosis_24mBCRAmonto1                nosis_6mBCRAmonto1                    0.858044\n",
       "nosis_BCRAmonto4                   siisa_monto4s                         0.850852\n",
       "nosis_abonadosCant12               nosis_chequesPositivos12              0.848837\n",
       "nosis_BCRAmonto5                   siisa_monto5s                         0.844726\n",
       "nosis_BCRAcant4                    siisa_cant4s                          0.844332\n",
       "                                                                           ...   \n",
       "siisa_cant4s                       siisa_monto4s                         0.692311\n",
       "nosis_BCRAcant5                    nosis_BCRAmonto5                      0.685838\n",
       "siisa_cant4s                       siisa_cantMorasBCRA                   0.684360\n",
       "nosis_aportesEmpleadoCantPeriodos  nosisMesesAntiguedad                  0.682894\n",
       "nosis_24mBCRAcantMora              nosis_24mBCRAmaxSit                   0.679843\n",
       "nosis_BCRAcant2                    nosis_BCRAcantMora                    0.672921\n",
       "nosis_aportesEmpleadorMaxPeriodo   nosis_edad                            0.668551\n",
       "nosis_24mBCRAmaxSit                nosis_6mBCRAmaxSit                    0.668265\n",
       "nosis_BCRAcant4                    nosis_BCRAmonto4                      0.660567\n",
       "nosis_6mBCRAcant1                  nosis_BCRAcant1                       0.653545\n",
       "nosis_BCRAcant2                    siisa_cant2s                          0.649284\n",
       "siisa_cant5s                       siisa_maxBCRA                         0.648989\n",
       "veraz_observaciones24m             veraz_observacionesMontoCerrada24m    0.643739\n",
       "nosis_BCRAmonto2                   siisa_monto2s                         0.643112\n",
       "nosis_24mBCRAmontoMora             nosis_6mBCRAmontoMora                 0.641564\n",
       "nosis_BCRAcant3                    nosis_BCRAmonto3                      0.640321\n",
       "nosis_6mBCRAcantMora               nosis_6mBCRAmontoMora                 0.636727\n",
       "nosis_24mBCRAcantMora              nosis_6mBCRAmaxSit                    0.635995\n",
       "nosis_cuit                         siisa_cuil                            0.633006\n",
       "nosis_6mBCRAcantMora               nosis_6mBCRAmaxSit                    0.630724\n",
       "nosis_BCRAcant4                    siisa_monto4s                         0.627179\n",
       "siisa_cant5s                       siisa_cantMorasBCRA                   0.623813\n",
       "nosis_6mBCRAcant1                  nosis_6mBCRAmonto1                    0.622629\n",
       "siisa_cantMorasBCRA                siisa_maxBCRA6m                       0.621404\n",
       "siisa_maxBCRA24m                   siisa_maxBCRA6m                       0.612022\n",
       "nosis_aportesEmpleadorMaxPeriodo   veraz_consumoPreMora                  0.611058\n",
       "nosis_aportesEmpleadoCantPeriodos  nosis_aportesEmpleadorMaxPeriodo      0.604988\n",
       "siisa_cant3s                       siisa_cantMorasBCRA                   0.604754\n",
       "nosis_abonadosCant24               nosis_chequesPositivos24              0.601238\n",
       "nosis_6mBCRAcantMora               veraz_peorStatusActual                0.600353\n",
       "Length: 83, dtype: float64"
      ]
     },
     "execution_count": 19,
     "metadata": {},
     "output_type": "execute_result"
    }
   ],
   "source": [
    "# Imprimo las variables mas correlacionadas tomando un valor de corte igual a 0.6.\n",
    "\n",
    "a=get_top_abs_correlations(df_variables_select, 10000)\n",
    "a=a.dropna()\n",
    "# cutoff de correlacion.\n",
    "a_filter=a[a.values > 0.6]\n",
    "# Guardo un archivo de correlacion.\n",
    "a_filter.to_csv('corr_cliente 113-Politica10.csv', header=True)\n",
    "print(\"Top Absolute Correlations\")\n",
    "\n",
    "a_filter"
   ]
  },
  {
   "cell_type": "markdown",
   "metadata": {},
   "source": [
    "## Scores \n",
    "El proposito de los graficos a continuacion es evaluar el desempenio de cada score y compararlos entre si modo tal de ver alguna tendencia.\n",
    "\n",
    "\n"
   ]
  },
  {
   "cell_type": "code",
   "execution_count": 20,
   "metadata": {},
   "outputs": [],
   "source": [
    "# Evaluo que existan todos los pares xy para evaluar scores.\n",
    "df_scores=df[['siisa_score','veraz_score','nosis_score']]"
   ]
  },
  {
   "cell_type": "code",
   "execution_count": 21,
   "metadata": {},
   "outputs": [
    {
     "data": {
      "text/plain": [
       "(18206, 3)"
      ]
     },
     "execution_count": 21,
     "metadata": {},
     "output_type": "execute_result"
    }
   ],
   "source": [
    "df_scores=df_scores.dropna()\n",
    "df_scores.shape"
   ]
  },
  {
   "cell_type": "markdown",
   "metadata": {},
   "source": [
    "\n",
    "### nosis vs siisa:"
   ]
  },
  {
   "cell_type": "code",
   "execution_count": 26,
   "metadata": {},
   "outputs": [
    {
     "name": "stdout",
     "output_type": "stream",
     "text": [
      "(0.0, 0.2]    8200\n",
      "(0.6, 0.8]    4677\n",
      "(0.8, 1.0]    4672\n",
      "(0.4, 0.6]    4670\n",
      "(0.2, 0.4]    1145\n",
      "dtype: int64\n",
      "(0.2, 0.4]    4713\n",
      "(0.4, 0.6]    4689\n",
      "(0.8, 1.0]    4677\n",
      "(0.6, 0.8]    4666\n",
      "(0.0, 0.2]    4619\n",
      "dtype: int64\n",
      "(0.0, 0.2]    4681\n",
      "(0.6, 0.8]    4675\n",
      "(0.8, 1.0]    4673\n",
      "(0.4, 0.6]    4673\n",
      "(0.2, 0.4]    4662\n",
      "dtype: int64\n"
     ]
    }
   ],
   "source": [
    "# agrego la columna de clase.\n",
    "#df_variables_select['decision_filtered'] = df.decision_filtered\n",
    "#sns.lmplot( data=df_variables_select, x='nosis_score', y='siisa_score', fit_reg=False, hue='decision_filtered', legend=True)\n",
    "#a=pd.qcut(df_scores.nosis_score, 5)\n",
    "#a = pd.qcut(df_scores.nosis_score, 10)\n",
    "#nosis_score = pd.qcut(df_scores.nosis_score, 5) \n",
    "#df_variables_select.nosis_score\n",
    "#df_scores.nosibs_score\n",
    "from scipy import stats\n",
    "rank_array_nosis=stats.rankdata(df_variables_select.nosis_score.to_numpy(), \"average\")/len(df_variables_select.nosis_score.to_numpy())\n",
    "rank_array_siisa=stats.rankdata(df_variables_select.siisa_score.to_numpy(), \"average\")/len(df_variables_select.siisa_score.to_numpy())\n",
    "rank_array_veraz=stats.rankdata(df_variables_select.veraz_score.to_numpy(), \"average\")/len(df_variables_select.veraz_score.to_numpy())\n",
    "\n",
    "bins= [0, 0.2, 0.4, 0.6, 0.8, 1.0]\n",
    "nosis_score= pd.cut(rank_array_nosis,bins)\n",
    "siisa_score= pd.cut(rank_array_siisa,bins)\n",
    "veraz_score= pd.cut(rank_array_veraz,bins)\n",
    "\n",
    "print(pd.value_counts(nosis_score))\n",
    "print(pd.value_counts(siisa_score))\n",
    "print(pd.value_counts(veraz_score))"
   ]
  },
  {
   "cell_type": "code",
   "execution_count": 29,
   "metadata": {},
   "outputs": [
    {
     "data": {
      "image/png": "[encoded data removed]",
      "text/plain": [
       "<Figure size 432x288 with 2 Axes>"
      ]
     },
     "metadata": {},
     "output_type": "display_data"
    }
   ],
   "source": [
    "from sklearn.metrics import confusion_matrix\n",
    "cm = confusion_matrix(nosis_score.codes, siisa_score.codes)\n",
    "ax= plt.subplot()\n",
    "sns.heatmap(cm, annot=True, ax = ax, cmap=\"Greens\"); #annot=True to annotate cells\n",
    "\n",
    "# labels, title and ticks\n",
    "ax.set_xlabel('Nosis');ax.set_ylabel('Siisa'); \n",
    "ax.set_title('Confusion Matrix'); \n",
    "ax.invert_yaxis()\n",
    "#ax.xaxis.set_ticklabels(['business', 'health']); ax.yaxis.set_ticklabels(['health', 'business']);"
   ]
  },
  {
   "cell_type": "code",
   "execution_count": 31,
   "metadata": {},
   "outputs": [
    {
     "data": {
      "image/png": "[encoded data removed]",
      "text/plain": [
       "<Figure size 432x288 with 2 Axes>"
      ]
     },
     "metadata": {},
     "output_type": "display_data"
    }
   ],
   "source": [
    "cm = confusion_matrix(veraz_score.codes, siisa_score.codes)\n",
    "ax= plt.subplot()\n",
    "sns.heatmap(cm, annot=True, ax = ax,cmap=\"Greens\"); #annot=True to annotate cells\n",
    "\n",
    "# labels, title and ticks\n",
    "ax.set_xlabel('Veraz');ax.set_ylabel('Siisa'); \n",
    "ax.set_title('Confusion Matrix'); \n",
    "ax.invert_yaxis()"
   ]
  },
  {
   "cell_type": "code",
   "execution_count": null,
   "metadata": {},
   "outputs": [],
   "source": [
    "pd.value_counts(a).sort_index()"
   ]
  },
  {
   "cell_type": "markdown",
   "metadata": {},
   "source": [
    "### veraz vs siisa\n"
   ]
  },
  {
   "cell_type": "code",
   "execution_count": null,
   "metadata": {},
   "outputs": [],
   "source": [
    "sns.lmplot( data=df_variables_select, x='veraz_score', y='siisa_score', fit_reg=False, hue='decision_filtered', legend=True)"
   ]
  },
  {
   "cell_type": "markdown",
   "metadata": {},
   "source": [
    "### nosis vs veraz"
   ]
  },
  {
   "cell_type": "code",
   "execution_count": null,
   "metadata": {},
   "outputs": [],
   "source": [
    "sns.lmplot( data=df_variables_select, x='nosis_score', y='veraz_score', fit_reg=False, hue='decision_filtered', legend=True)"
   ]
  }
 ],
 "metadata": {
  "kernelspec": {
   "display_name": "Python 3",
   "language": "python",
   "name": "python3"
  },
  "language_info": {
   "codemirror_mode": {
    "name": "ipython",
    "version": 3
   },
   "file_extension": ".py",
   "mimetype": "text/x-python",
   "name": "python",
   "nbconvert_exporter": "python",
   "pygments_lexer": "ipython3",
   "version": "3.7.3"
  }
 },
 "nbformat": 4,
 "nbformat_minor": 2
}
